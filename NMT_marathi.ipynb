{
  "nbformat": 4,
  "nbformat_minor": 0,
  "metadata": {
    "accelerator": "GPU",
    "colab": {
      "name": "NMT_marathi.ipynb",
      "provenance": [],
      "collapsed_sections": [],
      "toc_visible": true
    },
    "kernelspec": {
      "display_name": "Python 3",
      "language": "python",
      "name": "python3"
    },
    "language_info": {
      "codemirror_mode": {
        "name": "ipython",
        "version": 3
      },
      "file_extension": ".py",
      "mimetype": "text/x-python",
      "name": "python",
      "nbconvert_exporter": "python",
      "pygments_lexer": "ipython3",
      "version": "3.7.6"
    }
  },
  "cells": [
    {
      "cell_type": "markdown",
      "metadata": {
        "id": "zWF6N7LVNxtG"
      },
      "source": [
        "# Implementation of NMT"
      ]
    },
    {
      "cell_type": "markdown",
      "metadata": {
        "id": "1rUdbLA_N3-G"
      },
      "source": [
        "### Importing libraries"
      ]
    },
    {
      "cell_type": "code",
      "metadata": {
        "id": "Fi77VZfuNhGy"
      },
      "source": [
        "import pandas as pd\r\n",
        "from sklearn.model_selection import train_test_split\r\n",
        "import string\r\n",
        "from string import digits\r\n",
        "import re\r\n",
        "from sklearn.utils import shuffle\r\n",
        "from tensorflow.keras.preprocessing.sequence import pad_sequences\r\n",
        "from tensorflow.keras.layers import LSTM, Input, Dense,Embedding, Concatenate, TimeDistributed\r\n",
        "from tensorflow.keras.models import Model,load_model, model_from_json\r\n",
        "from tensorflow.keras.utils import plot_model\r\n",
        "from tensorflow.keras.preprocessing.text import one_hot, Tokenizer\r\n",
        "from tensorflow.keras.callbacks import EarlyStopping\r\n",
        "import pickle as pkl\r\n",
        "import numpy as np"
      ],
      "execution_count": null,
      "outputs": []
    },
    {
      "cell_type": "code",
      "metadata": {
        "id": "uzU0tWSINrWp"
      },
      "source": [
        "from attention import AttentionLayer"
      ],
      "execution_count": null,
      "outputs": []
    },
    {
      "cell_type": "code",
      "metadata": {
        "id": "SrUPL-HqGMkr"
      },
      "source": [
        "# reading the dataset\n",
        "with open('mar.txt','r') as f:\n",
        "  data = f.read()"
      ],
      "execution_count": null,
      "outputs": []
    },
    {
      "cell_type": "markdown",
      "metadata": {
        "id": "PMDQCWzrN_O0"
      },
      "source": [
        "### Preprocessing"
      ]
    },
    {
      "cell_type": "code",
      "metadata": {
        "id": "Ib7_4gUZGOiy"
      },
      "source": [
        "uncleaned_data_list = data.split('\\n')"
      ],
      "execution_count": null,
      "outputs": []
    },
    {
      "cell_type": "code",
      "metadata": {
        "colab": {
          "base_uri": "https://localhost:8080/"
        },
        "id": "0XLtrvTHLfY0",
        "outputId": "1c556389-2106-4ac4-9d36-95fb33d47d2e"
      },
      "source": [
        "uncleaned_data_list"
      ],
      "execution_count": null,
      "outputs": [
        {
          "output_type": "execute_result",
          "data": {
            "text/plain": [
              "['Go.\\tजा.\\tCC-BY 2.0 (France) Attribution: tatoeba.org #2877272 (CM) & #3138228 (sabretou)',\n",
              " 'Run!\\tपळ!\\tCC-BY 2.0 (France) Attribution: tatoeba.org #906328 (papabear) & #3138217 (sabretou)',\n",
              " 'Run!\\tधाव!\\tCC-BY 2.0 (France) Attribution: tatoeba.org #906328 (papabear) & #3138218 (sabretou)',\n",
              " 'Run!\\tपळा!\\tCC-BY 2.0 (France) Attribution: tatoeba.org #906328 (papabear) & #3138219 (sabretou)',\n",
              " 'Run!\\tधावा!\\tCC-BY 2.0 (France) Attribution: tatoeba.org #906328 (papabear) & #3138220 (sabretou)',\n",
              " 'Who?\\tकोण?\\tCC-BY 2.0 (France) Attribution: tatoeba.org #2083030 (CK) & #3138225 (sabretou)',\n",
              " 'Wow!\\tवाह!\\tCC-BY 2.0 (France) Attribution: tatoeba.org #52027 (Zifre) & #6728118 (sabretou)',\n",
              " 'Fire!\\tआग!\\tCC-BY 2.0 (France) Attribution: tatoeba.org #1829639 (Spamster) & #3232248 (sabretou)',\n",
              " 'Fire!\\tफायर!\\tCC-BY 2.0 (France) Attribution: tatoeba.org #1829639 (Spamster) & #3232249 (sabretou)',\n",
              " 'Help!\\tवाचवा!\\tCC-BY 2.0 (France) Attribution: tatoeba.org #435084 (lukaszpp) & #2086003 (sabretou)',\n",
              " 'Help!\\tवाचव!\\tCC-BY 2.0 (France) Attribution: tatoeba.org #435084 (lukaszpp) & #2086004 (sabretou)',\n",
              " 'Jump!\\tउडी मार!\\tCC-BY 2.0 (France) Attribution: tatoeba.org #1102981 (jamessilver) & #3138221 (sabretou)',\n",
              " 'Jump!\\tउडी मारा!\\tCC-BY 2.0 (France) Attribution: tatoeba.org #1102981 (jamessilver) & #3138224 (sabretou)',\n",
              " 'Jump.\\tउडी मार.\\tCC-BY 2.0 (France) Attribution: tatoeba.org #631038 (Shishir) & #3138222 (sabretou)',\n",
              " 'Jump.\\tउडी मारा.\\tCC-BY 2.0 (France) Attribution: tatoeba.org #631038 (Shishir) & #3138223 (sabretou)',\n",
              " 'Stop!\\tथांबा!\\tCC-BY 2.0 (France) Attribution: tatoeba.org #448320 (FeuDRenais) & #2085981 (sabretou)',\n",
              " 'Stop!\\tथांब!\\tCC-BY 2.0 (France) Attribution: tatoeba.org #448320 (FeuDRenais) & #2085983 (sabretou)',\n",
              " 'Wait!\\tथांबा!\\tCC-BY 2.0 (France) Attribution: tatoeba.org #1744314 (belgavox) & #2085981 (sabretou)',\n",
              " 'Wait!\\tथांब!\\tCC-BY 2.0 (France) Attribution: tatoeba.org #1744314 (belgavox) & #2085983 (sabretou)',\n",
              " 'Hello!\\tहॅलो!\\tCC-BY 2.0 (France) Attribution: tatoeba.org #373330 (CK) & #2257256 (sabretou)',\n",
              " 'Hurry!\\tलवकर!\\tCC-BY 2.0 (France) Attribution: tatoeba.org #1182334 (Hideousss) & #5028415 (sabretou)',\n",
              " 'Hurry!\\tलवकर कर!\\tCC-BY 2.0 (France) Attribution: tatoeba.org #1182334 (Hideousss) & #6728122 (sabretou)',\n",
              " 'Hurry!\\tलवकर करा!\\tCC-BY 2.0 (France) Attribution: tatoeba.org #1182334 (Hideousss) & #6728123 (sabretou)',\n",
              " 'I won!\\tमी जिंकलो!\\tCC-BY 2.0 (France) Attribution: tatoeba.org #2005192 (CK) & #4145124 (sabretou)',\n",
              " 'I won!\\tमी जिंकले!\\tCC-BY 2.0 (France) Attribution: tatoeba.org #2005192 (CK) & #4145125 (sabretou)',\n",
              " 'Get up.\\tऊठ.\\tCC-BY 2.0 (France) Attribution: tatoeba.org #896158 (pauldhunt) & #2088761 (sabretou)',\n",
              " 'Got it!\\tपकडलं!\\tCC-BY 2.0 (France) Attribution: tatoeba.org #320484 (CM) & #2257194 (sabretou)',\n",
              " 'Got it?\\tकळलं?\\tCC-BY 2.0 (France) Attribution: tatoeba.org #455353 (FeuDRenais) & #5028428 (sabretou)',\n",
              " 'Got it?\\tसमजलं?\\tCC-BY 2.0 (France) Attribution: tatoeba.org #455353 (FeuDRenais) & #5028429 (sabretou)',\n",
              " 'Got it?\\tकळलं का?\\tCC-BY 2.0 (France) Attribution: tatoeba.org #455353 (FeuDRenais) & #5028486 (sabretou)',\n",
              " 'Got it?\\tसमजलं का?\\tCC-BY 2.0 (France) Attribution: tatoeba.org #455353 (FeuDRenais) & #5028488 (sabretou)',\n",
              " 'He ran.\\tतो पळाला.\\tCC-BY 2.0 (France) Attribution: tatoeba.org #672229 (CK) & #2095253 (sabretou)',\n",
              " 'He ran.\\tते पळाले.\\tCC-BY 2.0 (France) Attribution: tatoeba.org #672229 (CK) & #2095255 (sabretou)',\n",
              " 'He ran.\\tतो धावला.\\tCC-BY 2.0 (France) Attribution: tatoeba.org #672229 (CK) & #2095256 (sabretou)',\n",
              " 'He ran.\\tते धावले.\\tCC-BY 2.0 (France) Attribution: tatoeba.org #672229 (CK) & #2095257 (sabretou)',\n",
              " 'I fell.\\tमी पडलो.\\tCC-BY 2.0 (France) Attribution: tatoeba.org #3824714 (CK) & #5366601 (sabretou)',\n",
              " 'I fell.\\tमी पडले.\\tCC-BY 2.0 (France) Attribution: tatoeba.org #3824714 (CK) & #5366602 (sabretou)',\n",
              " 'I fell.\\tपडलो.\\tCC-BY 2.0 (France) Attribution: tatoeba.org #3824714 (CK) & #5366603 (sabretou)',\n",
              " 'I fell.\\tपडले.\\tCC-BY 2.0 (France) Attribution: tatoeba.org #3824714 (CK) & #5366604 (sabretou)',\n",
              " 'I know.\\tमला माहीत आहे.\\tCC-BY 2.0 (France) Attribution: tatoeba.org #319990 (CK) & #2095258 (sabretou)',\n",
              " 'I know.\\tमाहितीये.\\tCC-BY 2.0 (France) Attribution: tatoeba.org #319990 (CK) & #2095259 (sabretou)',\n",
              " 'I know.\\tमाहीत आहे.\\tCC-BY 2.0 (France) Attribution: tatoeba.org #319990 (CK) & #7966877 (sabretou)',\n",
              " 'I lost.\\tमी हरलो.\\tCC-BY 2.0 (France) Attribution: tatoeba.org #1755073 (Eldad) & #3355373 (sabretou)',\n",
              " 'I lost.\\tमी हरले.\\tCC-BY 2.0 (France) Attribution: tatoeba.org #1755073 (Eldad) & #3355374 (sabretou)',\n",
              " 'I spit.\\tमी थुकतो.\\tCC-BY 2.0 (France) Attribution: tatoeba.org #8397689 (CK) & #9399627 (sabretou)',\n",
              " 'I spit.\\tमी थुकते.\\tCC-BY 2.0 (France) Attribution: tatoeba.org #8397689 (CK) & #9399628 (sabretou)',\n",
              " 'I work.\\tमी काम करतो.\\tCC-BY 2.0 (France) Attribution: tatoeba.org #1581080 (olgalu) & #7903376 (sabretou)',\n",
              " 'I work.\\tमी काम करते.\\tCC-BY 2.0 (France) Attribution: tatoeba.org #1581080 (olgalu) & #7903377 (sabretou)',\n",
              " \"I'm OK.\\tमी ठीक आहे.\\tCC-BY 2.0 (France) Attribution: tatoeba.org #433763 (CK) & #2095274 (sabretou)\",\n",
              " 'Listen.\\tऐक.\\tCC-BY 2.0 (France) Attribution: tatoeba.org #1913088 (CK) & #2666576 (sabretou)',\n",
              " 'Listen.\\tऐका.\\tCC-BY 2.0 (France) Attribution: tatoeba.org #1913088 (CK) & #2666577 (sabretou)',\n",
              " 'No way!\\tशक्यच नाही!\\tCC-BY 2.0 (France) Attribution: tatoeba.org #2175 (CS) & #8677810 (sabretou)',\n",
              " 'Really?\\tखरोखर?\\tCC-BY 2.0 (France) Attribution: tatoeba.org #373216 (kotobaboke) & #2085987 (sabretou)',\n",
              " 'Really?\\tखरंच?\\tCC-BY 2.0 (France) Attribution: tatoeba.org #373216 (kotobaboke) & #2085988 (sabretou)',\n",
              " 'Really?\\tखरंच का?\\tCC-BY 2.0 (France) Attribution: tatoeba.org #373216 (kotobaboke) & #2085990 (sabretou)',\n",
              " 'Thanks.\\tधन्यवाद.\\tCC-BY 2.0 (France) Attribution: tatoeba.org #2057650 (nava) & #4683128 (sabretou)',\n",
              " 'We won.\\tआम्ही जिंकलो.\\tCC-BY 2.0 (France) Attribution: tatoeba.org #2107675 (CK) & #7903279 (sabretou)',\n",
              " 'We won.\\tआपण जिंकलो.\\tCC-BY 2.0 (France) Attribution: tatoeba.org #2107675 (CK) & #7903280 (sabretou)',\n",
              " 'Why me?\\tमीच का?\\tCC-BY 2.0 (France) Attribution: tatoeba.org #24958 (CK) & #3223450 (sabretou)',\n",
              " 'Why me?\\tमी का?\\tCC-BY 2.0 (France) Attribution: tatoeba.org #24958 (CK) & #3223451 (sabretou)',\n",
              " 'Ask Tom.\\tटॉमला विचार.\\tCC-BY 2.0 (France) Attribution: tatoeba.org #1954263 (CK) & #2094667 (sabretou)',\n",
              " 'Ask Tom.\\tटॉमला विचारा.\\tCC-BY 2.0 (France) Attribution: tatoeba.org #1954263 (CK) & #2094668 (sabretou)',\n",
              " 'Call me.\\tमला बोलव.\\tCC-BY 2.0 (France) Attribution: tatoeba.org #1553532 (CK) & #3225660 (sabretou)',\n",
              " 'Call me.\\tमला बोलवा.\\tCC-BY 2.0 (France) Attribution: tatoeba.org #1553532 (CK) & #3225661 (sabretou)',\n",
              " 'Call me.\\tमला फोन करा.\\tCC-BY 2.0 (France) Attribution: tatoeba.org #1553532 (CK) & #3225663 (sabretou)',\n",
              " 'Call me.\\tमला फोन कर.\\tCC-BY 2.0 (France) Attribution: tatoeba.org #1553532 (CK) & #3225664 (sabretou)',\n",
              " 'Call us.\\tआम्हाला फोन कर.\\tCC-BY 2.0 (France) Attribution: tatoeba.org #1916313 (CK) & #7903328 (sabretou)',\n",
              " 'Call us.\\tआम्हाला फोन करा.\\tCC-BY 2.0 (France) Attribution: tatoeba.org #1916313 (CK) & #7903329 (sabretou)',\n",
              " 'Come in.\\tआत ये.\\tCC-BY 2.0 (France) Attribution: tatoeba.org #348091 (Hertz) & #2085312 (sabretou)',\n",
              " 'Come on!\\tचल!\\tCC-BY 2.0 (France) Attribution: tatoeba.org #24697 (CK) & #8677822 (sabretou)',\n",
              " 'Come on!\\tचला!\\tCC-BY 2.0 (France) Attribution: tatoeba.org #24697 (CK) & #8677823 (sabretou)',\n",
              " 'Fold it.\\tघडी घाल.\\tCC-BY 2.0 (France) Attribution: tatoeba.org #6051416 (mailohilohi) & #6817245 (sabretou)',\n",
              " 'Fold it.\\tघडी घाला.\\tCC-BY 2.0 (France) Attribution: tatoeba.org #6051416 (mailohilohi) & #6817246 (sabretou)',\n",
              " 'Get Tom.\\tटॉमला घे.\\tCC-BY 2.0 (France) Attribution: tatoeba.org #1972633 (CK) & #2094669 (sabretou)',\n",
              " 'Get Tom.\\tटॉमला आण.\\tCC-BY 2.0 (France) Attribution: tatoeba.org #1972633 (CK) & #2094671 (sabretou)',\n",
              " 'Get Tom.\\tटॉमला पकड.\\tCC-BY 2.0 (France) Attribution: tatoeba.org #1972633 (CK) & #2094672 (sabretou)',\n",
              " 'Get out.\\tबाहेर हो.\\tCC-BY 2.0 (France) Attribution: tatoeba.org #22016 (Eldad) & #4683135 (sabretou)',\n",
              " 'Get out.\\tबाहेर व्हा.\\tCC-BY 2.0 (France) Attribution: tatoeba.org #22016 (Eldad) & #4683136 (sabretou)',\n",
              " 'Go home.\\tघरी जा.\\tCC-BY 2.0 (France) Attribution: tatoeba.org #2230769 (CK) & #8371469 (sabretou)',\n",
              " 'He came.\\tतो आला.\\tCC-BY 2.0 (France) Attribution: tatoeba.org #853153 (piksea) & #7213401 (sabretou)',\n",
              " 'He came.\\tते आले.\\tCC-BY 2.0 (France) Attribution: tatoeba.org #853153 (piksea) & #7213402 (sabretou)',\n",
              " 'He left.\\tतो निघाला.\\tCC-BY 2.0 (France) Attribution: tatoeba.org #3259071 (CH) & #5084285 (sabretou)',\n",
              " 'He left.\\tते निघाले.\\tCC-BY 2.0 (France) Attribution: tatoeba.org #3259071 (CH) & #5084286 (sabretou)',\n",
              " 'He runs.\\tतो पळतो.\\tCC-BY 2.0 (France) Attribution: tatoeba.org #672254 (CK) & #2095260 (sabretou)',\n",
              " 'He runs.\\tते पळतात.\\tCC-BY 2.0 (France) Attribution: tatoeba.org #672254 (CK) & #2095261 (sabretou)',\n",
              " 'He runs.\\tतो धावतो.\\tCC-BY 2.0 (France) Attribution: tatoeba.org #672254 (CK) & #2095262 (sabretou)',\n",
              " 'He runs.\\tते धावतात.\\tCC-BY 2.0 (France) Attribution: tatoeba.org #672254 (CK) & #2095263 (sabretou)',\n",
              " 'Help me!\\tवाचवा!\\tCC-BY 2.0 (France) Attribution: tatoeba.org #1126684 (CK) & #2086003 (sabretou)',\n",
              " 'Help me!\\tवाचव!\\tCC-BY 2.0 (France) Attribution: tatoeba.org #1126684 (CK) & #2086004 (sabretou)',\n",
              " 'Help me!\\tमाझी मदत करा!\\tCC-BY 2.0 (France) Attribution: tatoeba.org #1126684 (CK) & #2505104 (sabretou)',\n",
              " 'Help me.\\tमला वाचव.\\tCC-BY 2.0 (France) Attribution: tatoeba.org #266065 (Zifre) & #4683152 (sabretou)',\n",
              " 'Help me.\\tमला वाचवा.\\tCC-BY 2.0 (France) Attribution: tatoeba.org #266065 (Zifre) & #4683153 (sabretou)',\n",
              " 'Help us.\\tआमची मदत करा.\\tCC-BY 2.0 (France) Attribution: tatoeba.org #2187193 (CK) & #2675664 (sabretou)',\n",
              " 'Help us.\\tआमची मदत कर.\\tCC-BY 2.0 (France) Attribution: tatoeba.org #2187193 (CK) & #2675665 (sabretou)',\n",
              " 'Help us.\\tआम्हाला वाचव.\\tCC-BY 2.0 (France) Attribution: tatoeba.org #2187193 (CK) & #2675666 (sabretou)',\n",
              " \"I'm Tom.\\tमी टॉम.\\tCC-BY 2.0 (France) Attribution: tatoeba.org #2283732 (CK) & #3238153 (sabretou)\",\n",
              " \"I'm Tom.\\tटॉम मीच.\\tCC-BY 2.0 (France) Attribution: tatoeba.org #2283732 (CK) & #3238154 (sabretou)\",\n",
              " \"I'm Tom.\\tमी टॉम आहे.\\tCC-BY 2.0 (France) Attribution: tatoeba.org #2283732 (CK) & #3238155 (sabretou)\",\n",
              " \"I'm fat.\\tमी जाडा आहे.\\tCC-BY 2.0 (France) Attribution: tatoeba.org #1120816 (cntrational) & #7147088 (sabretou)\",\n",
              " \"I'm fat.\\tमी जाडी आहे.\\tCC-BY 2.0 (France) Attribution: tatoeba.org #1120816 (cntrational) & #7147090 (sabretou)\",\n",
              " \"I'm ill.\\tमी आजारी आहे.\\tCC-BY 2.0 (France) Attribution: tatoeba.org #448236 (CK) & #2312168 (sabretou)\",\n",
              " \"It's OK.\\tठीक आहे.\\tCC-BY 2.0 (France) Attribution: tatoeba.org #413756 (CK) & #2095299 (sabretou)\",\n",
              " \"It's me!\\tमी आहे!\\tCC-BY 2.0 (France) Attribution: tatoeba.org #1349952 (sacredceltic) & #2567052 (sabretou)\",\n",
              " \"It's me.\\tमी आहे.\\tCC-BY 2.0 (France) Attribution: tatoeba.org #42400 (sysko) & #2351780 (sabretou)\",\n",
              " 'Me, too.\\tमी पण.\\tCC-BY 2.0 (France) Attribution: tatoeba.org #321985 (CK) & #2095264 (sabretou)',\n",
              " 'Me, too.\\tमला पण.\\tCC-BY 2.0 (France) Attribution: tatoeba.org #321985 (CK) & #2095266 (sabretou)',\n",
              " 'Open up.\\tउघड.\\tCC-BY 2.0 (France) Attribution: tatoeba.org #22061 (CM) & #4683137 (sabretou)',\n",
              " 'Open up.\\tउघडा.\\tCC-BY 2.0 (France) Attribution: tatoeba.org #22061 (CM) & #4683138 (sabretou)',\n",
              " 'Perfect!\\tपरिपूर्ण!\\tCC-BY 2.0 (France) Attribution: tatoeba.org #374568 (blay_paul) & #2653262 (sabretou)',\n",
              " 'Show me.\\tमला दाखव.\\tCC-BY 2.0 (France) Attribution: tatoeba.org #1972649 (CK) & #5426284 (sabretou)',\n",
              " 'Show me.\\tमला दाखवा.\\tCC-BY 2.0 (France) Attribution: tatoeba.org #1972649 (CK) & #5426285 (sabretou)',\n",
              " 'Shut up!\\tगप्प!\\tCC-BY 2.0 (France) Attribution: tatoeba.org #462430 (lukaszpp) & #8677890 (sabretou)',\n",
              " 'Shut up!\\tगप्प हो!\\tCC-BY 2.0 (France) Attribution: tatoeba.org #462430 (lukaszpp) & #8677891 (sabretou)',\n",
              " 'Shut up!\\tगप्प व्हा!\\tCC-BY 2.0 (France) Attribution: tatoeba.org #462430 (lukaszpp) & #8677892 (sabretou)',\n",
              " 'Tell me.\\tमला सांग.\\tCC-BY 2.0 (France) Attribution: tatoeba.org #1913090 (CK) & #5426282 (sabretou)',\n",
              " 'Tell me.\\tमला सांगा.\\tCC-BY 2.0 (France) Attribution: tatoeba.org #1913090 (CK) & #5426283 (sabretou)',\n",
              " 'Tom ran.\\tटॉम पळाला.\\tCC-BY 2.0 (France) Attribution: tatoeba.org #2203766 (CK) & #2584143 (sabretou)',\n",
              " 'Tom ran.\\tटॉम धावला.\\tCC-BY 2.0 (France) Attribution: tatoeba.org #2203766 (CK) & #3796638 (sabretou)',\n",
              " 'Tom won.\\tटॉम जिंकला.\\tCC-BY 2.0 (France) Attribution: tatoeba.org #2005191 (CK) & #2693436 (sabretou)',\n",
              " 'Wake up!\\tजागे व्हा!\\tCC-BY 2.0 (France) Attribution: tatoeba.org #323780 (CK) & #8677858 (sabretou)',\n",
              " 'Wake up!\\tजागा हो!\\tCC-BY 2.0 (France) Attribution: tatoeba.org #323780 (CK) & #8677859 (sabretou)',\n",
              " 'Wake up!\\tजागी हो!\\tCC-BY 2.0 (France) Attribution: tatoeba.org #323780 (CK) & #8677860 (sabretou)',\n",
              " 'We care.\\tआम्हाला काळजी आहे.\\tCC-BY 2.0 (France) Attribution: tatoeba.org #3255558 (CM) & #5023504 (sabretou)',\n",
              " 'We care.\\tआपल्याला काळजी आहे.\\tCC-BY 2.0 (France) Attribution: tatoeba.org #3255558 (CM) & #5023505 (sabretou)',\n",
              " 'We know.\\tआम्हाला माहीत आहे.\\tCC-BY 2.0 (France) Attribution: tatoeba.org #1556167 (shanghainese) & #4783927 (sabretou)',\n",
              " 'We know.\\tआपल्याला माहीत आहे.\\tCC-BY 2.0 (France) Attribution: tatoeba.org #1556167 (shanghainese) & #4783928 (sabretou)',\n",
              " 'We lost.\\tआम्ही हरलो.\\tCC-BY 2.0 (France) Attribution: tatoeba.org #2107666 (CK) & #7903282 (sabretou)',\n",
              " 'We lost.\\tआपण हरलो.\\tCC-BY 2.0 (France) Attribution: tatoeba.org #2107666 (CK) & #7903284 (sabretou)',\n",
              " 'Welcome.\\tस्वागत!\\tCC-BY 2.0 (France) Attribution: tatoeba.org #138919 (CM) & #2086070 (sabretou)',\n",
              " 'Welcome.\\tस्वागत.\\tCC-BY 2.0 (France) Attribution: tatoeba.org #138919 (CM) & #2086072 (sabretou)',\n",
              " 'Welcome.\\tसुस्वागतम!\\tCC-BY 2.0 (France) Attribution: tatoeba.org #138919 (CM) & #2086074 (sabretou)',\n",
              " 'Welcome.\\tसुस्वागतम.\\tCC-BY 2.0 (France) Attribution: tatoeba.org #138919 (CM) & #2086076 (sabretou)',\n",
              " 'Who ate?\\tकोणी खाल्लं?\\tCC-BY 2.0 (France) Attribution: tatoeba.org #2203598 (CK) & #5224515 (sabretou)',\n",
              " 'Who ran?\\tकोण पळालं?\\tCC-BY 2.0 (France) Attribution: tatoeba.org #2203765 (CK) & #2927157 (sabretou)',\n",
              " 'Who ran?\\tकोण धावलं?\\tCC-BY 2.0 (France) Attribution: tatoeba.org #2203765 (CK) & #2927158 (sabretou)',\n",
              " 'Who won?\\tकोण जिंकलं?\\tCC-BY 2.0 (France) Attribution: tatoeba.org #2005190 (CK) & #2629474 (sabretou)',\n",
              " 'Why not?\\tका नाही?\\tCC-BY 2.0 (France) Attribution: tatoeba.org #30545 (CK) & #4683147 (sabretou)',\n",
              " 'You won.\\tतू जिंकलास.\\tCC-BY 2.0 (France) Attribution: tatoeba.org #2549833 (CK) & #5229956 (sabretou)',\n",
              " 'You won.\\tतू जिंकलीस.\\tCC-BY 2.0 (France) Attribution: tatoeba.org #2549833 (CK) & #5229957 (sabretou)',\n",
              " 'You won.\\tतुम्ही जिंकलात.\\tCC-BY 2.0 (France) Attribution: tatoeba.org #2549833 (CK) & #5229958 (sabretou)',\n",
              " 'Back off!\\tहट!\\tCC-BY 2.0 (France) Attribution: tatoeba.org #1954264 (CK) & #2094674 (sabretou)',\n",
              " 'Be quiet.\\tशांत हो.\\tCC-BY 2.0 (France) Attribution: tatoeba.org #1275396 (jakov) & #3772443 (sabretou)',\n",
              " 'Be quiet.\\tशांत व्हा.\\tCC-BY 2.0 (France) Attribution: tatoeba.org #1275396 (jakov) & #3772444 (sabretou)',\n",
              " 'Beats me.\\tकाय माहीत.\\tCC-BY 2.0 (France) Attribution: tatoeba.org #320001 (blay_paul) & #8677855 (sabretou)',\n",
              " 'Beats me.\\tकोणास ठाऊक.\\tCC-BY 2.0 (France) Attribution: tatoeba.org #320001 (blay_paul) & #8677856 (sabretou)',\n",
              " 'Call Tom.\\tटॉमला बोलव.\\tCC-BY 2.0 (France) Attribution: tatoeba.org #2203855 (CK) & #2759221 (sabretou)',\n",
              " 'Call Tom.\\tटॉमला बोलवा.\\tCC-BY 2.0 (France) Attribution: tatoeba.org #2203855 (CK) & #2759222 (sabretou)',\n",
              " 'Call Tom.\\tटॉमला फोन कर.\\tCC-BY 2.0 (France) Attribution: tatoeba.org #2203855 (CK) & #2759223 (sabretou)',\n",
              " 'Call Tom.\\tटॉमला फोन करा.\\tCC-BY 2.0 (France) Attribution: tatoeba.org #2203855 (CK) & #2759224 (sabretou)',\n",
              " 'Get down.\\tखाली हो.\\tCC-BY 2.0 (France) Attribution: tatoeba.org #1954269 (CK) & #2094675 (sabretou)',\n",
              " 'Grab Tom.\\tटॉमला पकड.\\tCC-BY 2.0 (France) Attribution: tatoeba.org #1972639 (CK) & #2094672 (sabretou)',\n",
              " 'Grab Tom.\\tटॉमला पकडा.\\tCC-BY 2.0 (France) Attribution: tatoeba.org #1972639 (CK) & #2094678 (sabretou)',\n",
              " 'Grab him.\\tपकडा त्याला.\\tCC-BY 2.0 (France) Attribution: tatoeba.org #285184 (CK) & #4683155 (sabretou)',\n",
              " 'Have fun.\\tमजा कर.\\tCC-BY 2.0 (France) Attribution: tatoeba.org #21267 (CK) & #2090344 (sabretou)',\n",
              " 'He spoke.\\tतो बोलला.\\tCC-BY 2.0 (France) Attribution: tatoeba.org #1564976 (marcelostockle) & #7903371 (sabretou)',\n",
              " 'He spoke.\\tते बोलले.\\tCC-BY 2.0 (France) Attribution: tatoeba.org #1564976 (marcelostockle) & #7903372 (sabretou)',\n",
              " 'I can go.\\tमी जाऊ शकतो.\\tCC-BY 2.0 (France) Attribution: tatoeba.org #3092548 (CK) & #4990443 (sabretou)',\n",
              " 'I can go.\\tमी जाऊ शकते.\\tCC-BY 2.0 (France) Attribution: tatoeba.org #3092548 (CK) & #4990444 (sabretou)',\n",
              " 'I forgot.\\tमी विसरलो.\\tCC-BY 2.0 (France) Attribution: tatoeba.org #436603 (lukaszpp) & #2087897 (sabretou)',\n",
              " 'I forgot.\\tमी विसरले.\\tCC-BY 2.0 (France) Attribution: tatoeba.org #436603 (lukaszpp) & #2087898 (sabretou)',\n",
              " 'I got it.\\tसमजलं.\\tCC-BY 2.0 (France) Attribution: tatoeba.org #433472 (CK) & #2095270 (sabretou)',\n",
              " 'I got it.\\tमिळालं.\\tCC-BY 2.0 (France) Attribution: tatoeba.org #433472 (CK) & #2095271 (sabretou)',\n",
              " 'I looked.\\tमी बघितलं.\\tCC-BY 2.0 (France) Attribution: tatoeba.org #5828632 (CK) & #7966875 (sabretou)',\n",
              " 'I looked.\\tमी पाहिलं.\\tCC-BY 2.0 (France) Attribution: tatoeba.org #5828632 (CK) & #7966876 (sabretou)',\n",
              " 'I phoned.\\tमी फोन केला.\\tCC-BY 2.0 (France) Attribution: tatoeba.org #1357258 (sacredceltic) & #4418439 (sabretou)',\n",
              " 'I prayed.\\tमी प्रार्थना केली.\\tCC-BY 2.0 (France) Attribution: tatoeba.org #5828637 (CK) & #7241226 (sabretou)',\n",
              " 'I shaved.\\tमी दाढी केली.\\tCC-BY 2.0 (France) Attribution: tatoeba.org #5828638 (CK) & #5972994 (sabretou)',\n",
              " 'I talked.\\tमी बोललो.\\tCC-BY 2.0 (France) Attribution: tatoeba.org #5828639 (CK) & #9406651 (sabretou)',\n",
              " 'I talked.\\tमी बोलले.\\tCC-BY 2.0 (France) Attribution: tatoeba.org #5828639 (CK) & #9406652 (sabretou)',\n",
              " 'I use it.\\tमी ते वापरतो.\\tCC-BY 2.0 (France) Attribution: tatoeba.org #254813 (CK) & #2095272 (sabretou)',\n",
              " 'I use it.\\tमी ते वापरते.\\tCC-BY 2.0 (France) Attribution: tatoeba.org #254813 (CK) & #2095273 (sabretou)',\n",
              " \"I'll try.\\tमी प्रयत्न करेन.\\tCC-BY 2.0 (France) Attribution: tatoeba.org #2111768 (CK) & #5929945 (sabretou)\",\n",
              " \"I'm full.\\tमाझं पोट भरलंय.\\tCC-BY 2.0 (France) Attribution: tatoeba.org #433863 (CK) & #2107165 (sabretou)\",\n",
              " \"I'm game.\\tमी तयार आहे.\\tCC-BY 2.0 (France) Attribution: tatoeba.org #835972 (CM) & #2434866 (sabretou)\",\n",
              " \"I'm late.\\tमला उशीर झाला.\\tCC-BY 2.0 (France) Attribution: tatoeba.org #2123622 (CK) & #2313001 (sabretou)\",\n",
              " \"I'm lazy.\\tमी आळशी आहे.\\tCC-BY 2.0 (France) Attribution: tatoeba.org #2203056 (CK) & #3372215 (sabretou)\",\n",
              " \"I'm poor.\\tमी गरीब आहे.\\tCC-BY 2.0 (France) Attribution: tatoeba.org #261477 (CK) & #3238151 (sabretou)\",\n",
              " \"I've won.\\tमी जिंकलोय.\\tCC-BY 2.0 (France) Attribution: tatoeba.org #2283734 (CK) & #8681440 (sabretou)\",\n",
              " \"I've won.\\tमी जिंकलेय.\\tCC-BY 2.0 (France) Attribution: tatoeba.org #2283734 (CK) & #8681441 (sabretou)\",\n",
              " \"It's hot.\\tगरम आहे.\\tCC-BY 2.0 (France) Attribution: tatoeba.org #423405 (cristina_fulginiti) & #6473437 (sabretou)\",\n",
              " \"It's new.\\tनवीन आहे.\\tCC-BY 2.0 (France) Attribution: tatoeba.org #42304 (CK) & #2095297 (sabretou)\",\n",
              " \"It's new.\\tते नवीन आहे.\\tCC-BY 2.0 (France) Attribution: tatoeba.org #42304 (CK) & #2095298 (sabretou)\",\n",
              " \"It's old.\\tजुनं आहे.\\tCC-BY 2.0 (France) Attribution: tatoeba.org #3821793 (CK) & #9096592 (sabretou)\",\n",
              " \"It's old.\\tजुना आहे.\\tCC-BY 2.0 (France) Attribution: tatoeba.org #3821793 (CK) & #9096593 (sabretou)\",\n",
              " \"It's old.\\tजुनी आहे.\\tCC-BY 2.0 (France) Attribution: tatoeba.org #3821793 (CK) & #9096594 (sabretou)\",\n",
              " 'Kiss Tom.\\tटॉमला किस कर.\\tCC-BY 2.0 (France) Attribution: tatoeba.org #2203863 (CK) & #2753790 (sabretou)',\n",
              " 'Leave it.\\tसोड.\\tCC-BY 2.0 (France) Attribution: tatoeba.org #1954272 (CK) & #2094679 (sabretou)',\n",
              " 'Leave it.\\tसोडा.\\tCC-BY 2.0 (France) Attribution: tatoeba.org #1954272 (CK) & #2094680 (sabretou)',\n",
              " 'Leave it.\\tते सोड.\\tCC-BY 2.0 (France) Attribution: tatoeba.org #1954272 (CK) & #2094681 (sabretou)',\n",
              " 'Leave it.\\tते सोडा.\\tCC-BY 2.0 (France) Attribution: tatoeba.org #1954272 (CK) & #2094682 (sabretou)',\n",
              " 'Leave me.\\tमला सोड.\\tCC-BY 2.0 (France) Attribution: tatoeba.org #1954273 (CK) & #2094683 (sabretou)',\n",
              " 'Leave me.\\tमला सोडून जा.\\tCC-BY 2.0 (France) Attribution: tatoeba.org #1954273 (CK) & #2094685 (sabretou)',\n",
              " 'Leave me.\\tमला सोडा.\\tCC-BY 2.0 (France) Attribution: tatoeba.org #1954273 (CK) & #2094686 (sabretou)',\n",
              " 'Look out!\\tसांभाळ!\\tCC-BY 2.0 (France) Attribution: tatoeba.org #20719 (CK) & #4683134 (sabretou)',\n",
              " 'Marry me.\\tमाझ्याशी लग्न कर.\\tCC-BY 2.0 (France) Attribution: tatoeba.org #1954275 (CK) & #2094689 (sabretou)',\n",
              " 'Marry me.\\tमाझ्याबरोबर लग्न करा.\\tCC-BY 2.0 (France) Attribution: tatoeba.org #1954275 (CK) & #2094691 (sabretou)',\n",
              " 'She came.\\tती आली.\\tCC-BY 2.0 (France) Attribution: tatoeba.org #853152 (piksea) & #7213399 (sabretou)',\n",
              " 'She came.\\tत्या आल्या.\\tCC-BY 2.0 (France) Attribution: tatoeba.org #853152 (piksea) & #7213400 (sabretou)',\n",
              " 'She died.\\tती मेली.\\tCC-BY 2.0 (France) Attribution: tatoeba.org #1400268 (enteka) & #6139200 (sabretou)',\n",
              " 'She died.\\tत्या मेल्या.\\tCC-BY 2.0 (France) Attribution: tatoeba.org #1400268 (enteka) & #6139201 (sabretou)',\n",
              " 'She died.\\tती वारली.\\tCC-BY 2.0 (France) Attribution: tatoeba.org #1400268 (enteka) & #6139202 (sabretou)',\n",
              " 'She died.\\tत्या वारल्या.\\tCC-BY 2.0 (France) Attribution: tatoeba.org #1400268 (enteka) & #6139203 (sabretou)',\n",
              " 'Sit down!\\tखाली बस!\\tCC-BY 2.0 (France) Attribution: tatoeba.org #1349166 (sacredceltic) & #4786069 (sabretou)',\n",
              " 'Sit down!\\tखाली बसा!\\tCC-BY 2.0 (France) Attribution: tatoeba.org #1349166 (sacredceltic) & #4786070 (sabretou)',\n",
              " 'Sit here.\\tइथे बस.\\tCC-BY 2.0 (France) Attribution: tatoeba.org #2111553 (CK) & #3196618 (sabretou)',\n",
              " 'Sit here.\\tइथे बसा.\\tCC-BY 2.0 (France) Attribution: tatoeba.org #2111553 (CK) & #3196619 (sabretou)',\n",
              " 'Stand up!\\tऊठ!\\tCC-BY 2.0 (France) Attribution: tatoeba.org #325429 (CK) & #2090346 (sabretou)',\n",
              " 'Stand up!\\tऊभी हो!\\tCC-BY 2.0 (France) Attribution: tatoeba.org #325429 (CK) & #2095280 (sabretou)',\n",
              " 'Stand up!\\tऊभे व्हा!\\tCC-BY 2.0 (France) Attribution: tatoeba.org #325429 (CK) & #2095282 (sabretou)',\n",
              " 'Stop Tom.\\tटॉमला थांबव.\\tCC-BY 2.0 (France) Attribution: tatoeba.org #2203866 (CK) & #3616861 (sabretou)',\n",
              " 'Stop Tom.\\tटॉमला थांबवा.\\tCC-BY 2.0 (France) Attribution: tatoeba.org #2203866 (CK) & #3616862 (sabretou)',\n",
              " 'Terrific!\\tझकास!\\tCC-BY 2.0 (France) Attribution: tatoeba.org #52022 (Zifre) & #7731197 (Nativemarathi)',\n",
              " 'They won.\\tते जिंकले.\\tCC-BY 2.0 (France) Attribution: tatoeba.org #1618734 (CK) & #2271236 (sabretou)',\n",
              " 'They won.\\tत्या जिंकल्या.\\tCC-BY 2.0 (France) Attribution: tatoeba.org #1618734 (CK) & #2271237 (sabretou)',\n",
              " 'Tom came.\\tटॉम आला.\\tCC-BY 2.0 (France) Attribution: tatoeba.org #2203606 (CK) & #6907935 (sabretou)',\n",
              " 'Tom died.\\tटॉम मेला.\\tCC-BY 2.0 (France) Attribution: tatoeba.org #2005188 (CK) & #4145131 (sabretou)',\n",
              " 'Tom fell.\\tटॉम पडला.\\tCC-BY 2.0 (France) Attribution: tatoeba.org #2203679 (CK) & #6176978 (sabretou)',\n",
              " 'Tom knew.\\tटॉमला माहीत होतं.\\tCC-BY 2.0 (France) Attribution: tatoeba.org #2203721 (CK) & #2950780 (sabretou)',\n",
              " 'Tom left.\\tटॉम सोडून गेला.\\tCC-BY 2.0 (France) Attribution: tatoeba.org #2005178 (CK) & #7903300 (sabretou)',\n",
              " 'Tom left.\\tटॉम निघाला.\\tCC-BY 2.0 (France) Attribution: tatoeba.org #2005178 (CK) & #7903301 (sabretou)',\n",
              " 'Tom left.\\tटॉम निघून गेला.\\tCC-BY 2.0 (France) Attribution: tatoeba.org #2005178 (CK) & #7903302 (sabretou)',\n",
              " 'Tom lied.\\tटॉम खोटं बोलला.\\tCC-BY 2.0 (France) Attribution: tatoeba.org #2005179 (CK) & #7903303 (sabretou)',\n",
              " 'Tom lies.\\tटॉम खोटं बोलतो.\\tCC-BY 2.0 (France) Attribution: tatoeba.org #2203722 (CK) & #4940120 (sabretou)',\n",
              " 'Tom lost.\\tटॉम हरला.\\tCC-BY 2.0 (France) Attribution: tatoeba.org #2005180 (CK) & #7903304 (sabretou)',\n",
              " 'Tom wept.\\tटॉम रडला.\\tCC-BY 2.0 (France) Attribution: tatoeba.org #1524763 (Spamster) & #2562143 (sabretou)',\n",
              " \"Tom's up.\\tटॉम उठला आहे.\\tCC-BY 2.0 (France) Attribution: tatoeba.org #2107644 (CK) & #2504455 (sabretou)\",\n",
              " 'Use this.\\tहे वापर.\\tCC-BY 2.0 (France) Attribution: tatoeba.org #1954278 (CK) & #2094687 (sabretou)',\n",
              " 'Use this.\\tहे वापरा.\\tCC-BY 2.0 (France) Attribution: tatoeba.org #1954278 (CK) & #2094688 (sabretou)',\n",
              " 'Warn Tom.\\tटॉमला सावध कर.\\tCC-BY 2.0 (France) Attribution: tatoeba.org #1954279 (CK) & #8370510 (sabretou)',\n",
              " 'Warn Tom.\\tटॉमला सावध करा.\\tCC-BY 2.0 (France) Attribution: tatoeba.org #1954279 (CK) & #8370511 (sabretou)',\n",
              " 'Watch me.\\tमला बघ.\\tCC-BY 2.0 (France) Attribution: tatoeba.org #1954282 (CK) & #2094692 (sabretou)',\n",
              " 'Watch me.\\tमला बघा.\\tCC-BY 2.0 (France) Attribution: tatoeba.org #1954282 (CK) & #2094693 (sabretou)',\n",
              " 'Watch us.\\tआम्हाला बघ.\\tCC-BY 2.0 (France) Attribution: tatoeba.org #1954283 (CK) & #2094694 (sabretou)',\n",
              " 'Watch us.\\tआम्हाला बघा.\\tCC-BY 2.0 (France) Attribution: tatoeba.org #1954283 (CK) & #2094695 (sabretou)',\n",
              " \"We'll go.\\tआम्ही जाऊ.\\tCC-BY 2.0 (France) Attribution: tatoeba.org #2203688 (CK) & #6776653 (sabretou)\",\n",
              " \"We'll go.\\tआपण जाऊ.\\tCC-BY 2.0 (France) Attribution: tatoeba.org #2203688 (CK) & #6776654 (sabretou)\",\n",
              " 'What for?\\tकशासाठी?\\tCC-BY 2.0 (France) Attribution: tatoeba.org #24867 (CK) & #2085971 (sabretou)',\n",
              " 'What for?\\tकशाकरिता?\\tCC-BY 2.0 (France) Attribution: tatoeba.org #24867 (CK) & #2085974 (sabretou)',\n",
              " 'Who am I?\\tमी कोण आहे?\\tCC-BY 2.0 (France) Attribution: tatoeba.org #259378 (Zifre) & #5224528 (sabretou)',\n",
              " 'Who came?\\tकोण आलं?\\tCC-BY 2.0 (France) Attribution: tatoeba.org #2203607 (CK) & #2612328 (sabretou)',\n",
              " 'Who died?\\tकोण मेलं?\\tCC-BY 2.0 (France) Attribution: tatoeba.org #2005187 (CK) & #5224514 (sabretou)',\n",
              " 'Who fell?\\tकोण पडलं?\\tCC-BY 2.0 (France) Attribution: tatoeba.org #2203678 (CK) & #2673111 (sabretou)',\n",
              " \"Who's he?\\tतो कोण आहे?\\tCC-BY 2.0 (France) Attribution: tatoeba.org #2203694 (CK) & #4838250 (sabretou)\",\n",
              " \"Who's he?\\tते कोण आहेत?\\tCC-BY 2.0 (France) Attribution: tatoeba.org #2203694 (CK) & #4838252 (sabretou)\",\n",
              " 'Answer me.\\tमला उत्तर दे.\\tCC-BY 2.0 (France) Attribution: tatoeba.org #251060 (Eldad) & #4683150 (sabretou)',\n",
              " 'Answer me.\\tमला उत्तर द्या.\\tCC-BY 2.0 (France) Attribution: tatoeba.org #251060 (Eldad) & #4683151 (sabretou)',\n",
              " 'Birds fly.\\tपक्षी उडतात.\\tCC-BY 2.0 (France) Attribution: tatoeba.org #278213 (CK) & #4683154 (sabretou)',\n",
              " 'Calm down!\\tशांत हो!\\tCC-BY 2.0 (France) Attribution: tatoeba.org #1123494 (Scott) & #8293219 (sabretou)',\n",
              " 'Catch him.\\tत्याला पकड.\\tCC-BY 2.0 (France) Attribution: tatoeba.org #449029 (CK) & #8677882 (sabretou)',\n",
              " 'Catch him.\\tत्याला पकडा.\\tCC-BY 2.0 (France) Attribution: tatoeba.org #449029 (CK) & #8677884 (sabretou)',\n",
              " 'Catch him.\\tत्यांना पकड.\\tCC-BY 2.0 (France) Attribution: tatoeba.org #449029 (CK) & #8677885 (sabretou)',\n",
              " 'Catch him.\\tत्यांना पकडा.\\tCC-BY 2.0 (France) Attribution: tatoeba.org #449029 (CK) & #8677886 (sabretou)',\n",
              " 'Come here.\\tइथे ये.\\tCC-BY 2.0 (France) Attribution: tatoeba.org #39944 (Swift) & #2663708 (sabretou)',\n",
              " 'Come here.\\tइथे या.\\tCC-BY 2.0 (France) Attribution: tatoeba.org #39944 (Swift) & #2663709 (sabretou)',\n",
              " 'Come home.\\tघरी या.\\tCC-BY 2.0 (France) Attribution: tatoeba.org #413767 (Scott) & #5028474 (sabretou)',\n",
              " 'Come home.\\tघरी ये.\\tCC-BY 2.0 (France) Attribution: tatoeba.org #413767 (Scott) & #5028475 (sabretou)',\n",
              " 'Did I win?\\tमी जिंकलो का?\\tCC-BY 2.0 (France) Attribution: tatoeba.org #2005189 (CK) & #6820482 (sabretou)',\n",
              " 'Did I win?\\tमी जिंकले का?\\tCC-BY 2.0 (France) Attribution: tatoeba.org #2005189 (CK) & #6820483 (sabretou)',\n",
              " 'Dogs bark.\\tकुत्रे भुंकतात.\\tCC-BY 2.0 (France) Attribution: tatoeba.org #1357070 (sacredceltic) & #7903404 (sabretou)',\n",
              " \"Don't ask.\\tविचारू नका.\\tCC-BY 2.0 (France) Attribution: tatoeba.org #320080 (CM) & #5031572 (sabretou)\",\n",
              " \"Don't ask.\\tविचारू नकोस.\\tCC-BY 2.0 (France) Attribution: tatoeba.org #320080 (CM) & #5031573 (sabretou)\",\n",
              " \"Don't cry.\\tरडू नकोस.\\tCC-BY 2.0 (France) Attribution: tatoeba.org #953247 (CK) & #2095334 (sabretou)\",\n",
              " \"Don't cry.\\tरडू नका.\\tCC-BY 2.0 (France) Attribution: tatoeba.org #953247 (CK) & #2095336 (sabretou)\",\n",
              " \"Don't die.\\tमरू नकोस.\\tCC-BY 2.0 (France) Attribution: tatoeba.org #1860499 (CK) & #2094701 (sabretou)\",\n",
              " \"Don't die.\\tमरू नका.\\tCC-BY 2.0 (France) Attribution: tatoeba.org #1860499 (CK) & #2094702 (sabretou)\",\n",
              " \"Don't lie.\\tखोटं बोलू नकोस.\\tCC-BY 2.0 (France) Attribution: tatoeba.org #2111913 (CK) & #7967329 (sabretou)\",\n",
              " \"Don't lie.\\tखोटं बोलू नका.\\tCC-BY 2.0 (France) Attribution: tatoeba.org #2111913 (CK) & #7967330 (sabretou)\",\n",
              " \"Don't run.\\tपळू नकोस.\\tCC-BY 2.0 (France) Attribution: tatoeba.org #2111907 (CK) & #7050645 (sabretou)\",\n",
              " \"Don't run.\\tधावू नकोस.\\tCC-BY 2.0 (France) Attribution: tatoeba.org #2111907 (CK) & #7050647 (sabretou)\",\n",
              " \"Don't run.\\tपळू नका.\\tCC-BY 2.0 (France) Attribution: tatoeba.org #2111907 (CK) & #7050648 (sabretou)\",\n",
              " \"Don't run.\\tधावू नका.\\tCC-BY 2.0 (France) Attribution: tatoeba.org #2111907 (CK) & #7050650 (sabretou)\",\n",
              " 'Forget it.\\tविसर.\\tCC-BY 2.0 (France) Attribution: tatoeba.org #20398 (Eldad) & #2085782 (sabretou)',\n",
              " 'Forget it.\\tविसरून जा.\\tCC-BY 2.0 (France) Attribution: tatoeba.org #20398 (Eldad) & #2085783 (sabretou)',\n",
              " 'Forget me.\\tमला विसरून जा.\\tCC-BY 2.0 (France) Attribution: tatoeba.org #1512159 (CM) & #4569769 (sabretou)',\n",
              " 'Get ready.\\tतयार हो.\\tCC-BY 2.0 (France) Attribution: tatoeba.org #1989588 (CK) & #7903315 (sabretou)',\n",
              " 'Go inside.\\tआत जा.\\tCC-BY 2.0 (France) Attribution: tatoeba.org #2428954 (CK) & #2655290 (sabretou)',\n",
              " 'Grab that.\\tते घ्या.\\tCC-BY 2.0 (France) Attribution: tatoeba.org #1972635 (CK) & #2094704 (sabretou)',\n",
              " 'Grab that.\\tते घे.\\tCC-BY 2.0 (France) Attribution: tatoeba.org #1972635 (CK) & #2094705 (sabretou)',\n",
              " 'Grab that.\\tते पकड.\\tCC-BY 2.0 (France) Attribution: tatoeba.org #1972635 (CK) & #2094706 (sabretou)',\n",
              " 'Grab that.\\tते पकडा.\\tCC-BY 2.0 (France) Attribution: tatoeba.org #1972635 (CK) & #2094707 (sabretou)',\n",
              " 'Grab this.\\tहे पकड.\\tCC-BY 2.0 (France) Attribution: tatoeba.org #1972637 (CK) & #7903308 (sabretou)',\n",
              " 'Grab this.\\tहे पकडा.\\tCC-BY 2.0 (France) Attribution: tatoeba.org #1972637 (CK) & #7903309 (sabretou)',\n",
              " 'He is ill.\\tतो आजारी आहे.\\tCC-BY 2.0 (France) Attribution: tatoeba.org #371409 (saeb) & #6104855 (sabretou)',\n",
              " 'He is ill.\\tते आजारी आहेत.\\tCC-BY 2.0 (France) Attribution: tatoeba.org #371409 (saeb) & #6104856 (sabretou)',\n",
              " \"He's a DJ.\\tतो डीजे आहे.\\tCC-BY 2.0 (France) Attribution: tatoeba.org #1383444 (CK) & #2095343 (sabretou)\",\n",
              " \"He's a DJ.\\tते डीजे आहेत.\\tCC-BY 2.0 (France) Attribution: tatoeba.org #1383444 (CK) & #2095344 (sabretou)\",\n",
              " \"He's mine.\\tतो माझा आहे.\\tCC-BY 2.0 (France) Attribution: tatoeba.org #3140708 (CM) & #2097754 (sabretou)\",\n",
              " \"He's mine.\\tते माझे आहेत.\\tCC-BY 2.0 (France) Attribution: tatoeba.org #3140708 (CM) & #3323160 (sabretou)\",\n",
              " \"He's sexy.\\tतो सेक्सी आहे.\\tCC-BY 2.0 (France) Attribution: tatoeba.org #288007 (CM) & #5208591 (sabretou)\",\n",
              " \"He's sexy.\\tतो सेक्सी असतो.\\tCC-BY 2.0 (France) Attribution: tatoeba.org #288007 (CM) & #5208592 (sabretou)\",\n",
              " 'Hold this.\\tहे धर.\\tCC-BY 2.0 (France) Attribution: tatoeba.org #1972645 (CK) & #7903310 (sabretou)',\n",
              " 'Hold this.\\tहे धरा.\\tCC-BY 2.0 (France) Attribution: tatoeba.org #1972645 (CK) & #7903311 (sabretou)',\n",
              " 'How is it?\\tकसं आहे?\\tCC-BY 2.0 (France) Attribution: tatoeba.org #1487691 (marshmallowcat) & #2094924 (sabretou)',\n",
              " 'How is it?\\tकसा आहे?\\tCC-BY 2.0 (France) Attribution: tatoeba.org #1487691 (marshmallowcat) & #3783682 (sabretou)',\n",
              " 'How is it?\\tकशी आहे?\\tCC-BY 2.0 (France) Attribution: tatoeba.org #1487691 (marshmallowcat) & #3783683 (sabretou)',\n",
              " 'I can run.\\tमला पळता येतं.\\tCC-BY 2.0 (France) Attribution: tatoeba.org #1173661 (CK) & #2095284 (sabretou)',\n",
              " 'I can run.\\tमला धावता येतं.\\tCC-BY 2.0 (France) Attribution: tatoeba.org #1173661 (CK) & #2095285 (sabretou)',\n",
              " 'I can run.\\tमी धावू शकतो.\\tCC-BY 2.0 (France) Attribution: tatoeba.org #1173661 (CK) & #2095286 (sabretou)',\n",
              " 'I can run.\\tमी पळू शकतो.\\tCC-BY 2.0 (France) Attribution: tatoeba.org #1173661 (CK) & #2095287 (sabretou)',\n",
              " 'I can run.\\tमी धावू शकते.\\tCC-BY 2.0 (France) Attribution: tatoeba.org #1173661 (CK) & #2095288 (sabretou)',\n",
              " 'I can run.\\tमी पळू शकते.\\tCC-BY 2.0 (France) Attribution: tatoeba.org #1173661 (CK) & #2095290 (sabretou)',\n",
              " 'I can ski.\\tमला स्की करता येतं.\\tCC-BY 2.0 (France) Attribution: tatoeba.org #52315 (CK) & #2095293 (sabretou)',\n",
              " 'I can ski.\\tमी स्की करू शकतो.\\tCC-BY 2.0 (France) Attribution: tatoeba.org #52315 (CK) & #2095295 (sabretou)',\n",
              " 'I can ski.\\tमी स्की करू शकते.\\tCC-BY 2.0 (France) Attribution: tatoeba.org #52315 (CK) & #2095296 (sabretou)',\n",
              " 'I can win.\\tमी जिंकू शकतो.\\tCC-BY 2.0 (France) Attribution: tatoeba.org #6358763 (CK) & #6621184 (sabretou)',\n",
              " 'I can win.\\tमी जिंकू शकते.\\tCC-BY 2.0 (France) Attribution: tatoeba.org #6358763 (CK) & #6621186 (sabretou)',\n",
              " 'I fainted.\\tमला चक्कर आली.\\tCC-BY 2.0 (France) Attribution: tatoeba.org #20364 (CK) & #4683133 (sabretou)',\n",
              " 'I got fat.\\tमी जाडा झालो.\\tCC-BY 2.0 (France) Attribution: tatoeba.org #5828667 (CK) & #6871717 (sabretou)',\n",
              " 'I got fat.\\tमी जाडी झाले.\\tCC-BY 2.0 (France) Attribution: tatoeba.org #5828667 (CK) & #6871719 (sabretou)',\n",
              " 'I hit Tom.\\tमी टॉमला मारलं.\\tCC-BY 2.0 (France) Attribution: tatoeba.org #2235723 (CK) & #2653897 (sabretou)',\n",
              " 'I hit Tom.\\tमी टॉमला मारतो.\\tCC-BY 2.0 (France) Attribution: tatoeba.org #2235723 (CK) & #2653898 (sabretou)',\n",
              " 'I hit Tom.\\tमी टॉमला मारते.\\tCC-BY 2.0 (France) Attribution: tatoeba.org #2235723 (CK) & #2653899 (sabretou)',\n",
              " 'I laughed.\\tमी हसलो.\\tCC-BY 2.0 (France) Attribution: tatoeba.org #258713 (CK) & #3138651 (sabretou)',\n",
              " 'I laughed.\\tमी हसले.\\tCC-BY 2.0 (France) Attribution: tatoeba.org #258713 (CK) & #3138653 (sabretou)',\n",
              " 'I met him.\\tमी त्याला भेटलो.\\tCC-BY 2.0 (France) Attribution: tatoeba.org #2771581 (CK) & #3616701 (sabretou)',\n",
              " 'I met him.\\tमी त्याला भेटले.\\tCC-BY 2.0 (France) Attribution: tatoeba.org #2771581 (CK) & #3616702 (sabretou)',\n",
              " 'I saw Tom.\\tमी टॉमला पाहिलं.\\tCC-BY 2.0 (France) Attribution: tatoeba.org #2244569 (CK) & #5958619 (sabretou)',\n",
              " 'I saw Tom.\\tमी टॉमला बघितलं.\\tCC-BY 2.0 (France) Attribution: tatoeba.org #2244569 (CK) & #5958620 (sabretou)',\n",
              " 'I saw Tom.\\tमला टॉम दिसला.\\tCC-BY 2.0 (France) Attribution: tatoeba.org #2244569 (CK) & #5958621 (sabretou)',\n",
              " 'I saw you.\\tमी तुला बघितलं.\\tCC-BY 2.0 (France) Attribution: tatoeba.org #2247402 (CK) & #3227304 (sabretou)',\n",
              " 'I saw you.\\tमी तुला पाहिलं.\\tCC-BY 2.0 (France) Attribution: tatoeba.org #2247402 (CK) & #3227305 (sabretou)',\n",
              " 'I saw you.\\tमी तुम्हाला बघितलं.\\tCC-BY 2.0 (France) Attribution: tatoeba.org #2247402 (CK) & #3227306 (sabretou)',\n",
              " 'I saw you.\\tमी तुम्हाला पाहिलं.\\tCC-BY 2.0 (France) Attribution: tatoeba.org #2247402 (CK) & #3227307 (sabretou)',\n",
              " 'I shouted.\\tमी ओरडलो.\\tCC-BY 2.0 (France) Attribution: tatoeba.org #5828676 (CK) & #7274479 (sabretou)',\n",
              " 'I shouted.\\tमी ओरडले.\\tCC-BY 2.0 (France) Attribution: tatoeba.org #5828676 (CK) & #7274480 (sabretou)',\n",
              " 'I want it.\\tमला हवं आहे.\\tCC-BY 2.0 (France) Attribution: tatoeba.org #1148324 (cntrational) & #5031540 (sabretou)',\n",
              " 'I want it.\\tमला हवा आहे.\\tCC-BY 2.0 (France) Attribution: tatoeba.org #1148324 (cntrational) & #5031541 (sabretou)',\n",
              " 'I want it.\\tमला हवी आहे.\\tCC-BY 2.0 (France) Attribution: tatoeba.org #1148324 (cntrational) & #5031542 (sabretou)',\n",
              " 'I want it.\\tमला पाहिजे.\\tCC-BY 2.0 (France) Attribution: tatoeba.org #1148324 (cntrational) & #5031543 (sabretou)',\n",
              " 'I will go.\\tमी जाईन.\\tCC-BY 2.0 (France) Attribution: tatoeba.org #2247573 (CK) & #5087567 (sabretou)',\n",
              " \"I'll call.\\tमी फोन करेन.\\tCC-BY 2.0 (France) Attribution: tatoeba.org #2111787 (CK) & #9125032 (sabretou)\",\n",
              " \"I'll sing.\\tमी गाईन.\\tCC-BY 2.0 (France) Attribution: tatoeba.org #2111772 (CK) & #5031562 (sabretou)\",\n",
              " \"I'll stop.\\tमी थांबेन.\\tCC-BY 2.0 (France) Attribution: tatoeba.org #2878242 (CK) & #6934112 (sabretou)\",\n",
              " \"I'll talk.\\tमी बोलेन.\\tCC-BY 2.0 (France) Attribution: tatoeba.org #2878243 (CK) & #5076735 (sabretou)\",\n",
              " \"I'll walk.\\tमी चालेन.\\tCC-BY 2.0 (France) Attribution: tatoeba.org #2111765 (CK) & #6973449 (sabretou)\",\n",
              " \"I'll work.\\tमी काम करेन.\\tCC-BY 2.0 (France) Attribution: tatoeba.org #1188049 (sacredceltic) & #8346427 (sabretou)\",\n",
              " \"I'm a man.\\tमी माणुस आहे.\\tCC-BY 2.0 (France) Attribution: tatoeba.org #580774 (FeuDRenais) & #2090397 (sabretou)\",\n",
              " \"I'm a man.\\tमी पुरुष आहे.\\tCC-BY 2.0 (France) Attribution: tatoeba.org #580774 (FeuDRenais) & #2090398 (sabretou)\",\n",
              " \"I'm awake.\\tमी जागा आहे.\\tCC-BY 2.0 (France) Attribution: tatoeba.org #323761 (CK) & #2095356 (sabretou)\",\n",
              " \"I'm awake.\\tमी जागी आहे.\\tCC-BY 2.0 (France) Attribution: tatoeba.org #323761 (CK) & #2095357 (sabretou)\",\n",
              " \"I'm bored.\\tमला कंटाळा आला आहे.\\tCC-BY 2.0 (France) Attribution: tatoeba.org #431539 (Clavain) & #7050674 (sabretou)\",\n",
              " \"I'm clean.\\tमी साफ आहे.\\tCC-BY 2.0 (France) Attribution: tatoeba.org #2202653 (CK) & #4786706 (sabretou)\",\n",
              " \"I'm dying.\\tमी मरतोय.\\tCC-BY 2.0 (France) Attribution: tatoeba.org #2051764 (Shishir) & #2611597 (sabretou)\",\n",
              " \"I'm dying.\\tमी मरतेय.\\tCC-BY 2.0 (France) Attribution: tatoeba.org #2051764 (Shishir) & #2611598 (sabretou)\",\n",
              " \"I'm going.\\tमी जातोय.\\tCC-BY 2.0 (France) Attribution: tatoeba.org #495219 (adjusting) & #2085540 (sabretou)\",\n",
              " \"I'm going.\\tमी जातेय.\\tCC-BY 2.0 (France) Attribution: tatoeba.org #495219 (adjusting) & #2085541 (sabretou)\",\n",
              " \"I'm quiet.\\tमी शांत आहे.\\tCC-BY 2.0 (France) Attribution: tatoeba.org #2203244 (CK) & #4822253 (sabretou)\",\n",
              " \"I'm right.\\tमी बरोबर आहे.\\tCC-BY 2.0 (France) Attribution: tatoeba.org #321343 (CK) & #2095358 (sabretou)\",\n",
              " \"I'm young.\\tमी तरूण आहे.\\tCC-BY 2.0 (France) Attribution: tatoeba.org #321850 (CK) & #2095363 (sabretou)\",\n",
              " 'It burned.\\tजळलं.\\tCC-BY 2.0 (France) Attribution: tatoeba.org #3825991 (CK) & #6907930 (sabretou)',\n",
              " 'It burned.\\tजळला.\\tCC-BY 2.0 (France) Attribution: tatoeba.org #3825991 (CK) & #6907931 (sabretou)',\n",
              " 'It burned.\\tजळली.\\tCC-BY 2.0 (France) Attribution: tatoeba.org #3825991 (CK) & #6907932 (sabretou)',\n",
              " 'It rained.\\tपाऊस पडला.\\tCC-BY 2.0 (France) Attribution: tatoeba.org #1435651 (mattpbooth) & #3355675 (sabretou)',\n",
              " 'It snowed.\\tबर्फ पडला.\\tCC-BY 2.0 (France) Attribution: tatoeba.org #1181168 (Eldad) & #2675676 (sabretou)',\n",
              " \"It's 7:45.\\t७:४५ वाजले आहेत.\\tCC-BY 2.0 (France) Attribution: tatoeba.org #2762784 (CK) & #5529507 (sabretou)\",\n",
              " \"It's cold.\\tथंड आहे.\\tCC-BY 2.0 (France) Attribution: tatoeba.org #1813 (CK) & #2095366 (sabretou)\",\n",
              " \"It's easy.\\tसोपं आहे.\\tCC-BY 2.0 (France) Attribution: tatoeba.org #561962 (CK) & #2095367 (sabretou)\",\n",
              " \"It's food.\\tखाणं आहे.\\tCC-BY 2.0 (France) Attribution: tatoeba.org #2187210 (CK) & #2757698 (sabretou)\",\n",
              " \"It's good.\\tचांगलंय.\\tCC-BY 2.0 (France) Attribution: tatoeba.org #2123600 (CK) & #4718297 (sabretou)\",\n",
              " \"It's here.\\tइथे आहे.\\tCC-BY 2.0 (France) Attribution: tatoeba.org #2123598 (CK) & #2396968 (sabretou)\",\n",
              " \"It's here.\\tते इथं आहे.\\tCC-BY 2.0 (France) Attribution: tatoeba.org #2123598 (CK) & #2396970 (sabretou)\",\n",
              " \"It's mine.\\tमाझं आहे.\\tCC-BY 2.0 (France) Attribution: tatoeba.org #2123592 (CK) & #2741366 (sabretou)\",\n",
              " \"It's ours.\\tआमचं आहे.\\tCC-BY 2.0 (France) Attribution: tatoeba.org #2123588 (CK) & #3221792 (sabretou)\",\n",
              " \"It's ours.\\tआपलं आहे.\\tCC-BY 2.0 (France) Attribution: tatoeba.org #2123588 (CK) & #3221793 (sabretou)\",\n",
              " \"It's sand.\\tवाळू आहे.\\tCC-BY 2.0 (France) Attribution: tatoeba.org #2123581 (CK) & #3188154 (sabretou)\",\n",
              " \"It's time.\\tवेळ झाला आहे.\\tCC-BY 2.0 (France) Attribution: tatoeba.org #2123574 (CK) & #4438411 (sabretou)\",\n",
              " \"It's work.\\tकाम आहे.\\tCC-BY 2.0 (France) Attribution: tatoeba.org #433520 (CK) & #5219699 (sabretou)\",\n",
              " 'Keep them.\\tठेव.\\tCC-BY 2.0 (France) Attribution: tatoeba.org #2111633 (CK) & #2665631 (sabretou)',\n",
              " 'Keep them.\\tते ठेव.\\tCC-BY 2.0 (France) Attribution: tatoeba.org #2111633 (CK) & #2665632 (sabretou)',\n",
              " 'Leave now.\\tआत्ताच नीघ.\\tCC-BY 2.0 (France) Attribution: tatoeba.org #52067 (CM) & #5028458 (sabretou)',\n",
              " 'Leave now.\\tआत्ताच निघा.\\tCC-BY 2.0 (France) Attribution: tatoeba.org #52067 (CM) & #5028459 (sabretou)',\n",
              " 'Let me go!\\tमला जाऊ द्या!\\tCC-BY 2.0 (France) Attribution: tatoeba.org #250112 (CK) & #2753782 (sabretou)',\n",
              " 'Let me go!\\tमला जाऊ दे!\\tCC-BY 2.0 (France) Attribution: tatoeba.org #250112 (CK) & #2753783 (sabretou)',\n",
              " 'Let me go.\\tमला जाऊ द्या.\\tCC-BY 2.0 (France) Attribution: tatoeba.org #1935448 (Spamster) & #2753784 (sabretou)',\n",
              " 'Let me go.\\tमला जाऊ दे.\\tCC-BY 2.0 (France) Attribution: tatoeba.org #1935448 (Spamster) & #2753785 (sabretou)',\n",
              " 'Let me in.\\tमला आत येऊ दे.\\tCC-BY 2.0 (France) Attribution: tatoeba.org #277466 (CK) & #2095300 (sabretou)',\n",
              " 'Let me in.\\tमला आत येऊ द्या.\\tCC-BY 2.0 (France) Attribution: tatoeba.org #277466 (CK) & #2095301 (sabretou)',\n",
              " 'Let us go.\\tआम्हाला सोड.\\tCC-BY 2.0 (France) Attribution: tatoeba.org #4945628 (_anna) & #5972987 (sabretou)',\n",
              " 'Let us go.\\tआम्हाला सोडा.\\tCC-BY 2.0 (France) Attribution: tatoeba.org #4945628 (_anna) & #5972988 (sabretou)',\n",
              " 'Let us go.\\tआम्हाला जाऊ द्या.\\tCC-BY 2.0 (France) Attribution: tatoeba.org #4945628 (_anna) & #5972989 (sabretou)',\n",
              " 'Let us go.\\tआम्हाला जाऊ दे.\\tCC-BY 2.0 (France) Attribution: tatoeba.org #4945628 (_anna) & #5972990 (sabretou)',\n",
              " 'Let us in.\\tआम्हाला आत येऊ द्या.\\tCC-BY 2.0 (France) Attribution: tatoeba.org #3334008 (CK) & #3885789 (sabretou)',\n",
              " 'Let us in.\\tआम्हाला आत येऊ दे.\\tCC-BY 2.0 (France) Attribution: tatoeba.org #3334008 (CK) & #3885790 (sabretou)',\n",
              " \"Let's ask.\\tविचारू या.\\tCC-BY 2.0 (France) Attribution: tatoeba.org #1878526 (Asma) & #4198049 (sabretou)\",\n",
              " 'Look back!\\tपाठी बघ!\\tCC-BY 2.0 (France) Attribution: tatoeba.org #240166 (CK) & #4683148 (sabretou)',\n",
              " 'Look back!\\tमागे बघ!\\tCC-BY 2.0 (France) Attribution: tatoeba.org #240166 (CK) & #4683149 (sabretou)',\n",
              " 'Look back.\\tपाठी बघ.\\tCC-BY 2.0 (France) Attribution: tatoeba.org #2111609 (CK) & #2098805 (sabretou)',\n",
              " 'Look back.\\tमागे बघ.\\tCC-BY 2.0 (France) Attribution: tatoeba.org #2111609 (CK) & #3869088 (sabretou)',\n",
              " 'Read this.\\tहे वाच.\\tCC-BY 2.0 (France) Attribution: tatoeba.org #1098659 (cntrational) & #3924736 (sabretou)',\n",
              " 'Read this.\\tहे वाचा.\\tCC-BY 2.0 (France) Attribution: tatoeba.org #1098659 (cntrational) & #3924737 (sabretou)',\n",
              " 'Search me.\\tमाझी तलाशी घ्या.\\tCC-BY 2.0 (France) Attribution: tatoeba.org #328870 (fcbond) & #8677871 (sabretou)',\n",
              " 'Search me.\\tमाझी तलाशी घे.\\tCC-BY 2.0 (France) Attribution: tatoeba.org #328870 (fcbond) & #8677872 (sabretou)',\n",
              " 'See above.\\tवर पहा.\\tCC-BY 2.0 (France) Attribution: tatoeba.org #273621 (CM) & #5028463 (sabretou)',\n",
              " 'See below.\\tखाली पाहा.\\tCC-BY 2.0 (France) Attribution: tatoeba.org #25377 (CM) & #8677828 (sabretou)',\n",
              " 'She cried.\\tती रडली.\\tCC-BY 2.0 (France) Attribution: tatoeba.org #313193 (CK) & #4585734 (sabretou)',\n",
              " 'She cried.\\tत्या रडल्या.\\tCC-BY 2.0 (France) Attribution: tatoeba.org #313193 (CK) & #4585735 (sabretou)',\n",
              " 'She tried.\\tतिने प्रयत्न केला.\\tCC-BY 2.0 (France) Attribution: tatoeba.org #309976 (CK) & #2521439 (sabretou)',\n",
              " 'She walks.\\tती चालते.\\tCC-BY 2.0 (France) Attribution: tatoeba.org #316925 (CK) & #5028469 (sabretou)',\n",
              " 'She walks.\\tत्या चालतात.\\tCC-BY 2.0 (France) Attribution: tatoeba.org #316925 (CK) & #5028470 (sabretou)',\n",
              " 'Sign here.\\tइथे सही करा.\\tCC-BY 2.0 (France) Attribution: tatoeba.org #1526517 (pauldhunt) & #7903386 (sabretou)',\n",
              " 'Sign here.\\tइथे सही कर.\\tCC-BY 2.0 (France) Attribution: tatoeba.org #1526517 (pauldhunt) & #7903387 (sabretou)',\n",
              " 'Sit there.\\tतिथे बस.\\tCC-BY 2.0 (France) Attribution: tatoeba.org #2111551 (CK) & #2568165 (sabretou)',\n",
              " 'Sit there.\\tतिथे बसा.\\tCC-BY 2.0 (France) Attribution: tatoeba.org #2111551 (CK) & #2568166 (sabretou)',\n",
              " 'Start now.\\tआता सुरू करा.\\tCC-BY 2.0 (France) Attribution: tatoeba.org #2111523 (CK) & #2653287 (sabretou)',\n",
              " 'Start now.\\tआता सुरू कर.\\tCC-BY 2.0 (France) Attribution: tatoeba.org #2111523 (CK) & #2653288 (sabretou)',\n",
              " 'Stay away.\\tदूर रहा.\\tCC-BY 2.0 (France) Attribution: tatoeba.org #2111516 (CK) & #2558724 (sabretou)',\n",
              " 'Stay back.\\tमागे राहा.\\tCC-BY 2.0 (France) Attribution: tatoeba.org #1850251 (CK) & #7903338 (sabretou)',\n",
              " 'Stay home.\\tघरी राहा.\\tCC-BY 2.0 (France) Attribution: tatoeba.org #8624434 (Adelpa) & #8645401 (sabretou)',\n",
              " 'Stay thin.\\tबारीकच रहा.\\tCC-BY 2.0 (France) Attribution: tatoeba.org #275014 (CM) & #5028465 (sabretou)',\n",
              " 'Stop them.\\tत्यांना थांबव.\\tCC-BY 2.0 (France) Attribution: tatoeba.org #2111491 (CK) & #7022157 (sabretou)',\n",
              " 'Stop them.\\tत्यांना थांबवा.\\tCC-BY 2.0 (France) Attribution: tatoeba.org #2111491 (CK) & #7022158 (sabretou)',\n",
              " 'Take care!\\tकाळजी घे!\\tCC-BY 2.0 (France) Attribution: tatoeba.org #324861 (CK) & #5222390 (sabretou)',\n",
              " 'Take care!\\tकाळजी घ्या!\\tCC-BY 2.0 (France) Attribution: tatoeba.org #324861 (CK) & #5222391 (sabretou)',\n",
              " 'Take care.\\tकाळजी घे.\\tCC-BY 2.0 (France) Attribution: tatoeba.org #20362 (sacredceltic) & #4683131 (sabretou)',\n",
              " 'Take care.\\tकाळजी घ्या.\\tCC-BY 2.0 (France) Attribution: tatoeba.org #20362 (sacredceltic) & #4683132 (sabretou)',\n",
              " 'Take mine.\\tमाझं घे.\\tCC-BY 2.0 (France) Attribution: tatoeba.org #2111483 (CK) & #8033057 (sabretou)',\n",
              " 'Take mine.\\tमाझा घे.\\tCC-BY 2.0 (France) Attribution: tatoeba.org #2111483 (CK) & #8033058 (sabretou)',\n",
              " 'Take mine.\\tमाझी घे.\\tCC-BY 2.0 (France) Attribution: tatoeba.org #2111483 (CK) & #8033059 (sabretou)',\n",
              " 'Take mine.\\tमाझं घ्या.\\tCC-BY 2.0 (France) Attribution: tatoeba.org #2111483 (CK) & #8033060 (sabretou)',\n",
              " 'Take mine.\\tमाझी घ्या.\\tCC-BY 2.0 (France) Attribution: tatoeba.org #2111483 (CK) & #8033061 (sabretou)',\n",
              " 'Take mine.\\tमाझा घ्या.\\tCC-BY 2.0 (France) Attribution: tatoeba.org #2111483 (CK) & #8033062 (sabretou)',\n",
              " 'Take this.\\tहे घे.\\tCC-BY 2.0 (France) Attribution: tatoeba.org #2111479 (CK) & #2673485 (sabretou)',\n",
              " 'Take this.\\tहे घ्या.\\tCC-BY 2.0 (France) Attribution: tatoeba.org #2111479 (CK) & #2673486 (sabretou)',\n",
              " 'Take this.\\tहा घे.\\tCC-BY 2.0 (France) Attribution: tatoeba.org #2111479 (CK) & #7816854 (sabretou)',\n",
              " 'Take this.\\tहा घ्या.\\tCC-BY 2.0 (France) Attribution: tatoeba.org #2111479 (CK) & #7816855 (sabretou)',\n",
              " 'Take this.\\tही घे.\\tCC-BY 2.0 (France) Attribution: tatoeba.org #2111479 (CK) & #7816856 (sabretou)',\n",
              " 'Take this.\\tही घ्या.\\tCC-BY 2.0 (France) Attribution: tatoeba.org #2111479 (CK) & #7816857 (sabretou)',\n",
              " 'Thank you.\\tधन्यवाद.\\tCC-BY 2.0 (France) Attribution: tatoeba.org #1876041 (Asma) & #4683128 (sabretou)',\n",
              " \"That's it.\\tबरोब्बर.\\tCC-BY 2.0 (France) Attribution: tatoeba.org #270709 (mamat) & #2368211 (sabretou)\",\n",
              " \"That's it.\\tतेच.\\tCC-BY 2.0 (France) Attribution: tatoeba.org #270709 (mamat) & #2368212 (sabretou)\",\n",
              " 'They fell.\\tते पडले.\\tCC-BY 2.0 (France) Attribution: tatoeba.org #2111371 (CK) & #8197195 (sabretou)',\n",
              " 'They fell.\\tत्या पडल्या.\\tCC-BY 2.0 (France) Attribution: tatoeba.org #2111371 (CK) & #8197196 (sabretou)',\n",
              " 'They left.\\tते निघाले.\\tCC-BY 2.0 (France) Attribution: tatoeba.org #2111368 (CK) & #5084286 (sabretou)',\n",
              " 'They left.\\tत्या निघाल्या.\\tCC-BY 2.0 (France) Attribution: tatoeba.org #2111368 (CK) & #6793592 (sabretou)',\n",
              " 'They lied.\\tते खोटं बोलले.\\tCC-BY 2.0 (France) Attribution: tatoeba.org #2111367 (CK) & #7937852 (sabretou)',\n",
              " 'They lied.\\tत्या खोटं बोलल्या.\\tCC-BY 2.0 (France) Attribution: tatoeba.org #2111367 (CK) & #7937853 (sabretou)',\n",
              " 'They lost.\\tते हरले.\\tCC-BY 2.0 (France) Attribution: tatoeba.org #2111366 (CK) & #2657240 (sabretou)',\n",
              " 'They lost.\\tत्या हरल्या.\\tCC-BY 2.0 (France) Attribution: tatoeba.org #2111366 (CK) & #2657241 (sabretou)',\n",
              " 'Tom cried.\\tटॉम रडला.\\tCC-BY 2.0 (France) Attribution: tatoeba.org #2111190 (CK) & #2562143 (sabretou)',\n",
              " 'Tom drank.\\tटॉम प्यायला.\\tCC-BY 2.0 (France) Attribution: tatoeba.org #7410476 (CK) & #7834449 (sabretou)',\n",
              " 'Tom knits.\\tटॉम विणतो.\\tCC-BY 2.0 (France) Attribution: tatoeba.org #2111161 (CK) & #7731245 (Nativemarathi)',\n",
              " 'Tom knows.\\tटॉमला माहिती आहे.\\tCC-BY 2.0 (France) Attribution: tatoeba.org #2111160 (CK) & #7731243 (Nativemarathi)',\n",
              " 'Tom moved.\\tटॉम हलला.\\tCC-BY 2.0 (France) Attribution: tatoeba.org #2005181 (CK) & #7903305 (sabretou)',\n",
              " 'Tom tried.\\tटॉमने प्रयत्न केला.\\tCC-BY 2.0 (France) Attribution: tatoeba.org #2203870 (CK) & #2434824 (sabretou)',\n",
              " 'Tom tried.\\tटॉमने करून बघितलं.\\tCC-BY 2.0 (France) Attribution: tatoeba.org #2203870 (CK) & #2521435 (sabretou)',\n",
              " 'Tom tries.\\tटॉम प्रयत्न करतो.\\tCC-BY 2.0 (France) Attribution: tatoeba.org #2203871 (CK) & #4940123 (sabretou)',\n",
              " 'Tom voted.\\tटॉमने मत दिलं.\\tCC-BY 2.0 (France) Attribution: tatoeba.org #2203886 (CK) & #2504198 (sabretou)',\n",
              " 'Tom voted.\\tटॉमने मतदान केलं.\\tCC-BY 2.0 (France) Attribution: tatoeba.org #2203886 (CK) & #2504200 (sabretou)',\n",
              " 'Tom walks.\\tटॉम चालतो.\\tCC-BY 2.0 (France) Attribution: tatoeba.org #2203890 (CK) & #4940125 (sabretou)',\n",
              " 'Tom works.\\tटॉम काम करतो.\\tCC-BY 2.0 (France) Attribution: tatoeba.org #2203899 (CK) & #4940127 (sabretou)',\n",
              " 'Try again.\\tपुन्हा प्रयत्न कर.\\tCC-BY 2.0 (France) Attribution: tatoeba.org #31723 (CK) & #4683145 (sabretou)',\n",
              " 'Try again.\\tपुन्हा प्रयत्न करा.\\tCC-BY 2.0 (France) Attribution: tatoeba.org #31723 (CK) & #4683146 (sabretou)',\n",
              " 'Try it on.\\tघालून बघ.\\tCC-BY 2.0 (France) Attribution: tatoeba.org #2253793 (CK) & #2757631 (sabretou)',\n",
              " 'Try it on.\\tघालून बघा.\\tCC-BY 2.0 (France) Attribution: tatoeba.org #2253793 (CK) & #2757632 (sabretou)',\n",
              " 'Wait here.\\tइथे थांब.\\tCC-BY 2.0 (France) Attribution: tatoeba.org #1841188 (CK) & #7903340 (sabretou)',\n",
              " 'Wait here.\\tइथे थांबा.\\tCC-BY 2.0 (France) Attribution: tatoeba.org #1841188 (CK) & #7903341 (sabretou)',\n",
              " 'Watch Tom.\\tटॉमला बघ.\\tCC-BY 2.0 (France) Attribution: tatoeba.org #2203868 (CK) & #6848241 (sabretou)',\n",
              " 'Watch Tom.\\tटॉमला बघा.\\tCC-BY 2.0 (France) Attribution: tatoeba.org #2203868 (CK) & #6848242 (sabretou)',\n",
              " 'We saw it.\\tआम्ही बघितलं.\\tCC-BY 2.0 (France) Attribution: tatoeba.org #2241438 (CK) & #2473205 (sabretou)',\n",
              " 'We saw it.\\tआम्ही पाहिलं.\\tCC-BY 2.0 (France) Attribution: tatoeba.org #2241438 (CK) & #2473206 (sabretou)',\n",
              " 'We saw it.\\tआपण बघितलं.\\tCC-BY 2.0 (France) Attribution: tatoeba.org #2241438 (CK) & #2473207 (sabretou)',\n",
              " 'We saw it.\\tआपण पाहिलं.\\tCC-BY 2.0 (France) Attribution: tatoeba.org #2241438 (CK) & #2473208 (sabretou)',\n",
              " 'We saw it.\\tआम्ही ते बघितलं.\\tCC-BY 2.0 (France) Attribution: tatoeba.org #2241438 (CK) & #2473209 (sabretou)',\n",
              " 'We saw it.\\tआपण ते बघितलं.\\tCC-BY 2.0 (France) Attribution: tatoeba.org #2241438 (CK) & #2473210 (sabretou)',\n",
              " 'We talked.\\tआम्ही बोललो.\\tCC-BY 2.0 (France) Attribution: tatoeba.org #2107672 (CK) & #4613628 (sabretou)',\n",
              " 'We waited.\\tआम्ही थांबलो.\\tCC-BY 2.0 (France) Attribution: tatoeba.org #2107674 (CK) & #7937866 (sabretou)',\n",
              " 'We waited.\\tआपण थांबलो.\\tCC-BY 2.0 (France) Attribution: tatoeba.org #2107674 (CK) & #7937868 (sabretou)',\n",
              " 'We waited.\\tआम्ही वाट बघितली.\\tCC-BY 2.0 (France) Attribution: tatoeba.org #2107674 (CK) & #7937869 (sabretou)',\n",
              " 'We waited.\\tआपण वाट बघितली.\\tCC-BY 2.0 (France) Attribution: tatoeba.org #2107674 (CK) & #7937870 (sabretou)',\n",
              " \"We're shy.\\tआम्ही लाजाळू आहोत.\\tCC-BY 2.0 (France) Attribution: tatoeba.org #2203343 (CK) & #4767312 (sabretou)\",\n",
              " \"We're shy.\\tआपण लाजाळू आहोत.\\tCC-BY 2.0 (France) Attribution: tatoeba.org #2203343 (CK) & #4767313 (sabretou)\",\n",
              " 'Well done!\\tशाब्बास!\\tCC-BY 2.0 (France) Attribution: tatoeba.org #464478 (lukaszpp) & #5389787 (sabretou)',\n",
              " \"What's up?\\tकाय चाललंय?\\tCC-BY 2.0 (France) Attribution: tatoeba.org #25164 (CK) & #2087729 (sabretou)\",\n",
              " \"What's up?\\tवर काय आहे?\\tCC-BY 2.0 (France) Attribution: tatoeba.org #25164 (CK) & #2095382 (sabretou)\",\n",
              " \"What's up?\\tकसं काय?\\tCC-BY 2.0 (France) Attribution: tatoeba.org #25164 (CK) & #2095384 (sabretou)\",\n",
              " 'Who is he?\\tतो कोण आहे?\\tCC-BY 2.0 (France) Attribution: tatoeba.org #347331 (sysko) & #4838250 (sabretou)',\n",
              " 'Who is he?\\tते कोण आहेत?\\tCC-BY 2.0 (France) Attribution: tatoeba.org #347331 (sysko) & #4838252 (sabretou)',\n",
              " 'Who is it?\\tकोण आहे?\\tCC-BY 2.0 (France) Attribution: tatoeba.org #428379 (witbrock) & #4838253 (sabretou)',\n",
              " 'Who knows?\\tकोणास ठाऊक?\\tCC-BY 2.0 (France) Attribution: tatoeba.org #276369 (CK) & #2378385 (sabretou)',\n",
              " 'Who knows?\\tकोणाला माहीत आहे?\\tCC-BY 2.0 (France) Attribution: tatoeba.org #276369 (CK) & #2378387 (sabretou)',\n",
              " \"Who'll go?\\tकोण जाईल?\\tCC-BY 2.0 (France) Attribution: tatoeba.org #2203689 (CK) & #5224567 (sabretou)\",\n",
              " \"Who's Tom?\\tटॉम कोण आहे?\\tCC-BY 2.0 (France) Attribution: tatoeba.org #1886548 (CK) & #5224557 (sabretou)\",\n",
              " \"Who's she?\\tती कोण आहे?\\tCC-BY 2.0 (France) Attribution: tatoeba.org #2203797 (CK) & #2095326 (sabretou)\",\n",
              " \"Who's she?\\tत्या कोण आहेत?\\tCC-BY 2.0 (France) Attribution: tatoeba.org #2203797 (CK) & #2095327 (sabretou)\",\n",
              " \"Who's she?\\tती कोण?\\tCC-BY 2.0 (France) Attribution: tatoeba.org #2203797 (CK) & #4838249 (sabretou)\",\n",
              " \"Who's she?\\tत्या कोण?\\tCC-BY 2.0 (France) Attribution: tatoeba.org #2203797 (CK) & #5604846 (sabretou)\",\n",
              " 'You drive.\\tतू चालव.\\tCC-BY 2.0 (France) Attribution: tatoeba.org #2549830 (CK) & #3038068 (sabretou)',\n",
              " 'You drive.\\tतुम्ही चालवा.\\tCC-BY 2.0 (France) Attribution: tatoeba.org #2549830 (CK) & #3038069 (sabretou)',\n",
              " 'You idiot!\\tमूर्खा!\\tCC-BY 2.0 (France) Attribution: tatoeba.org #418475 (Scott) & #2445586 (sabretou)',\n",
              " 'You tried.\\tतू प्रयत्न केलास.\\tCC-BY 2.0 (France) Attribution: tatoeba.org #20119 (CK) & #2521437 (sabretou)',\n",
              " 'You tried.\\tतुम्ही प्रयत्न केलात.\\tCC-BY 2.0 (France) Attribution: tatoeba.org #20119 (CK) & #2521438 (sabretou)',\n",
              " 'Are you OK?\\tठीक आहेस का?\\tCC-BY 2.0 (France) Attribution: tatoeba.org #953106 (CK) & #2104566 (sabretou)',\n",
              " 'Are you OK?\\tबरा आहेस का?\\tCC-BY 2.0 (France) Attribution: tatoeba.org #953106 (CK) & #2378391 (sabretou)',\n",
              " 'Are you OK?\\tबरी आहेस का?\\tCC-BY 2.0 (France) Attribution: tatoeba.org #953106 (CK) & #2378392 (sabretou)',\n",
              " 'Ask anyone.\\tकोणालाही विचार.\\tCC-BY 2.0 (France) Attribution: tatoeba.org #2092642 (CK) & #3061256 (sabretou)',\n",
              " 'Be careful!\\tसावध रहा!\\tCC-BY 2.0 (France) Attribution: tatoeba.org #2047579 (CK) & #2653351 (sabretou)',\n",
              " 'Be on time.\\tवेळेवर पोहोच.\\tCC-BY 2.0 (France) Attribution: tatoeba.org #2244995 (CK) & #4438421 (sabretou)',\n",
              " 'Be on time.\\tवेळेवर पोहोचा.\\tCC-BY 2.0 (France) Attribution: tatoeba.org #2244995 (CK) & #4438422 (sabretou)',\n",
              " 'Birds sing.\\tपक्षी गातात.\\tCC-BY 2.0 (France) Attribution: tatoeba.org #278174 (CK) & #2378388 (sabretou)',\n",
              " 'Bring wine.\\tवाईन आण.\\tCC-BY 2.0 (France) Attribution: tatoeba.org #2111942 (CK) & #3293731 (sabretou)',\n",
              " 'Bring wine.\\tवाईन आणा.\\tCC-BY 2.0 (France) Attribution: tatoeba.org #2111942 (CK) & #3293732 (sabretou)',\n",
              " 'Come again.\\tपुन्हा या.\\tCC-BY 2.0 (France) Attribution: tatoeba.org #2111934 (CK) & #4471706 (sabretou)',\n",
              " 'Come again.\\tपुन्हा ये.\\tCC-BY 2.0 (France) Attribution: tatoeba.org #2111934 (CK) & #4471707 (sabretou)',\n",
              " 'Come on in.\\tआत ये.\\tCC-BY 2.0 (France) Attribution: tatoeba.org #348107 (Zifre) & #2085312 (sabretou)',\n",
              " 'Come quick!\\tलवकर ये!\\tCC-BY 2.0 (France) Attribution: tatoeba.org #274037 (CM) & #8577949 (sabretou)',\n",
              " 'Come quick!\\tलवकर या!\\tCC-BY 2.0 (France) Attribution: tatoeba.org #274037 (CM) & #8577950 (sabretou)',\n",
              " 'Definitely!\\tनक्कीच!\\tCC-BY 2.0 (France) Attribution: tatoeba.org #30542 (CM) & #5028404 (sabretou)',\n",
              " 'Do men cry?\\tमाणसं रडतात का?\\tCC-BY 2.0 (France) Attribution: tatoeba.org #1820192 (Amastan) & #3264237 (sabretou)',\n",
              " 'Do men cry?\\tपुरुष रडतात का?\\tCC-BY 2.0 (France) Attribution: tatoeba.org #1820192 (Amastan) & #3264239 (sabretou)',\n",
              " \"Don't look.\\tबघू नकोस.\\tCC-BY 2.0 (France) Attribution: tatoeba.org #2111912 (CK) & #7335302 (sabretou)\",\n",
              " \"Don't look.\\tबघू नका.\\tCC-BY 2.0 (France) Attribution: tatoeba.org #2111912 (CK) & #7335303 (sabretou)\",\n",
              " \"Don't move.\\tहलू नकोस.\\tCC-BY 2.0 (France) Attribution: tatoeba.org #433502 (CK) & #5031475 (sabretou)\",\n",
              " \"Don't move.\\tहलू नका.\\tCC-BY 2.0 (France) Attribution: tatoeba.org #433502 (CK) & #5031476 (sabretou)\",\n",
              " \"Don't talk!\\tबोलू नकोस!\\tCC-BY 2.0 (France) Attribution: tatoeba.org #326527 (CK) & #2095393 (sabretou)\",\n",
              " \"Don't talk!\\tबोलू नका!\\tCC-BY 2.0 (France) Attribution: tatoeba.org #326527 (CK) & #2095394 (sabretou)\",\n",
              " \"Don't talk.\\tबोलू नका.\\tCC-BY 2.0 (France) Attribution: tatoeba.org #2111896 (CK) & #3772441 (sabretou)\",\n",
              " \"Don't talk.\\tबोलू नकोस.\\tCC-BY 2.0 (France) Attribution: tatoeba.org #2111896 (CK) & #3772442 (sabretou)\",\n",
              " 'Fill it up.\\tभरून टाक.\\tCC-BY 2.0 (France) Attribution: tatoeba.org #322631 (CK) & #2095303 (sabretou)',\n",
              " 'Fire burns.\\tआग जळते.\\tCC-BY 2.0 (France) Attribution: tatoeba.org #23865 (CM) & #2691386 (sabretou)',\n",
              " 'Fire burns.\\tआग जाळते.\\tCC-BY 2.0 (France) Attribution: tatoeba.org #23865 (CM) & #3472477 (sabretou)',\n",
              " 'Forget Tom.\\tटॉमला विसर.\\tCC-BY 2.0 (France) Attribution: tatoeba.org #2111835 (CK) & #2685157 (sabretou)',\n",
              " 'Forget Tom.\\tटॉमला विसरा.\\tCC-BY 2.0 (France) Attribution: tatoeba.org #2111835 (CK) & #2685158 (sabretou)',\n",
              " 'Forget Tom.\\tटॉमला विसरून जा.\\tCC-BY 2.0 (France) Attribution: tatoeba.org #2111835 (CK) & #2685159 (sabretou)',\n",
              " 'Forget him.\\tत्याला विसर.\\tCC-BY 2.0 (France) Attribution: tatoeba.org #286516 (CM) & #4569760 (sabretou)',\n",
              " 'Forget him.\\tत्याला विसरून जा.\\tCC-BY 2.0 (France) Attribution: tatoeba.org #286516 (CM) & #4569761 (sabretou)',\n",
              " 'Forget him.\\tत्यांना विसर.\\tCC-BY 2.0 (France) Attribution: tatoeba.org #286516 (CM) & #4569763 (sabretou)',\n",
              " 'Forget him.\\tत्यांना विसरून जा.\\tCC-BY 2.0 (France) Attribution: tatoeba.org #286516 (CM) & #4569765 (sabretou)',\n",
              " 'God exists.\\tदेव असतो.\\tCC-BY 2.0 (France) Attribution: tatoeba.org #433457 (CK) & #8677881 (sabretou)',\n",
              " 'He is here!\\tतो इथे आहे!\\tCC-BY 2.0 (France) Attribution: tatoeba.org #754632 (papabear) & #4545132 (sabretou)',\n",
              " 'He is here!\\tइथे आहे!\\tCC-BY 2.0 (France) Attribution: tatoeba.org #754632 (papabear) & #4545133 (sabretou)',\n",
              " 'He is here!\\tइथे आहे तो!\\tCC-BY 2.0 (France) Attribution: tatoeba.org #754632 (papabear) & #4545134 (sabretou)',\n",
              " 'He is late.\\tत्याला उशीर झाला आहे.\\tCC-BY 2.0 (France) Attribution: tatoeba.org #2808253 (CM) & #4735648 (sabretou)',\n",
              " 'He is nice.\\tतो चांगला आहे.\\tCC-BY 2.0 (France) Attribution: tatoeba.org #66702 (CK) & #2095305 (sabretou)',\n",
              " 'He is nice.\\tते चांगले आहेत.\\tCC-BY 2.0 (France) Attribution: tatoeba.org #66702 (CK) & #2095306 (sabretou)',\n",
              " 'He laughed.\\tतो हसला.\\tCC-BY 2.0 (France) Attribution: tatoeba.org #299650 (Sprachprofi) & #5028467 (sabretou)',\n",
              " 'He laughed.\\tते हसले.\\tCC-BY 2.0 (France) Attribution: tatoeba.org #299650 (Sprachprofi) & #5028468 (sabretou)',\n",
              " \"He's Swiss.\\tतो स्विस आहे.\\tCC-BY 2.0 (France) Attribution: tatoeba.org #465479 (FeuDRenais) & #2673215 (sabretou)\",\n",
              " \"He's smart.\\tतो हुशार आहे.\\tCC-BY 2.0 (France) Attribution: tatoeba.org #399205 (CK) & #2095402 (sabretou)\",\n",
              " \"He's smart.\\tते हुशार आहेत.\\tCC-BY 2.0 (France) Attribution: tatoeba.org #399205 (CK) & #2095403 (sabretou)\",\n",
              " 'Hold still.\\tहलू नकोस.\\tCC-BY 2.0 (France) Attribution: tatoeba.org #2283719 (CK) & #5031475 (sabretou)',\n",
              " 'Hold still.\\tहलू नका.\\tCC-BY 2.0 (France) Attribution: tatoeba.org #2283719 (CK) & #5031476 (sabretou)',\n",
              " 'I am a man.\\tमी माणुस आहे.\\tCC-BY 2.0 (France) Attribution: tatoeba.org #386704 (Mouseneb) & #2090397 (sabretou)',\n",
              " 'I am a man.\\tमी पुरुष आहे.\\tCC-BY 2.0 (France) Attribution: tatoeba.org #386704 (Mouseneb) & #2090398 (sabretou)',\n",
              " 'I am ready.\\tमी तयार आहे.\\tCC-BY 2.0 (France) Attribution: tatoeba.org #436423 (lukaszpp) & #2434866 (sabretou)',\n",
              " 'I can read.\\tमला वाचता येतं.\\tCC-BY 2.0 (France) Attribution: tatoeba.org #3220342 (CK) & #3924830 (sabretou)',\n",
              " 'I can read.\\tमी वाचू शकतो.\\tCC-BY 2.0 (France) Attribution: tatoeba.org #3220342 (CK) & #3924831 (sabretou)',\n",
              " 'I can read.\\tमी वाचू शकते.\\tCC-BY 2.0 (France) Attribution: tatoeba.org #3220342 (CK) & #3924832 (sabretou)',\n",
              " 'I can swim.\\tमला पोहता येतं.\\tCC-BY 2.0 (France) Attribution: tatoeba.org #256178 (CK) & #2095308 (sabretou)',\n",
              " 'I can swim.\\tमी पोहू शकतो.\\tCC-BY 2.0 (France) Attribution: tatoeba.org #256178 (CK) & #2095309 (sabretou)',\n",
              " 'I can swim.\\tमी पोहू शकते.\\tCC-BY 2.0 (France) Attribution: tatoeba.org #256178 (CK) & #2095310 (sabretou)',\n",
              " 'I can walk.\\tमी चालू शकतो.\\tCC-BY 2.0 (France) Attribution: tatoeba.org #2245648 (CK) & #8204983 (sabretou)',\n",
              " 'I can walk.\\tमी चालू शकते.\\tCC-BY 2.0 (France) Attribution: tatoeba.org #2245648 (CK) & #8204984 (sabretou)',\n",
              " 'I eat here.\\tमी इथे खातो.\\tCC-BY 2.0 (France) Attribution: tatoeba.org #449105 (CK) & #2378393 (sabretou)',\n",
              " 'I eat here.\\tमी इथे जेवतो.\\tCC-BY 2.0 (France) Attribution: tatoeba.org #449105 (CK) & #2378394 (sabretou)',\n",
              " 'I eat meat.\\tमी मांस खातो.\\tCC-BY 2.0 (France) Attribution: tatoeba.org #2481707 (abkhaz) & #3236727 (sabretou)',\n",
              " 'I eat meat.\\tमी मांस खाते.\\tCC-BY 2.0 (France) Attribution: tatoeba.org #2481707 (abkhaz) & #3236728 (sabretou)',\n",
              " 'I eat rice.\\tमी भात खातो.\\tCC-BY 2.0 (France) Attribution: tatoeba.org #7073209 (azraelgnosis) & #7073242 (sabretou)',\n",
              " 'I eat rice.\\tमी भात खाते.\\tCC-BY 2.0 (France) Attribution: tatoeba.org #7073209 (azraelgnosis) & #7073243 (sabretou)',\n",
              " 'I help Tom.\\tमी टॉमची मदत करतो.\\tCC-BY 2.0 (France) Attribution: tatoeba.org #5828888 (CK) & #9337000 (sabretou)',\n",
              " 'I help Tom.\\tमी टॉमची मदत करते.\\tCC-BY 2.0 (France) Attribution: tatoeba.org #5828888 (CK) & #9337001 (sabretou)',\n",
              " 'I just ate.\\tमाझं आत्ताच खाऊन झालं आहे.\\tCC-BY 2.0 (France) Attribution: tatoeba.org #3095224 (CK) & #9056911 (sabretou)',\n",
              " 'I like him.\\tमला तो आवडतो.\\tCC-BY 2.0 (France) Attribution: tatoeba.org #283629 (CK) & #2095312 (sabretou)',\n",
              " 'I like him.\\tमला ते आवडतात.\\tCC-BY 2.0 (France) Attribution: tatoeba.org #283629 (CK) & #2095313 (sabretou)',\n",
              " 'I like tea.\\tमला चहा आवडतो.\\tCC-BY 2.0 (France) Attribution: tatoeba.org #253293 (CK) & #3957026 (sabretou)',\n",
              " 'I like you.\\tमला तू आवडतोस.\\tCC-BY 2.0 (France) Attribution: tatoeba.org #410751 (CK) & #2653481 (sabretou)',\n",
              " 'I like you.\\tमला तू आवडतेस.\\tCC-BY 2.0 (France) Attribution: tatoeba.org #410751 (CK) & #2653482 (sabretou)',\n",
              " 'I like you.\\tमला तुम्ही आवडता.\\tCC-BY 2.0 (France) Attribution: tatoeba.org #410751 (CK) & #2653483 (sabretou)',\n",
              " 'I love you.\\tमाझं तुझ्यावर प्रेम आहे.\\tCC-BY 2.0 (France) Attribution: tatoeba.org #1434 (awael58) & #6451862 (sabretou)',\n",
              " 'I love you.\\tमाझं तुमच्यावर प्रेम आहे.\\tCC-BY 2.0 (France) Attribution: tatoeba.org #1434 (awael58) & #6451863 (sabretou)',\n",
              " 'I made tea.\\tमी चहा बनवला.\\tCC-BY 2.0 (France) Attribution: tatoeba.org #2245978 (CK) & #3957034 (sabretou)',\n",
              " 'I miss you.\\tमला तुझी आठवण येते.\\tCC-BY 2.0 (France) Attribution: tatoeba.org #1308 (brauliobezerra) & #6143644 (sabretou)',\n",
              " 'I miss you.\\tमला तुमची आठवण येते.\\tCC-BY 2.0 (France) Attribution: tatoeba.org #1308 (brauliobezerra) & #6143645 (sabretou)',\n",
              " 'I ran away.\\tमी पळून गेलो.\\tCC-BY 2.0 (France) Attribution: tatoeba.org #2246045 (CK) & #2443955 (sabretou)',\n",
              " 'I ran away.\\tमी पळून गेले.\\tCC-BY 2.0 (France) Attribution: tatoeba.org #2246045 (CK) & #2443956 (sabretou)',\n",
              " 'I remember.\\tमला आठवतं.\\tCC-BY 2.0 (France) Attribution: tatoeba.org #2111799 (CK) & #4569731 (sabretou)',\n",
              " 'I remember.\\tमला आठवतो.\\tCC-BY 2.0 (France) Attribution: tatoeba.org #2111799 (CK) & #4569733 (sabretou)',\n",
              " 'I remember.\\tमला आठवते.\\tCC-BY 2.0 (France) Attribution: tatoeba.org #2111799 (CK) & #4569735 (sabretou)',\n",
              " 'I screamed.\\tमी किंचाळलो.\\tCC-BY 2.0 (France) Attribution: tatoeba.org #3374155 (CK) & #7274481 (sabretou)',\n",
              " 'I screamed.\\tमी किंचाळले.\\tCC-BY 2.0 (France) Attribution: tatoeba.org #3374155 (CK) & #7274482 (sabretou)',\n",
              " 'I see that.\\tते मला दिसतंय.\\tCC-BY 2.0 (France) Attribution: tatoeba.org #3330160 (CK) & #5004226 (sabretou)',\n",
              " 'I see them.\\tमला ते दिसतात.\\tCC-BY 2.0 (France) Attribution: tatoeba.org #1460029 (piksea) & #7213408 (sabretou)',\n",
              " 'I see them.\\tमला त्या दिसतात.\\tCC-BY 2.0 (France) Attribution: tatoeba.org #1460029 (piksea) & #7213409 (sabretou)',\n",
              " 'I see them.\\tमी त्यांना बघतो.\\tCC-BY 2.0 (France) Attribution: tatoeba.org #1460029 (piksea) & #7213411 (sabretou)',\n",
              " 'I see them.\\tमी त्यांना बघते.\\tCC-BY 2.0 (France) Attribution: tatoeba.org #1460029 (piksea) & #7213412 (sabretou)',\n",
              " 'I see them.\\tमी त्यांना पाहतो.\\tCC-BY 2.0 (France) Attribution: tatoeba.org #1460029 (piksea) & #7213413 (sabretou)',\n",
              " 'I see them.\\tमी त्यांना पाहते.\\tCC-BY 2.0 (France) Attribution: tatoeba.org #1460029 (piksea) & #7213414 (sabretou)',\n",
              " 'I shot Tom.\\tमी टॉमला गोळी मारली.\\tCC-BY 2.0 (France) Attribution: tatoeba.org #2244570 (CK) & #2390267 (sabretou)',\n",
              " 'I want Tom.\\tमला टॉम हवाय.\\tCC-BY 2.0 (France) Attribution: tatoeba.org #2235741 (CK) & #2392956 (sabretou)',\n",
              " 'I want Tom.\\tमला टॉम हवे आहेत.\\tCC-BY 2.0 (France) Attribution: tatoeba.org #2235741 (CK) & #2392958 (sabretou)',\n",
              " 'I want you.\\tमला तुम्ही हवे आहात.\\tCC-BY 2.0 (France) Attribution: tatoeba.org #17707 (CK) & #2612373 (sabretou)',\n",
              " 'I want you.\\tमला तू हवा आहेस.\\tCC-BY 2.0 (France) Attribution: tatoeba.org #17707 (CK) & #4940131 (sabretou)',\n",
              " 'I want you.\\tमला तू हवी आहेस.\\tCC-BY 2.0 (France) Attribution: tatoeba.org #17707 (CK) & #4940133 (sabretou)',\n",
              " 'I was good.\\tमी चांगला होतो.\\tCC-BY 2.0 (France) Attribution: tatoeba.org #2396155 (CK) & #8642676 (sabretou)',\n",
              " 'I was good.\\tमी चांगली होते.\\tCC-BY 2.0 (France) Attribution: tatoeba.org #2396155 (CK) & #8642677 (sabretou)',\n",
              " 'I was late.\\tमला उशीर झाला होता.\\tCC-BY 2.0 (France) Attribution: tatoeba.org #2247489 (CK) & #6693332 (sabretou)',\n",
              " 'I was sick.\\tमी आजारी होतो.\\tCC-BY 2.0 (France) Attribution: tatoeba.org #2229721 (jgauthier) & #7421841 (sabretou)',\n",
              " 'I was sick.\\tमी आजारी होते.\\tCC-BY 2.0 (France) Attribution: tatoeba.org #2229721 (jgauthier) & #7421842 (sabretou)',\n",
              " 'I work out.\\tमी व्यायाम करतो.\\tCC-BY 2.0 (France) Attribution: tatoeba.org #2247639 (CK) & #6819018 (sabretou)',\n",
              " 'I work out.\\tमी व्यायाम करते.\\tCC-BY 2.0 (France) Attribution: tatoeba.org #2247639 (CK) & #6819019 (sabretou)',\n",
              " \"I'll leave.\\tमी निघेन.\\tCC-BY 2.0 (France) Attribution: tatoeba.org #2878238 (CK) & #3220741 (sabretou)\",\n",
              " \"I'll start.\\tमी सुरुवात करेन.\\tCC-BY 2.0 (France) Attribution: tatoeba.org #2111770 (CK) & #7182007 (sabretou)\",\n",
              " \"I'll start.\\tमी सुरुवात करतो.\\tCC-BY 2.0 (France) Attribution: tatoeba.org #2111770 (CK) & #7182008 (sabretou)\",\n",
              " \"I'll start.\\tमी सुरुवात करते.\\tCC-BY 2.0 (France) Attribution: tatoeba.org #2111770 (CK) & #7182009 (sabretou)\",\n",
              " \"I'm 30 now.\\tमी आता ३० वर्षांचा आहे.\\tCC-BY 2.0 (France) Attribution: tatoeba.org #5865062 (Ricardo14) & #2522687 (sabretou)\",\n",
              " \"I'm 30 now.\\tमी आता ३० वर्षांची आहे.\\tCC-BY 2.0 (France) Attribution: tatoeba.org #5865062 (Ricardo14) & #2522688 (sabretou)\",\n",
              " \"I'm a liar.\\tमी खोटारडा आहे.\\tCC-BY 2.0 (France) Attribution: tatoeba.org #1468181 (AMIKEMA) & #3338616 (sabretou)\",\n",
              " \"I'm a liar.\\tमी खोटारडी आहे.\\tCC-BY 2.0 (France) Attribution: tatoeba.org #1468181 (AMIKEMA) & #3338617 (sabretou)\",\n",
              " \"I'm a poet.\\tमी कवी आहे.\\tCC-BY 2.0 (France) Attribution: tatoeba.org #5828913 (CK) & #6148522 (sabretou)\",\n",
              " \"I'm coming.\\tमी येतोय.\\tCC-BY 2.0 (France) Attribution: tatoeba.org #52081 (CK) & #6319968 (sabretou)\",\n",
              " \"I'm coming.\\tमी येतेय.\\tCC-BY 2.0 (France) Attribution: tatoeba.org #52081 (CK) & #6319969 (sabretou)\",\n",
              " \"I'm hungry!\\tमला भूक लागली आहे!\\tCC-BY 2.0 (France) Attribution: tatoeba.org #404096 (CK) & #2315544 (sabretou)\",\n",
              " \"I'm hungry.\\tमला भूक लागली आहे.\\tCC-BY 2.0 (France) Attribution: tatoeba.org #1839531 (CK) & #2325108 (sabretou)\",\n",
              " \"I'm scared.\\tमी घाबरलोय.\\tCC-BY 2.0 (France) Attribution: tatoeba.org #1111871 (Scott) & #2396689 (sabretou)\",\n",
              " \"I'm scared.\\tमी घाबरले आहे.\\tCC-BY 2.0 (France) Attribution: tatoeba.org #1111871 (Scott) & #2396690 (sabretou)\",\n",
              " \"I'm sleepy!\\tमला झोप आली आहे!\\tCC-BY 2.0 (France) Attribution: tatoeba.org #322707 (CK) & #4610036 (sabretou)\",\n",
              " \"I'm so fat.\\tमी किती जाडा आहे.\\tCC-BY 2.0 (France) Attribution: tatoeba.org #1339 (Zifre) & #3643434 (sabretou)\",\n",
              " \"I'm so fat.\\tमी किती जाडी आहे.\\tCC-BY 2.0 (France) Attribution: tatoeba.org #1339 (Zifre) & #3643435 (sabretou)\",\n",
              " \"I'm trying.\\tमी प्रयत्न करतोय.\\tCC-BY 2.0 (France) Attribution: tatoeba.org #2111673 (CK) & #2507683 (sabretou)\",\n",
              " \"I'm trying.\\tमी प्रयत्न करतेय.\\tCC-BY 2.0 (France) Attribution: tatoeba.org #2111673 (CK) & #2507685 (sabretou)\",\n",
              " 'Is Tom big?\\tटॉम मोठा आहे का?\\tCC-BY 2.0 (France) Attribution: tatoeba.org #2244583 (CK) & #2612464 (sabretou)',\n",
              " 'Is he tall?\\tतो उंच आहे का?\\tCC-BY 2.0 (France) Attribution: tatoeba.org #302406 (CK) & #5071832 (sabretou)',\n",
              " 'Is he tall?\\tते उंच आहेत का?\\tCC-BY 2.0 (France) Attribution: tatoeba.org #302406 (CK) & #5071833 (sabretou)',\n",
              " 'Is it done?\\tझालंय का?\\tCC-BY 2.0 (France) Attribution: tatoeba.org #2248453 (CK) & #2351803 (sabretou)',\n",
              " 'Is it free?\\tफुकटात आहे का?\\tCC-BY 2.0 (France) Attribution: tatoeba.org #322841 (CK) & #2095314 (sabretou)',\n",
              " 'Is it free?\\tमुक्त आहे का?\\tCC-BY 2.0 (France) Attribution: tatoeba.org #322841 (CK) & #2095315 (sabretou)',\n",
              " 'Is it hard?\\tकठीण आहे का?\\tCC-BY 2.0 (France) Attribution: tatoeba.org #2248461 (CK) & #4711729 (sabretou)',\n",
              " 'Is it here?\\tइथे आहे का?\\tCC-BY 2.0 (France) Attribution: tatoeba.org #1213514 (alec) & #7141480 (sabretou)',\n",
              " 'Is it nice?\\tचांगलं आहे का?\\tCC-BY 2.0 (France) Attribution: tatoeba.org #2248464 (CK) & #8647522 (sabretou)',\n",
              " 'Is it time?\\tवेळ झाला आहे का?\\tCC-BY 2.0 (France) Attribution: tatoeba.org #2248473 (CK) & #4438427 (sabretou)',\n",
              " 'Is it true?\\tखरं आहे का?\\tCC-BY 2.0 (France) Attribution: tatoeba.org #378827 (CK) & #2658697 (sabretou)',\n",
              " 'Is that so?\\tअसं का?\\tCC-BY 2.0 (France) Attribution: tatoeba.org #1120776 (cntrational) & #2745460 (sabretou)',\n",
              " 'Is this it?\\tहेच का?\\tCC-BY 2.0 (France) Attribution: tatoeba.org #871779 (CK) & #8931164 (sabretou)',\n",
              " 'Is this it?\\tएवढच का?\\tCC-BY 2.0 (France) Attribution: tatoeba.org #871779 (CK) & #8931165 (sabretou)',\n",
              " 'Is this it?\\tहेच आहे का?\\tCC-BY 2.0 (France) Attribution: tatoeba.org #871779 (CK) & #8931166 (sabretou)',\n",
              " 'Is this it?\\tएवढच आहे का?\\tCC-BY 2.0 (France) Attribution: tatoeba.org #871779 (CK) & #8931167 (sabretou)',\n",
              " \"It's alive.\\tजिवंत आहे.\\tCC-BY 2.0 (France) Attribution: tatoeba.org #1641012 (Spamster) & #4822262 (sabretou)\",\n",
              " \"It's my CD.\\tमाझी सीडी आहे.\\tCC-BY 2.0 (France) Attribution: tatoeba.org #25536 (CK) & #2097734 (sabretou)\",\n",
              " \"It's my CD.\\tती माझी सीडी आहे.\\tCC-BY 2.0 (France) Attribution: tatoeba.org #25536 (CK) & #2097735 (sabretou)\",\n",
              " \"It's night.\\tरात्र आहे.\\tCC-BY 2.0 (France) Attribution: tatoeba.org #2187224 (CK) & #4483013 (sabretou)\",\n",
              " \"It's ready.\\tतयार आहे.\\tCC-BY 2.0 (France) Attribution: tatoeba.org #2187230 (CK) & #2741344 (sabretou)\",\n",
              " \"It's white.\\tसफेद आहे.\\tCC-BY 2.0 (France) Attribution: tatoeba.org #42189 (CK) & #6892065 (sabretou)\",\n",
              " \"It's white.\\tपांढरं आहे.\\tCC-BY 2.0 (France) Attribution: tatoeba.org #42189 (CK) & #6892066 (sabretou)\",\n",
              " \"It's white.\\tपांढरा आहे.\\tCC-BY 2.0 (France) Attribution: tatoeba.org #42189 (CK) & #6892067 (sabretou)\",\n",
              " \"It's white.\\tपांढरी आहे.\\tCC-BY 2.0 (France) Attribution: tatoeba.org #42189 (CK) & #6892068 (sabretou)\",\n",
              " \"It's yours.\\tतुझंय.\\tCC-BY 2.0 (France) Attribution: tatoeba.org #2187248 (CK) & #2393337 (sabretou)\",\n",
              " \"It's yours.\\tतुझं आहे.\\tCC-BY 2.0 (France) Attribution: tatoeba.org #2187248 (CK) & #2393338 (sabretou)\",\n",
              " \"It's yours.\\tतुमचं आहे.\\tCC-BY 2.0 (France) Attribution: tatoeba.org #2187248 (CK) & #2393339 (sabretou)\",\n",
              " \"It's yours.\\tआपलंच आहे.\\tCC-BY 2.0 (France) Attribution: tatoeba.org #2187248 (CK) & #2393340 (sabretou)\",\n",
              " 'Jesus wept.\\tयेशू रडला.\\tCC-BY 2.0 (France) Attribution: tatoeba.org #66664 (CM) & #2528957 (sabretou)',\n",
              " 'Keep quiet!\\tशांत हो!\\tCC-BY 2.0 (France) Attribution: tatoeba.org #272075 (CK) & #8293219 (sabretou)',\n",
              " 'Keep quiet!\\tशांत व्हा!\\tCC-BY 2.0 (France) Attribution: tatoeba.org #272075 (CK) & #8677849 (sabretou)',\n",
              " 'Keep quiet!\\tशांत राहा!\\tCC-BY 2.0 (France) Attribution: tatoeba.org #272075 (CK) & #8677851 (sabretou)',\n",
              " 'Keep quiet.\\tशांत हो.\\tCC-BY 2.0 (France) Attribution: tatoeba.org #272043 (CK) & #3772443 (sabretou)',\n",
              " 'Keep quiet.\\tशांत व्हा.\\tCC-BY 2.0 (France) Attribution: tatoeba.org #272043 (CK) & #3772444 (sabretou)',\n",
              " 'Keep quiet.\\tशांत राहा.\\tCC-BY 2.0 (France) Attribution: tatoeba.org #272043 (CK) & #8677850 (sabretou)',\n",
              " 'Let Tom go.\\tटॉमला सोड.\\tCC-BY 2.0 (France) Attribution: tatoeba.org #1935451 (Spamster) & #5182398 (sabretou)',\n",
              " 'Let Tom go.\\tटॉमला सोडा.\\tCC-BY 2.0 (France) Attribution: tatoeba.org #1935451 (Spamster) & #5182400 (sabretou)',\n",
              " 'Let Tom go.\\tटॉमला जाऊ दे.\\tCC-BY 2.0 (France) Attribution: tatoeba.org #1935451 (Spamster) & #5182401 (sabretou)',\n",
              " 'Let Tom go.\\tटॉमला जाऊ द्या.\\tCC-BY 2.0 (France) Attribution: tatoeba.org #1935451 (Spamster) & #5182402 (sabretou)',\n",
              " 'Let Tom in.\\tटॉमला आत येऊ दे.\\tCC-BY 2.0 (France) Attribution: tatoeba.org #2235853 (CK) & #3142147 (sabretou)',\n",
              " 'Let Tom in.\\tटॉमला आत येऊ द्या.\\tCC-BY 2.0 (France) Attribution: tatoeba.org #2235853 (CK) & #3142149 (sabretou)',\n",
              " 'Let him go!\\tसोडा त्याला!\\tCC-BY 2.0 (France) Attribution: tatoeba.org #1894371 (Spamster) & #5296105 (sabretou)',\n",
              " 'Let him go!\\tसोडा त्यांना!\\tCC-BY 2.0 (France) Attribution: tatoeba.org #1894371 (Spamster) & #5296106 (sabretou)',\n",
              " 'Let me see.\\tमला बघू दे.\\tCC-BY 2.0 (France) Attribution: tatoeba.org #65316 (CK) & #2095317 (sabretou)',\n",
              " 'Let me see.\\tमला बघू द्या.\\tCC-BY 2.0 (France) Attribution: tatoeba.org #65316 (CK) & #2095318 (sabretou)',\n",
              " \"Let's chat.\\tगप्पा मारूया.\\tCC-BY 2.0 (France) Attribution: tatoeba.org #2007940 (CK) & #5239409 (sabretou)\",\n",
              " \"Let's kiss.\\tकिस करूया.\\tCC-BY 2.0 (France) Attribution: tatoeba.org #2007939 (CK) & #8410941 (sabretou)\",\n",
              " \"Let's talk.\\tबोलूया.\\tCC-BY 2.0 (France) Attribution: tatoeba.org #2007936 (CK) & #4613649 (sabretou)\",\n",
              " 'Look again.\\tपरत बघ.\\tCC-BY 2.0 (France) Attribution: tatoeba.org #2111614 (CK) & #2584074 (sabretou)',\n",
              " 'Look again.\\tपरत बघा.\\tCC-BY 2.0 (France) Attribution: tatoeba.org #2111614 (CK) & #2584075 (sabretou)',\n",
              " 'Look ahead.\\tपुढे बघ.\\tCC-BY 2.0 (France) Attribution: tatoeba.org #2111613 (CK) & #2680571 (sabretou)',\n",
              " 'Look ahead.\\tसमोर बघ.\\tCC-BY 2.0 (France) Attribution: tatoeba.org #2111613 (CK) & #2680572 (sabretou)',\n",
              " 'Look ahead.\\tसमोर बघा.\\tCC-BY 2.0 (France) Attribution: tatoeba.org #2111613 (CK) & #2680573 (sabretou)',\n",
              " 'Look at me.\\tमाझ्याकडे बघ.\\tCC-BY 2.0 (France) Attribution: tatoeba.org #262412 (CK) & #2095319 (sabretou)',\n",
              " 'Look at me.\\tमाझ्याकडे बघा.\\tCC-BY 2.0 (France) Attribution: tatoeba.org #262412 (CK) & #2095320 (sabretou)',\n",
              " 'Look there.\\tतिथे बघ.\\tCC-BY 2.0 (France) Attribution: tatoeba.org #1635351 (Amastan) & #7903366 (sabretou)',\n",
              " 'Look there.\\tतिथे बघा.\\tCC-BY 2.0 (France) Attribution: tatoeba.org #1635351 (Amastan) & #7903367 (sabretou)',\n",
              " 'Love lasts.\\tप्रेम टिकतं.\\tCC-BY 2.0 (France) Attribution: tatoeba.org #2111603 (CK) & #3486908 (sabretou)',\n",
              " 'Never mind!\\tसोडा!\\tCC-BY 2.0 (France) Attribution: tatoeba.org #20394 (CM) & #8677817 (sabretou)',\n",
              " 'Never mind!\\tसोड!\\tCC-BY 2.0 (France) Attribution: tatoeba.org #20394 (CM) & #8677818 (sabretou)',\n",
              " 'Never mind!\\tजाऊ दे!\\tCC-BY 2.0 (France) Attribution: tatoeba.org #20394 (CM) & #8677819 (sabretou)',\n",
              " 'Never mind!\\tजाऊ द्या!\\tCC-BY 2.0 (France) Attribution: tatoeba.org #20394 (CM) & #8677820 (sabretou)',\n",
              " 'No one ran.\\tकोणीही धावलं नाही.\\tCC-BY 2.0 (France) Attribution: tatoeba.org #6335671 (CK) & #7647335 (sabretou)',\n",
              " 'Quiet down.\\tशांत हो.\\tCC-BY 2.0 (France) Attribution: tatoeba.org #904801 (Trailsend) & #3772443 (sabretou)',\n",
              " 'Quiet down.\\tशांत व्हा.\\tCC-BY 2.0 (France) Attribution: tatoeba.org #904801 (Trailsend) & #3772444 (sabretou)',\n",
              " 'Shadow him.\\tत्याचा पाठलाग करा.\\tCC-BY 2.0 (France) Attribution: tatoeba.org #240171 (CM) & #8677836 (sabretou)',\n",
              " 'Shadow him.\\tत्याचा पाठलाग कर.\\tCC-BY 2.0 (France) Attribution: tatoeba.org #240171 (CM) & #8677837 (sabretou)',\n",
              " 'Shadow him.\\tत्यांचा पाठलाग कर.\\tCC-BY 2.0 (France) Attribution: tatoeba.org #240171 (CM) & #8677839 (sabretou)',\n",
              " 'Shadow him.\\tत्यांचा पाठलाग करा.\\tCC-BY 2.0 (France) Attribution: tatoeba.org #240171 (CM) & #8677841 (sabretou)',\n",
              " 'She is old.\\tती म्हातारी आहे.\\tCC-BY 2.0 (France) Attribution: tatoeba.org #1335485 (boscowitch) & #4996773 (sabretou)',\n",
              " 'She is old.\\tती वयस्कर आहे.\\tCC-BY 2.0 (France) Attribution: tatoeba.org #1335485 (boscowitch) & #4996774 (sabretou)',\n",
              " 'Smell this.\\tयाचा वास घे.\\tCC-BY 2.0 (France) Attribution: tatoeba.org #3921552 (CK) & #5265835 (sabretou)',\n",
              " 'Smell this.\\tयाचा वास घ्या.\\tCC-BY 2.0 (France) Attribution: tatoeba.org #3921552 (CK) & #5265836 (sabretou)',\n",
              " 'Stand back!\\tपाठी हो!\\tCC-BY 2.0 (France) Attribution: tatoeba.org #1894221 (Spamster) & #2434867 (sabretou)',\n",
              " 'Stand back!\\tपाठी व्हा!\\tCC-BY 2.0 (France) Attribution: tatoeba.org #1894221 (Spamster) & #2434868 (sabretou)',\n",
              " 'Start here.\\tइथून सुरुवात कर.\\tCC-BY 2.0 (France) Attribution: tatoeba.org #2111524 (CK) & #3895993 (sabretou)',\n",
              " 'Start here.\\tइथून सुरू कर.\\tCC-BY 2.0 (France) Attribution: tatoeba.org #2111524 (CK) & #3895994 (sabretou)',\n",
              " 'Start here.\\tइथून सुरूवात करा.\\tCC-BY 2.0 (France) Attribution: tatoeba.org #2111524 (CK) & #3895996 (sabretou)',\n",
              " 'Start here.\\tइथून सुरू करा.\\tCC-BY 2.0 (France) Attribution: tatoeba.org #2111524 (CK) & #3895997 (sabretou)',\n",
              " 'Start here.\\tइथे सुरू कर.\\tCC-BY 2.0 (France) Attribution: tatoeba.org #2111524 (CK) & #3895999 (sabretou)',\n",
              " 'Start here.\\tइथे सुरू करा.\\tCC-BY 2.0 (France) Attribution: tatoeba.org #2111524 (CK) & #3896000 (sabretou)',\n",
              " 'Stay alert.\\tजागृत रहा.\\tCC-BY 2.0 (France) Attribution: tatoeba.org #2111518 (CK) & #2638386 (sabretou)',\n",
              " 'Stay alert.\\tजागृत रहावे.\\tCC-BY 2.0 (France) Attribution: tatoeba.org #2111518 (CK) & #2638388 (sabretou)',\n",
              " 'Stay still.\\tस्थिर रहा.\\tCC-BY 2.0 (France) Attribution: tatoeba.org #2111509 (CK) & #7091542 (sabretou)',\n",
              " 'Step aside.\\tबाजूला व्हा!\\tCC-BY 2.0 (France) Attribution: tatoeba.org #40051 (CK) & #2666099 (sabretou)',\n",
              " 'Step aside.\\tबाजूला हो!\\tCC-BY 2.0 (France) Attribution: tatoeba.org #40051 (CK) & #2666100 (sabretou)',\n",
              " 'Study hard.\\tमेहनतीने अभ्यास कर.\\tCC-BY 2.0 (France) Attribution: tatoeba.org #53465 (CK) & #5028460 (sabretou)',\n",
              " 'Study hard.\\tमेहनतीने अभ्यास करा.\\tCC-BY 2.0 (France) Attribution: tatoeba.org #53465 (CK) & #5028461 (sabretou)',\n",
              " 'Take a bus.\\tबस पकड.\\tCC-BY 2.0 (France) Attribution: tatoeba.org #35369 (CK) & #2095321 (sabretou)',\n",
              " 'Take a bus.\\tबस पकडा.\\tCC-BY 2.0 (France) Attribution: tatoeba.org #35369 (CK) & #2095322 (sabretou)',\n",
              " 'Take a bus.\\tएखादी बस पकड.\\tCC-BY 2.0 (France) Attribution: tatoeba.org #35369 (CK) & #2095323 (sabretou)',\n",
              " 'Take these.\\tहे घे.\\tCC-BY 2.0 (France) Attribution: tatoeba.org #2111480 (CK) & #2673485 (sabretou)',\n",
              " 'Take these.\\tहे घ्या.\\tCC-BY 2.0 (France) Attribution: tatoeba.org #2111480 (CK) & #2673486 (sabretou)',\n",
              " 'Take these.\\tह्या घे.\\tCC-BY 2.0 (France) Attribution: tatoeba.org #2111480 (CK) & #2673487 (sabretou)',\n",
              " 'Take these.\\tह्या घ्या.\\tCC-BY 2.0 (France) Attribution: tatoeba.org #2111480 (CK) & #2673488 (sabretou)',\n",
              " 'Talk to me.\\tबोल माझ्याशी.\\tCC-BY 2.0 (France) Attribution: tatoeba.org #2649248 (CK) & #7294763 (sabretou)',\n",
              " 'Talk to us.\\tआमच्याबरोबर बोल.\\tCC-BY 2.0 (France) Attribution: tatoeba.org #2250075 (CK) & #2503363 (sabretou)',\n",
              " 'That a boy!\\tशाब्बास!\\tCC-BY 2.0 (France) Attribution: tatoeba.org #51144 (CK) & #5389787 (sabretou)',\n",
              " \"That's Tom.\\tतो टॉम आहे.\\tCC-BY 2.0 (France) Attribution: tatoeba.org #2111395 (CK) & #2305048 (sabretou)\",\n",
              " \"That's Tom.\\tतो टॉम.\\tCC-BY 2.0 (France) Attribution: tatoeba.org #2111395 (CK) & #2305049 (sabretou)\",\n",
              " \"That's wet.\\tते ओलं आहे.\\tCC-BY 2.0 (France) Attribution: tatoeba.org #6532456 (CK) & #2682539 (sabretou)\",\n",
              " 'They stood.\\tत्या उभ्या राहिल्या.\\tCC-BY 2.0 (France) Attribution: tatoeba.org #2111360 (CK) & #3613141 (sabretou)',\n",
              " 'They stood.\\tते उभे राहिले.\\tCC-BY 2.0 (France) Attribution: tatoeba.org #2111360 (CK) & #3613145 (sabretou)',\n",
              " 'They tried.\\tत्यांनी प्रयत्न केला.\\tCC-BY 2.0 (France) Attribution: tatoeba.org #2111356 (CK) & #2521441 (sabretou)',\n",
              " 'This is me.\\tहा मी.\\tCC-BY 2.0 (France) Attribution: tatoeba.org #3812012 (CM) & #8161044 (sabretou)',\n",
              " 'This is me.\\tही मी.\\tCC-BY 2.0 (France) Attribution: tatoeba.org #3812012 (CM) & #8161045 (sabretou)',\n",
              " 'Time is up.\\tवेळ समाप्त.\\tCC-BY 2.0 (France) Attribution: tatoeba.org #31334 (CK) & #4438398 (sabretou)',\n",
              " 'Time is up.\\tवेळ संपली.\\tCC-BY 2.0 (France) Attribution: tatoeba.org #31334 (CK) & #4438399 (sabretou)',\n",
              " 'Tom bit me.\\tटॉमने मला चावलं.\\tCC-BY 2.0 (France) Attribution: tatoeba.org #2236023 (CK) & #2676326 (sabretou)',\n",
              " 'Tom burped.\\tटॉमने ढेकर दिला.\\tCC-BY 2.0 (France) Attribution: tatoeba.org #2111198 (CK) & #3026906 (sabretou)',\n",
              " 'Tom called.\\tटॉमने फोन केला.\\tCC-BY 2.0 (France) Attribution: tatoeba.org #2111197 (CK) & #4418440 (sabretou)',\n",
              " 'Tom called.\\tटॉमने बोलवले.\\tCC-BY 2.0 (France) Attribution: tatoeba.org #2111197 (CK) & #7903274 (sabretou)',\n",
              " 'Tom danced.\\tटॉम नाचला.\\tCC-BY 2.0 (France) Attribution: tatoeba.org #2111189 (CK) & #2562142 (sabretou)',\n",
              " 'Tom drinks.\\tटॉम पितो.\\tCC-BY 2.0 (France) Attribution: tatoeba.org #2111187 (CK) & #2562141 (sabretou)',\n",
              " 'Tom failed.\\tटॉम अपयशी ठरला.\\tCC-BY 2.0 (France) Attribution: tatoeba.org #2111179 (CK) & #7937861 (sabretou)',\n",
              " 'Tom failed.\\tटॉम फेल झाला.\\tCC-BY 2.0 (France) Attribution: tatoeba.org #2111179 (CK) & #7937862 (sabretou)',\n",
              " 'Tom forgot.\\tटॉम विसरला.\\tCC-BY 2.0 (France) Attribution: tatoeba.org #2111175 (CK) & #2562137 (sabretou)',\n",
              " 'Tom fought.\\tटॉम लढला.\\tCC-BY 2.0 (France) Attribution: tatoeba.org #2111174 (CK) & #2444235 (sabretou)',\n",
              " 'Tom helped.\\tटॉमने मदत केली.\\tCC-BY 2.0 (France) Attribution: tatoeba.org #2111166 (CK) & #2562131 (sabretou)',\n",
              " 'Tom is fat.\\tटॉम जाडा आहे.\\tCC-BY 2.0 (France) Attribution: tatoeba.org #4265695 (CK) & #6143956 (sabretou)',\n",
              " 'Tom is ill.\\tटॉम आजारी आहे.\\tCC-BY 2.0 (France) Attribution: tatoeba.org #2236724 (CK) & #2626742 (sabretou)',\n",
              " 'Tom is out.\\tटॉम बाहेर आहे.\\tCC-BY 2.0 (France) Attribution: tatoeba.org #1093453 (CK) & #2872721 (sabretou)',\n",
              " 'Tom is out.\\tटॉम आउट झाला आहे.\\tCC-BY 2.0 (France) Attribution: tatoeba.org #1093453 (CK) & #6552264 (sabretou)',\n",
              " 'Tom jumped.\\tटॉमने उडी मारली.\\tCC-BY 2.0 (France) Attribution: tatoeba.org #2111162 (CK) & #2562125 (sabretou)',\n",
              " 'Tom looked.\\tटॉमने बघितलं.\\tCC-BY 2.0 (France) Attribution: tatoeba.org #2111157 (CK) & #2562120 (sabretou)',\n",
              " 'Tom moaned.\\tटॉम कण्हला.\\tCC-BY 2.0 (France) Attribution: tatoeba.org #2111156 (CK) & #7731242 (Nativemarathi)',\n",
              " 'Tom phoned.\\tटॉमने फोन केला.\\tCC-BY 2.0 (France) Attribution: tatoeba.org #2203753 (CK) & #4418440 (sabretou)',\n",
              " 'Tom saw me.\\tटॉमने मला पाहिलं.\\tCC-BY 2.0 (France) Attribution: tatoeba.org #2237655 (CK) & #6971852 (sabretou)',\n",
              " 'Tom saw me.\\tटॉमने मला बघितलं.\\tCC-BY 2.0 (France) Attribution: tatoeba.org #2237655 (CK) & #6971853 (sabretou)',\n",
              " 'Tom shaved.\\tटॉमने दाढी केली.\\tCC-BY 2.0 (France) Attribution: tatoeba.org #1531053 (Spamster) & #6968312 (sabretou)',\n",
              " 'Tom snores.\\tटॉम घोरतो.\\tCC-BY 2.0 (France) Attribution: tatoeba.org #2111153 (CK) & #2562118 (sabretou)',\n",
              " 'Tom talked.\\tटॉम बोलला.\\tCC-BY 2.0 (France) Attribution: tatoeba.org #2203849 (CK) & #4613631 (sabretou)',\n",
              " 'Tom waited.\\tटॉम थांबला.\\tCC-BY 2.0 (France) Attribution: tatoeba.org #2111151 (CK) & #3348159 (sabretou)',\n",
              " 'Tom waited.\\tटॉमने वाट पाहिली.\\tCC-BY 2.0 (France) Attribution: tatoeba.org #2111151 (CK) & #3348160 (sabretou)',\n",
              " 'Tom yawned.\\tटॉमने आळस दिली.\\tCC-BY 2.0 (France) Attribution: tatoeba.org #2005186 (CK) & #7903307 (sabretou)',\n",
              " 'Tom yelled.\\tटॉम ओरडला.\\tCC-BY 2.0 (France) Attribution: tatoeba.org #2203901 (CK) & #8197173 (sabretou)',\n",
              " \"Tom'll die.\\tटॉम मरेल.\\tCC-BY 2.0 (France) Attribution: tatoeba.org #2123529 (CK) & #2351745 (sabretou)\",\n",
              " \"Tom's deaf.\\tटॉम बहिरा आहे.\\tCC-BY 2.0 (France) Attribution: tatoeba.org #2107479 (CK) & #2562103 (sabretou)\",\n",
              " \"Tom's sick.\\tटॉम आजारी आहे.\\tCC-BY 2.0 (France) Attribution: tatoeba.org #2107594 (CK) & #2626742 (sabretou)\",\n",
              " \"Tom's ugly.\\tटॉम कुरूप आहे.\\tCC-BY 2.0 (France) Attribution: tatoeba.org #2107631 (CK) & #2507521 (sabretou)\",\n",
              " 'Turn right.\\tउजवीकडे वळ.\\tCC-BY 2.0 (France) Attribution: tatoeba.org #464290 (lukaszpp) & #7647048 (sabretou)',\n",
              " 'Turn right.\\tउजवीकडे वळा.\\tCC-BY 2.0 (France) Attribution: tatoeba.org #464290 (lukaszpp) & #7647049 (sabretou)',\n",
              " 'Watch this.\\tहे बघ.\\tCC-BY 2.0 (France) Attribution: tatoeba.org #2549825 (CK) & #4196102 (sabretou)',\n",
              " 'Watch this.\\tहे बघा.\\tCC-BY 2.0 (France) Attribution: tatoeba.org #2549825 (CK) & #4196104 (sabretou)',\n",
              " 'We are men.\\tआम्ही माणसं आहोत.\\tCC-BY 2.0 (France) Attribution: tatoeba.org #388869 (CK) & #2095324 (sabretou)',\n",
              " 'We are men.\\tआपण माणसं आहोत.\\tCC-BY 2.0 (France) Attribution: tatoeba.org #388869 (CK) & #2095325 (sabretou)',\n",
              " 'We had fun.\\tआम्ही मजा केली.\\tCC-BY 2.0 (France) Attribution: tatoeba.org #2241101 (CK) & #8908308 (sabretou)',\n",
              " 'We had fun.\\tआपण मजा केली.\\tCC-BY 2.0 (France) Attribution: tatoeba.org #2241101 (CK) & #8908309 (sabretou)',\n",
              " 'We laughed.\\tआम्ही हसलो.\\tCC-BY 2.0 (France) Attribution: tatoeba.org #1922452 (teapot) & #3033404 (sabretou)',\n",
              " 'We laughed.\\tआपण हसलो.\\tCC-BY 2.0 (France) Attribution: tatoeba.org #1922452 (teapot) & #3033405 (sabretou)',\n",
              " 'We like it.\\tआम्हाला आवडतं.\\tCC-BY 2.0 (France) Attribution: tatoeba.org #2241145 (CK) & #6986533 (sabretou)',\n",
              " 'We like it.\\tआम्हाला आवडते.\\tCC-BY 2.0 (France) Attribution: tatoeba.org #2241145 (CK) & #6986534 (sabretou)',\n",
              " 'We like it.\\tआम्हाला आवडतो.\\tCC-BY 2.0 (France) Attribution: tatoeba.org #2241145 (CK) & #6986535 (sabretou)',\n",
              " 'We like it.\\tआपल्याला आवडतं.\\tCC-BY 2.0 (France) Attribution: tatoeba.org #2241145 (CK) & #6986536 (sabretou)',\n",
              " 'We like it.\\tआपल्याला आवडतो.\\tCC-BY 2.0 (France) Attribution: tatoeba.org #2241145 (CK) & #6986537 (sabretou)',\n",
              " 'We like it.\\tआपल्याला आवडती.\\tCC-BY 2.0 (France) Attribution: tatoeba.org #2241145 (CK) & #6986538 (sabretou)',\n",
              " 'We want it.\\tआम्हाला ते हवं आहे.\\tCC-BY 2.0 (France) Attribution: tatoeba.org #2708748 (CK) & #2788260 (sabretou)',\n",
              " 'We want it.\\tआम्हाला हवं आहे.\\tCC-BY 2.0 (France) Attribution: tatoeba.org #2708748 (CK) & #2788261 (sabretou)',\n",
              " 'We want it.\\tआपल्याला ते हवं आहे.\\tCC-BY 2.0 (France) Attribution: tatoeba.org #2708748 (CK) & #2788262 (sabretou)',\n",
              " \"We'll help.\\tआम्ही मदत करू.\\tCC-BY 2.0 (France) Attribution: tatoeba.org #2107677 (CK) & #2672847 (sabretou)\",\n",
              " \"We'll help.\\tआपण मदत करू.\\tCC-BY 2.0 (France) Attribution: tatoeba.org #2107677 (CK) & #2672848 (sabretou)\",\n",
              " \"We'll sing.\\tआम्ही गाऊ.\\tCC-BY 2.0 (France) Attribution: tatoeba.org #2203802 (CK) & #3932020 (sabretou)\",\n",
              " \"We'll sing.\\tआपण गाऊ.\\tCC-BY 2.0 (France) Attribution: tatoeba.org #2203802 (CK) & #3932021 (sabretou)\",\n",
              " \"We'll wait.\\tआम्ही थांबू.\\tCC-BY 2.0 (France) Attribution: tatoeba.org #2107683 (CK) & #2372902 (sabretou)\",\n",
              " \"We'll wait.\\tआपण थांबू.\\tCC-BY 2.0 (France) Attribution: tatoeba.org #2107683 (CK) & #2372903 (sabretou)\",\n",
              " \"We'll work.\\tआम्ही काम करू.\\tCC-BY 2.0 (France) Attribution: tatoeba.org #2203896 (CK) & #2386167 (sabretou)\",\n",
              " \"We're back.\\tआम्ही परत आलो आहोत.\\tCC-BY 2.0 (France) Attribution: tatoeba.org #2107332 (CK) & #8654190 (sabretou)\",\n",
              " \"We're back.\\tआपण परत आलो आहोत.\\tCC-BY 2.0 (France) Attribution: tatoeba.org #2107332 (CK) & #8654191 (sabretou)\",\n",
              " \"We're boys.\\tआम्ही मुलं आहोत.\\tCC-BY 2.0 (France) Attribution: tatoeba.org #6874274 (CK) & #5389790 (sabretou)\",\n",
              " \"We're boys.\\tआपण मुलं आहोत.\\tCC-BY 2.0 (France) Attribution: tatoeba.org #6874274 (CK) & #5389791 (sabretou)\",\n",
              " \"We're fine.\\tआम्ही बरे आहोत.\\tCC-BY 2.0 (France) Attribution: tatoeba.org #2107345 (CK) & #7962699 (sabretou)\",\n",
              " \"We're fine.\\tआपण बरे आहोत.\\tCC-BY 2.0 (France) Attribution: tatoeba.org #2107345 (CK) & #7962700 (sabretou)\",\n",
              " \"We're fine.\\tआम्ही बर्\\u200dया आहोत.\\tCC-BY 2.0 (France) Attribution: tatoeba.org #2107345 (CK) & #7962701 (sabretou)\",\n",
              " \"We're fine.\\tआपण बर्\\u200dया आहोत.\\tCC-BY 2.0 (France) Attribution: tatoeba.org #2107345 (CK) & #7962702 (sabretou)\",\n",
              " 'Where am I?\\tमी कुठे आहे?\\tCC-BY 2.0 (France) Attribution: tatoeba.org #255212 (adjusting) & #5222430 (sabretou)',\n",
              " 'Who are we?\\tआपण कोण आहोत?\\tCC-BY 2.0 (France) Attribution: tatoeba.org #2254698 (CK) & #2526926 (sabretou)',\n",
              " 'Who are we?\\tआम्ही कोण आहोत?\\tCC-BY 2.0 (France) Attribution: tatoeba.org #2254698 (CK) & #2526927 (sabretou)',\n",
              " 'Who did it?\\tकोणी केलं?\\tCC-BY 2.0 (France) Attribution: tatoeba.org #276223 (CK) & #5224531 (sabretou)',\n",
              " 'Who has it?\\tकोणाकडे आहे?\\tCC-BY 2.0 (France) Attribution: tatoeba.org #2254728 (CK) & #2526991 (sabretou)',\n",
              " 'Who has it?\\tते कोणाकडे आहे?\\tCC-BY 2.0 (France) Attribution: tatoeba.org #2254728 (CK) & #2526992 (sabretou)',\n",
              " 'Who is Tom?\\tटॉम कोण आहे?\\tCC-BY 2.0 (France) Attribution: tatoeba.org #2587424 (Hybrid) & #5224557 (sabretou)',\n",
              " 'Who is she?\\tती कोण आहे?\\tCC-BY 2.0 (France) Attribution: tatoeba.org #315731 (CK) & #2095326 (sabretou)',\n",
              " 'Who is she?\\tत्या कोण आहेत?\\tCC-BY 2.0 (France) Attribution: tatoeba.org #315731 (CK) & #2095327 (sabretou)',\n",
              " 'Who phoned?\\tकोणी फोन केला?\\tCC-BY 2.0 (France) Attribution: tatoeba.org #2203752 (CK) & #5224516 (sabretou)',\n",
              " 'Who talked?\\tकोण बोललं?\\tCC-BY 2.0 (France) Attribution: tatoeba.org #2203848 (CK) & #4613630 (sabretou)',\n",
              " 'Who was it?\\tकोण होतं?\\tCC-BY 2.0 (France) Attribution: tatoeba.org #2254891 (CK) & #2527086 (sabretou)',\n",
              " 'Who yelled?\\tकोण ओरडलं?\\tCC-BY 2.0 (France) Attribution: tatoeba.org #2203900 (CK) & #5224519 (sabretou)',\n",
              " \"Who's here?\\tकोण आहे इथे?\\tCC-BY 2.0 (France) Attribution: tatoeba.org #2203695 (CK) & #5224568 (sabretou)\",\n",
              " \"Who's that?\\tती कोण आहे?\\tCC-BY 2.0 (France) Attribution: tatoeba.org #742806 (rpglover64) & #2095326 (sabretou)\",\n",
              " \"Who's that?\\tतो कोण?\\tCC-BY 2.0 (France) Attribution: tatoeba.org #742806 (rpglover64) & #4838247 (sabretou)\",\n",
              " \"Who's that?\\tते कोण?\\tCC-BY 2.0 (France) Attribution: tatoeba.org #742806 (rpglover64) & #4838248 (sabretou)\",\n",
              " \"Who's that?\\tती कोण?\\tCC-BY 2.0 (France) Attribution: tatoeba.org #742806 (rpglover64) & #4838249 (sabretou)\",\n",
              " \"Who's that?\\tतो कोण आहे?\\tCC-BY 2.0 (France) Attribution: tatoeba.org #742806 (rpglover64) & #4838250 (sabretou)\",\n",
              " \"Who's that?\\tते कोण आहेत?\\tCC-BY 2.0 (France) Attribution: tatoeba.org #742806 (rpglover64) & #4838252 (sabretou)\",\n",
              " 'Wood burns.\\tलाकुड जळतं.\\tCC-BY 2.0 (France) Attribution: tatoeba.org #323576 (CK) & #2095328 (sabretou)',\n",
              " 'You decide.\\tतुम्हीच ठरवा.\\tCC-BY 2.0 (France) Attribution: tatoeba.org #1747551 (belgavox) & #7903344 (sabretou)',\n",
              " 'You decide.\\tतूच ठरव.\\tCC-BY 2.0 (France) Attribution: tatoeba.org #1747551 (belgavox) & #7903345 (sabretou)',\n",
              " 'You decide.\\tतुम्ही ठरवा.\\tCC-BY 2.0 (France) Attribution: tatoeba.org #1747551 (belgavox) & #7903346 (sabretou)',\n",
              " 'You decide.\\tतू ठरव.\\tCC-BY 2.0 (France) Attribution: tatoeba.org #1747551 (belgavox) & #7903347 (sabretou)',\n",
              " 'You may go.\\tतुम्ही जाऊ शकता.\\tCC-BY 2.0 (France) Attribution: tatoeba.org #518553 (CK) & #2095329 (sabretou)',\n",
              " 'You may go.\\tतू जाऊ शकतोस.\\tCC-BY 2.0 (France) Attribution: tatoeba.org #518553 (CK) & #2095330 (sabretou)',\n",
              " 'You may go.\\tतुम्ही निघू शकता.\\tCC-BY 2.0 (France) Attribution: tatoeba.org #518553 (CK) & #2095331 (sabretou)',\n",
              " 'You may go.\\tतू जाऊ शकतेस.\\tCC-BY 2.0 (France) Attribution: tatoeba.org #518553 (CK) & #2095333 (sabretou)',\n",
              " \"You've won.\\tतू जिंकला आहेस.\\tCC-BY 2.0 (France) Attribution: tatoeba.org #2549823 (CK) & #7085230 (sabretou)\",\n",
              " \"You've won.\\tतू जिंकली आहेस.\\tCC-BY 2.0 (France) Attribution: tatoeba.org #2549823 (CK) & #7085231 (sabretou)\",\n",
              " \"You've won.\\tतुम्ही जिंकला आहात.\\tCC-BY 2.0 (France) Attribution: tatoeba.org #2549823 (CK) & #7085232 (sabretou)\",\n",
              " 'Anyone home?\\tघरी कोणी आहे का?\\tCC-BY 2.0 (France) Attribution: tatoeba.org #2092558 (CK) & #2098792 (sabretou)',\n",
              " 'Anyone hurt?\\tकोणाला लागलं का?\\tCC-BY 2.0 (France) Attribution: tatoeba.org #2092559 (CK) & #7903294 (sabretou)',\n",
              " 'Are we done?\\tझालंय का?\\tCC-BY 2.0 (France) Attribution: tatoeba.org #1553536 (CK) & #2351803 (sabretou)',\n",
              " 'Are you Tom?\\tतू टॉम आहेस का?\\tCC-BY 2.0 (France) Attribution: tatoeba.org #1495916 (CK) & #4765478 (sabretou)',\n",
              " 'Are you Tom?\\tतुम्ही टॉम आहात का?\\tCC-BY 2.0 (France) Attribution: tatoeba.org #1495916 (CK) & #4765479 (sabretou)',\n",
              " 'Are you Tom?\\tतू टॉम का?\\tCC-BY 2.0 (France) Attribution: tatoeba.org #1495916 (CK) & #4765480 (sabretou)',\n",
              " 'Are you Tom?\\tतुम्ही टॉम का?\\tCC-BY 2.0 (France) Attribution: tatoeba.org #1495916 (CK) & #4765484 (sabretou)',\n",
              " 'Are you new?\\tनवीन आहेस का?\\tCC-BY 2.0 (France) Attribution: tatoeba.org #429820 (FeuDRenais) & #5208525 (sabretou)',\n",
              " 'Are you new?\\tतू नवीन आहेस का?\\tCC-BY 2.0 (France) Attribution: tatoeba.org #429820 (FeuDRenais) & #5208526 (sabretou)',\n",
              " 'Are you new?\\tतुम्ही नवीन आहात का?\\tCC-BY 2.0 (France) Attribution: tatoeba.org #429820 (FeuDRenais) & #5208528 (sabretou)',\n",
              " 'Be prepared.\\tतयार राहा!\\tCC-BY 2.0 (France) Attribution: tatoeba.org #2111960 (CK) & #7903388 (sabretou)',\n",
              " 'Breathe out.\\tश्वास सोड.\\tCC-BY 2.0 (France) Attribution: tatoeba.org #6092715 (mailohilohi) & #8637475 (sabretou)',\n",
              " 'Breathe out.\\tश्वास सोडा.\\tCC-BY 2.0 (France) Attribution: tatoeba.org #6092715 (mailohilohi) & #8637476 (sabretou)',\n",
              " 'Come inside.\\tआत ये.\\tCC-BY 2.0 (France) Attribution: tatoeba.org #2111930 (CK) & #2085312 (sabretou)',\n",
              " 'Come inside.\\tआत या.\\tCC-BY 2.0 (France) Attribution: tatoeba.org #2111930 (CK) & #5065173 (sabretou)',\n",
              " 'Did Tom die?\\tटॉम मेला का?\\tCC-BY 2.0 (France) Attribution: tatoeba.org #2235663 (CK) & #6847085 (sabretou)',\n",
              " 'Did Tom die?\\tटॉम वारला का?\\tCC-BY 2.0 (France) Attribution: tatoeba.org #2235663 (CK) & #6847086 (sabretou)',\n",
              " 'Did Tom eat?\\tटॉमने खाल्लं का?\\tCC-BY 2.0 (France) Attribution: tatoeba.org #2235665 (CK) & #4753335 (sabretou)',\n",
              " 'Did Tom win?\\tटॉम जिंकला का?\\tCC-BY 2.0 (France) Attribution: tatoeba.org #2235687 (CK) & #6152616 (sabretou)',\n",
              " \"Don't argue.\\tभांडू नकोस.\\tCC-BY 2.0 (France) Attribution: tatoeba.org #2111918 (CK) & #3246372 (sabretou)\",\n",
              " \"Don't argue.\\tभांडू नका.\\tCC-BY 2.0 (France) Attribution: tatoeba.org #2111918 (CK) & #3246373 (sabretou)\",\n",
              " \"Don't argue.\\tभांडू नये.\\tCC-BY 2.0 (France) Attribution: tatoeba.org #2111918 (CK) & #3246374 (sabretou)\",\n",
              " \"Don't argue.\\tभांडण करू नका.\\tCC-BY 2.0 (France) Attribution: tatoeba.org #2111918 (CK) & #3246375 (sabretou)\",\n",
              " \"Don't argue.\\tभांडण करू नकोस.\\tCC-BY 2.0 (France) Attribution: tatoeba.org #2111918 (CK) & #3246376 (sabretou)\",\n",
              " \"Don't fight.\\tलढू नका.\\tCC-BY 2.0 (France) Attribution: tatoeba.org #2111915 (CK) & #5031514 (sabretou)\",\n",
              " \"Don't fight.\\tलढू नकोस.\\tCC-BY 2.0 (France) Attribution: tatoeba.org #2111915 (CK) & #5031515 (sabretou)\",\n",
              " \"Don't fight.\\tमारामारी करू नका.\\tCC-BY 2.0 (France) Attribution: tatoeba.org #2111915 (CK) & #7337173 (sabretou)\",\n",
              " \"Don't leave.\\tसोडू नकोस.\\tCC-BY 2.0 (France) Attribution: tatoeba.org #1860453 (CK) & #2094709 (sabretou)\",\n",
              " \"Don't leave.\\tसोडून जाऊ नकोस.\\tCC-BY 2.0 (France) Attribution: tatoeba.org #1860453 (CK) & #2094710 (sabretou)\",\n",
              " \"Don't leave.\\tसोडू नका.\\tCC-BY 2.0 (France) Attribution: tatoeba.org #1860453 (CK) & #2094711 (sabretou)\",\n",
              " \"Don't leave.\\tसोडून नका जाऊ.\\tCC-BY 2.0 (France) Attribution: tatoeba.org #1860453 (CK) & #2094713 (sabretou)\",\n",
              " \"Don't shout.\\tओरडू नकोस.\\tCC-BY 2.0 (France) Attribution: tatoeba.org #279585 (CK) & #5031465 (sabretou)\",\n",
              " \"Don't shout.\\tओरडू नका.\\tCC-BY 2.0 (France) Attribution: tatoeba.org #279585 (CK) & #5031466 (sabretou)\",\n",
              " 'Eat with us.\\tआमच्याबरोबर खा.\\tCC-BY 2.0 (France) Attribution: tatoeba.org #2245415 (CK) & #4913509 (sabretou)',\n",
              " 'Forgive Tom.\\tटॉमला माफ कर.\\tCC-BY 2.0 (France) Attribution: tatoeba.org #2203857 (CK) & #2325109 (sabretou)',\n",
              " 'Forgive Tom.\\tटॉमला माफ करा.\\tCC-BY 2.0 (France) Attribution: tatoeba.org #2203857 (CK) & #2325110 (sabretou)',\n",
              " 'Get changed.\\tकपडे बदल.\\tCC-BY 2.0 (France) Attribution: tatoeba.org #2111833 (CK) & #2114541 (sabretou)',\n",
              " 'Get changed.\\tकपडे बदला.\\tCC-BY 2.0 (France) Attribution: tatoeba.org #2111833 (CK) & #2114542 (sabretou)',\n",
              " 'Get started.\\tसुरू करा.\\tCC-BY 2.0 (France) Attribution: tatoeba.org #2111827 (CK) & #5028421 (sabretou)',\n",
              " 'Get started.\\tसुरू कर.\\tCC-BY 2.0 (France) Attribution: tatoeba.org #2111827 (CK) & #5028422 (sabretou)',\n",
              " 'Get started.\\tसुरुवात करा.\\tCC-BY 2.0 (France) Attribution: tatoeba.org #2111827 (CK) & #5028423 (sabretou)',\n",
              " 'Get started.\\tसुरुवात कर.\\tCC-BY 2.0 (France) Attribution: tatoeba.org #2111827 (CK) & #5028424 (sabretou)',\n",
              " 'Go have fun.\\tजा, मजा कर.\\tCC-BY 2.0 (France) Attribution: tatoeba.org #2230767 (CK) & #2693171 (sabretou)',\n",
              " 'Go have fun.\\tजाऊन मजा कर.\\tCC-BY 2.0 (France) Attribution: tatoeba.org #2230767 (CK) & #2693172 (sabretou)',\n",
              " 'Go help Tom.\\tजाऊन टॉमची मदत कर.\\tCC-BY 2.0 (France) Attribution: tatoeba.org #2230768 (CK) & #3232202 (sabretou)',\n",
              " 'Have a seat.\\tबस.\\tCC-BY 2.0 (France) Attribution: tatoeba.org #1553500 (CK) & #6166431 (sabretou)',\n",
              " 'Have a seat.\\tबसा.\\tCC-BY 2.0 (France) Attribution: tatoeba.org #1553500 (CK) & #6166432 (sabretou)',\n",
              " 'He can come.\\tतो येऊ शकतो.\\tCC-BY 2.0 (France) Attribution: tatoeba.org #289971 (CK) & #2095337 (sabretou)',\n",
              " 'He can come.\\tते येऊ शकतात.\\tCC-BY 2.0 (France) Attribution: tatoeba.org #289971 (CK) & #2095338 (sabretou)',\n",
              " 'He can read.\\tत्याला वाचता येतं.\\tCC-BY 2.0 (France) Attribution: tatoeba.org #388981 (CK) & #3924743 (sabretou)',\n",
              " 'He can read.\\tतो वाचू शकतो.\\tCC-BY 2.0 (France) Attribution: tatoeba.org #388981 (CK) & #3924745 (sabretou)',\n",
              " 'He found it.\\tत्याला सापडलं.\\tCC-BY 2.0 (France) Attribution: tatoeba.org #1901806 (Spamster) & #8402098 (sabretou)',\n",
              " 'He found it.\\tत्यांना सापडलं.\\tCC-BY 2.0 (France) Attribution: tatoeba.org #1901806 (Spamster) & #8402099 (sabretou)',\n",
              " 'He has wine.\\tत्याच्याकडे वाईन आहे.\\tCC-BY 2.0 (France) Attribution: tatoeba.org #1764488 (CK) & #2555515 (sabretou)',\n",
              " 'He is happy.\\tतो खूश आहे.\\tCC-BY 2.0 (France) Attribution: tatoeba.org #296294 (CH) & #3238165 (sabretou)',\n",
              " 'He is happy.\\tते खूश आहेत.\\tCC-BY 2.0 (France) Attribution: tatoeba.org #296294 (CH) & #3238166 (sabretou)',\n",
              " 'He is lying.\\tतो खोटं बोलतोय.\\tCC-BY 2.0 (France) Attribution: tatoeba.org #913460 (CK) & #2095341 (sabretou)',\n",
              " 'He is lying.\\tते खोटं बोलताहेत.\\tCC-BY 2.0 (France) Attribution: tatoeba.org #913460 (CK) & #2095342 (sabretou)',\n",
              " 'He is young.\\tतो तरुण आहे.\\tCC-BY 2.0 (France) Attribution: tatoeba.org #1766545 (CK) & #2444003 (sabretou)',\n",
              " 'He resigned.\\tत्याने राजीनामा दिला.\\tCC-BY 2.0 (France) Attribution: tatoeba.org #1580341 (sam_m) & #7903373 (sabretou)',\n",
              " 'He resigned.\\tत्यांनी राजीनामा दिला.\\tCC-BY 2.0 (France) Attribution: tatoeba.org #1580341 (sam_m) & #7903375 (sabretou)',\n",
              " 'He stood up.\\tतो उभा झाला.\\tCC-BY 2.0 (France) Attribution: tatoeba.org #517531 (blay_paul) & #3613142 (sabretou)',\n",
              " 'He stood up.\\tतो उभा राहिला.\\tCC-BY 2.0 (France) Attribution: tatoeba.org #517531 (blay_paul) & #3613143 (sabretou)',\n",
              " 'He stood up.\\tते उभे झाले.\\tCC-BY 2.0 (France) Attribution: tatoeba.org #517531 (blay_paul) & #3613144 (sabretou)',\n",
              " 'He stood up.\\tते उभे राहिले.\\tCC-BY 2.0 (France) Attribution: tatoeba.org #517531 (blay_paul) & #3613145 (sabretou)',\n",
              " 'How are you?\\tकसा आहेस?\\tCC-BY 2.0 (France) Attribution: tatoeba.org #373320 (CK) & #2299668 (sabretou)',\n",
              " 'How are you?\\tकशी आहेस?\\tCC-BY 2.0 (France) Attribution: tatoeba.org #373320 (CK) & #2299669 (sabretou)',\n",
              " 'How are you?\\tतुम्ही कसे आहात?\\tCC-BY 2.0 (France) Attribution: tatoeba.org #373320 (CK) & #2299670 (sabretou)',\n",
              " 'How are you?\\tतुम्ही कश्या आहात?\\tCC-BY 2.0 (France) Attribution: tatoeba.org #373320 (CK) & #2299672 (sabretou)',\n",
              " 'How are you?\\tतू कसा आहेस?\\tCC-BY 2.0 (France) Attribution: tatoeba.org #373320 (CK) & #6543438 (sabretou)',\n",
              " 'How are you?\\tतू कशी आहेस?\\tCC-BY 2.0 (France) Attribution: tatoeba.org #373320 (CK) & #6543439 (sabretou)',\n",
              " 'How strange!\\tकिती विचित्र!\\tCC-BY 2.0 (France) Attribution: tatoeba.org #1913092 (CK) & #7903326 (sabretou)',\n",
              " 'I am taller.\\tमी जास्त उंच आहे.\\tCC-BY 2.0 (France) Attribution: tatoeba.org #251869 (CK) & #2095345 (sabretou)',\n",
              " 'I came back.\\tमी परत आलो.\\tCC-BY 2.0 (France) Attribution: tatoeba.org #2245637 (CK) & #2715397 (sabretou)',\n",
              " 'I came back.\\tमी परत आले.\\tCC-BY 2.0 (France) Attribution: tatoeba.org #2245637 (CK) & #2715398 (sabretou)',\n",
              " 'I can dance.\\tमी नाचू शकतो.\\tCC-BY 2.0 (France) Attribution: tatoeba.org #2245640 (CK) & #3219653 (sabretou)',\n",
              " 'I can dance.\\tमी नाचू शकते.\\tCC-BY 2.0 (France) Attribution: tatoeba.org #2245640 (CK) & #3219654 (sabretou)',\n",
              " 'I can dance.\\tमला नाचता येतं.\\tCC-BY 2.0 (France) Attribution: tatoeba.org #2245640 (CK) & #3219655 (sabretou)',\n",
              " 'I can do it.\\tमी करू शकतो.\\tCC-BY 2.0 (France) Attribution: tatoeba.org #254742 (CK) & #7247326 (sabretou)',\n",
              " 'I can do it.\\tमी करू शकते.\\tCC-BY 2.0 (France) Attribution: tatoeba.org #254742 (CK) & #7247329 (sabretou)',\n",
              " \"I can't fly.\\tमला उडता येत नाही.\\tCC-BY 2.0 (France) Attribution: tatoeba.org #956779 (Shishir) & #6397873 (sabretou)\",\n",
              " \"I can't say.\\tसांगता येत नाही.\\tCC-BY 2.0 (France) Attribution: tatoeba.org #24897 (CK) & #2097775 (sabretou)\",\n",
              " \"I can't say.\\tमला सांगता येत नाही.\\tCC-BY 2.0 (France) Attribution: tatoeba.org #24897 (CK) & #2097776 (sabretou)\",\n",
              " \"I can't say.\\tमी सांगू शकत नाही.\\tCC-BY 2.0 (France) Attribution: tatoeba.org #24897 (CK) & #2097777 (sabretou)\",\n",
              " \"I don't cry.\\tमी रडत नाही.\\tCC-BY 2.0 (France) Attribution: tatoeba.org #1782644 (Amastan) & #2759226 (sabretou)\",\n",
              " \"I don't eat.\\tमी खात नाही.\\tCC-BY 2.0 (France) Attribution: tatoeba.org #1483933 (rkqb) & #6935092 (sabretou)\",\n",
              " 'I drank tea.\\tमी चहा प्यायलो.\\tCC-BY 2.0 (France) Attribution: tatoeba.org #3294472 (CK) & #5516376 (sabretou)',\n",
              " 'I drank tea.\\tमी चहा प्यायले.\\tCC-BY 2.0 (France) Attribution: tatoeba.org #3294472 (CK) & #5516377 (sabretou)',\n",
              " 'I eat bread.\\tमी ब्रेड खातो.\\tCC-BY 2.0 (France) Attribution: tatoeba.org #1867478 (CK) & #2435269 (sabretou)',\n",
              " 'I eat bread.\\tमी पाव खाते.\\tCC-BY 2.0 (France) Attribution: tatoeba.org #1867478 (CK) & #2435271 (sabretou)',\n",
              " 'I eat bread.\\tमी ब्रेड खाते.\\tCC-BY 2.0 (France) Attribution: tatoeba.org #1867478 (CK) & #5084049 (sabretou)',\n",
              " 'I eat bread.\\tमी पाव खातो.\\tCC-BY 2.0 (France) Attribution: tatoeba.org #1867478 (CK) & #5084050 (sabretou)',\n",
              " 'I eat fruit.\\tमी फळं खातो.\\tCC-BY 2.0 (France) Attribution: tatoeba.org #1120822 (cntrational) & #7147091 (sabretou)',\n",
              " 'I eat fruit.\\tमी फळं खाते.\\tCC-BY 2.0 (France) Attribution: tatoeba.org #1120822 (cntrational) & #7147092 (sabretou)',\n",
              " 'I exercised.\\tमी व्यायाम केला.\\tCC-BY 2.0 (France) Attribution: tatoeba.org #2111804 (CK) & #5071483 (sabretou)',\n",
              " 'I feel fine.\\tमला बरं वाटतंय.\\tCC-BY 2.0 (France) Attribution: tatoeba.org #321586 (CK) & #2095348 (sabretou)',\n",
              " 'I felt that.\\tमला जाणवलं ते.\\tCC-BY 2.0 (France) Attribution: tatoeba.org #3330156 (CK) & #4459041 (sabretou)',\n",
              " 'I forgot it.\\tमी ते विसरलो.\\tCC-BY 2.0 (France) Attribution: tatoeba.org #254852 (CK) & #2087899 (sabretou)',\n",
              " 'I forgot it.\\tमी ते विसरले.\\tCC-BY 2.0 (France) Attribution: tatoeba.org #254852 (CK) & #2087900 (sabretou)',\n",
              " 'I had a cat.\\tमाझ्याकडे एक मांजर होती.\\tCC-BY 2.0 (France) Attribution: tatoeba.org #2399176 (amazighgirl) & #3720476 (sabretou)',\n",
              " 'I have time.\\tमाझ्याकडे वेळ आहे.\\tCC-BY 2.0 (France) Attribution: tatoeba.org #2245901 (CK) & #4438423 (sabretou)',\n",
              " 'I have wine.\\tमाझ्याकडे वाईन आहे.\\tCC-BY 2.0 (France) Attribution: tatoeba.org #1764447 (CK) & #2534366 (sabretou)',\n",
              " 'I knew that.\\tते मला माहीत होतं.\\tCC-BY 2.0 (France) Attribution: tatoeba.org #1573535 (Eldad) & #8348735 (sabretou)',\n",
              " 'I know this.\\tमला हे माहीत आहे.\\tCC-BY 2.0 (France) Attribution: tatoeba.org #2245929 (CK) & #2675698 (sabretou)',\n",
              " 'I left home.\\tमी घर सोडून गेलो.\\tCC-BY 2.0 (France) Attribution: tatoeba.org #8159807 (TheNightAvl) & #8329206 (sabretou)',\n",
              " 'I left home.\\tमी घर सोडून गेले.\\tCC-BY 2.0 (France) Attribution: tatoeba.org #8159807 (TheNightAvl) & #8329207 (sabretou)',\n",
              " 'I left home.\\tमी घरातून निघालो.\\tCC-BY 2.0 (France) Attribution: tatoeba.org #8159807 (TheNightAvl) & #8329208 (sabretou)',\n",
              " 'I left home.\\tमी घरातून निघाले.\\tCC-BY 2.0 (France) Attribution: tatoeba.org #8159807 (TheNightAvl) & #8329209 (sabretou)',\n",
              " 'I like beer.\\tमला बीअर आवडते.\\tCC-BY 2.0 (France) Attribution: tatoeba.org #2245932 (CK) & #2373428 (sabretou)',\n",
              " 'I like both.\\tमला दोन्ही आवडतात.\\tCC-BY 2.0 (France) Attribution: tatoeba.org #255228 (CK) & #2095351 (sabretou)',\n",
              " 'I like cake.\\tमला केक आवडतो.\\tCC-BY 2.0 (France) Attribution: tatoeba.org #253417 (CK) & #2675212 (sabretou)',\n",
              " 'I like cats.\\tमला मांजरी आवडतात.\\tCC-BY 2.0 (France) Attribution: tatoeba.org #354379 (bourdu) & #4421328 (sabretou)',\n",
              " 'I like fish.\\tमला मासे आवडतात.\\tCC-BY 2.0 (France) Attribution: tatoeba.org #256891 (CK) & #6329244 (sabretou)',\n",
              " 'I like math.\\tमला गणित आवडतं.\\tCC-BY 2.0 (France) Attribution: tatoeba.org #435452 (CK) & #4590122 (sabretou)',\n",
              " 'I like rice.\\tमला भात आवडतो.\\tCC-BY 2.0 (France) Attribution: tatoeba.org #2807658 (Hybrid) & #4387926 (sabretou)',\n",
              " 'I like snow.\\tमला बर्फ आवडतो.\\tCC-BY 2.0 (France) Attribution: tatoeba.org #1642586 (CK) & #9444108 (sabretou)',\n",
              " 'I like that.\\tमला तो आवडतो.\\tCC-BY 2.0 (France) Attribution: tatoeba.org #1121357 (cntrational) & #2095312 (sabretou)',\n",
              " 'I like that.\\tमला ते आवडतं.\\tCC-BY 2.0 (France) Attribution: tatoeba.org #1121357 (cntrational) & #7147093 (sabretou)',\n",
              " 'I like that.\\tमला ती आवडते.\\tCC-BY 2.0 (France) Attribution: tatoeba.org #1121357 (cntrational) & #7147094 (sabretou)',\n",
              " 'I made that.\\tते मी बनवलं.\\tCC-BY 2.0 (France) Attribution: tatoeba.org #3330158 (CK) & #6837011 (sabretou)',\n",
              " 'I made that.\\tमी बनवलं ते.\\tCC-BY 2.0 (France) Attribution: tatoeba.org #3330158 (CK) & #6837012 (sabretou)',\n",
              " 'I need time.\\tमला वेळेची गरज आहे.\\tCC-BY 2.0 (France) Attribution: tatoeba.org #2246021 (CK) & #4438424 (sabretou)',\n",
              " 'I never cry.\\tमी कधीच रडत नाही.\\tCC-BY 2.0 (France) Attribution: tatoeba.org #8119805 (Balamax) & #8472924 (sabretou)',\n",
              " 'I saved you.\\tमी तुला वाचवलं.\\tCC-BY 2.0 (France) Attribution: tatoeba.org #2247396 (CK) & #8658099 (sabretou)',\n",
              " 'I saved you.\\tमी तुम्हाला वाचवलं.\\tCC-BY 2.0 (France) Attribution: tatoeba.org #2247396 (CK) & #8658100 (sabretou)',\n",
              " 'I smell gas.\\tमला गॅसचा वास येतोय.\\tCC-BY 2.0 (France) Attribution: tatoeba.org #681055 (Source_VOA) & #5265837 (sabretou)',\n",
              " 'I trust Tom.\\tमाझा टॉमवर विश्वास आहे.\\tCC-BY 2.0 (France) Attribution: tatoeba.org #4500188 (CK) & #4728915 (sabretou)',\n",
              " 'I want more.\\tमला अजून हवंय.\\tCC-BY 2.0 (France) Attribution: tatoeba.org #521096 (CK) & #2614084 (sabretou)',\n",
              " 'I want more.\\tमला अजून हवं आहे.\\tCC-BY 2.0 (France) Attribution: tatoeba.org #521096 (CK) & #2614085 (sabretou)',\n",
              " 'I want them.\\tमला ते हवे आहेत.\\tCC-BY 2.0 (France) Attribution: tatoeba.org #2011271 (CK) & #6696206 (sabretou)',\n",
              " 'I want them.\\tमला त्या हव्या आहेत.\\tCC-BY 2.0 (France) Attribution: tatoeba.org #2011271 (CK) & #6696207 (sabretou)',\n",
              " 'I want them.\\tमला ती हवी आहेत.\\tCC-BY 2.0 (France) Attribution: tatoeba.org #2011271 (CK) & #6696208 (sabretou)',\n",
              " 'I want this.\\tमला हे हवं आहे.\\tCC-BY 2.0 (France) Attribution: tatoeba.org #2011272 (CK) & #2087837 (sabretou)',\n",
              " 'I want this.\\tमला हे पाहिजे.\\tCC-BY 2.0 (France) Attribution: tatoeba.org #2011272 (CK) & #4822237 (sabretou)',\n",
              " 'I want time.\\tमला वेळ हवाय.\\tCC-BY 2.0 (France) Attribution: tatoeba.org #2247449 (CK) & #4438425 (sabretou)',\n",
              " 'I was alone.\\tमी एकटा होतो.\\tCC-BY 2.0 (France) Attribution: tatoeba.org #2208338 (CK) & #2500720 (sabretou)',\n",
              " 'I was alone.\\tमी एकटी होते.\\tCC-BY 2.0 (France) Attribution: tatoeba.org #2208338 (CK) & #2500721 (sabretou)',\n",
              " 'I was naked.\\tमी नग्न होतो.\\tCC-BY 2.0 (France) Attribution: tatoeba.org #2247496 (CK) & #6311951 (sabretou)',\n",
              " 'I was naked.\\tमी नग्न होते.\\tCC-BY 2.0 (France) Attribution: tatoeba.org #2247496 (CK) & #6311952 (sabretou)',\n",
              " 'I was naked.\\tमी नागडा होतो.\\tCC-BY 2.0 (France) Attribution: tatoeba.org #2247496 (CK) & #6311953 (sabretou)',\n",
              " 'I was naked.\\tमी नागडी होते.\\tCC-BY 2.0 (France) Attribution: tatoeba.org #2247496 (CK) & #6311954 (sabretou)',\n",
              " 'I was stuck.\\tमी अडकलेलो.\\tCC-BY 2.0 (France) Attribution: tatoeba.org #2852087 (CK) & #7847880 (sabretou)',\n",
              " 'I was stuck.\\tमी अडकलेले.\\tCC-BY 2.0 (France) Attribution: tatoeba.org #2852087 (CK) & #7847881 (sabretou)',\n",
              " 'I was tired.\\tमी थकलेलो.\\tCC-BY 2.0 (France) Attribution: tatoeba.org #261394 (CK) & #2095352 (sabretou)',\n",
              " 'I was tired.\\tमी थकलेले.\\tCC-BY 2.0 (France) Attribution: tatoeba.org #261394 (CK) & #2095353 (sabretou)',\n",
              " 'I went, too.\\tमी पण गेलो.\\tCC-BY 2.0 (France) Attribution: tatoeba.org #1300817 (CK) & #2095354 (sabretou)',\n",
              " 'I went, too.\\tमी पण गेले.\\tCC-BY 2.0 (France) Attribution: tatoeba.org #1300817 (CK) & #2095355 (sabretou)',\n",
              " \"I won't lie.\\tमी खोटं बोलणार नाही.\\tCC-BY 2.0 (France) Attribution: tatoeba.org #2247631 (CK) & #2776266 (sabretou)\",\n",
              " \"I'll buy it.\\tमी विकत घेईन.\\tCC-BY 2.0 (France) Attribution: tatoeba.org #2160876 (Hybrid) & #2276853 (sabretou)\",\n",
              " \"I'll decide.\\tमी ठरवेन.\\tCC-BY 2.0 (France) Attribution: tatoeba.org #2066306 (LanguageExpert) & #6867490 (sabretou)\",\n",
              " \"I'll decide.\\tमी निर्णय घेईन.\\tCC-BY 2.0 (France) Attribution: tatoeba.org #2066306 (LanguageExpert) & #6867494 (sabretou)\",\n",
              " \"I'll eat it.\\tमी खाईन.\\tCC-BY 2.0 (France) Attribution: tatoeba.org #2247715 (CK) & #5031570 (sabretou)\",\n",
              " \"I'll get by.\\tचालवून घेईन.\\tCC-BY 2.0 (France) Attribution: tatoeba.org #2878226 (CK) & #3288314 (sabretou)\",\n",
              " \"I'll get it.\\tमी आणतो.\\tCC-BY 2.0 (France) Attribution: tatoeba.org #246823 (CK) & #2097783 (sabretou)\",\n",
              " \"I'll get it.\\tमी आणते.\\tCC-BY 2.0 (France) Attribution: tatoeba.org #246823 (CK) & #2097784 (sabretou)\",\n",
              " \"I'll get it.\\tमी घेते.\\tCC-BY 2.0 (France) Attribution: tatoeba.org #246823 (CK) & #2097785 (sabretou)\",\n",
              " \"I'll get it.\\tमी घेतो.\\tCC-BY 2.0 (France) Attribution: tatoeba.org #246823 (CK) & #2097786 (sabretou)\",\n",
              " \"I'll get it.\\tमला मिळेल ते.\\tCC-BY 2.0 (France) Attribution: tatoeba.org #246823 (CK) & #2097788 (sabretou)\",\n",
              " \"I'll get it.\\tमी उघडतो.\\tCC-BY 2.0 (France) Attribution: tatoeba.org #246823 (CK) & #2097789 (sabretou)\",\n",
              " \"I'll get it.\\tमी उघडते.\\tCC-BY 2.0 (France) Attribution: tatoeba.org #246823 (CK) & #2097790 (sabretou)\",\n",
              " \"I'll scream.\\tमी किंचाळेन.\\tCC-BY 2.0 (France) Attribution: tatoeba.org #2111774 (CK) & #2675711 (sabretou)\",\n",
              " \"I'm dancing.\\tमी नाचतोय.\\tCC-BY 2.0 (France) Attribution: tatoeba.org #2203639 (CK) & #4813761 (sabretou)\",\n",
              " \"I'm dancing.\\tमी नोचतेय.\\tCC-BY 2.0 (France) Attribution: tatoeba.org #2203639 (CK) & #4813762 (sabretou)\",\n",
              " \"I'm dieting.\\tमी डायट करतोय.\\tCC-BY 2.0 (France) Attribution: tatoeba.org #2203646 (CK) & #2672854 (sabretou)\",\n",
              " \"I'm dieting.\\tमी डायट करतेय.\\tCC-BY 2.0 (France) Attribution: tatoeba.org #2203646 (CK) & #2672855 (sabretou)\",\n",
              " \"I'm falling.\\tमी पडतोय.\\tCC-BY 2.0 (France) Attribution: tatoeba.org #1148318 (cntrational) & #3949495 (sabretou)\",\n",
              " \"I'm falling.\\tमी पडतेय.\\tCC-BY 2.0 (France) Attribution: tatoeba.org #1148318 (cntrational) & #3949496 (sabretou)\",\n",
              " \"I'm healthy.\\tमी टणटणीत आहे.\\tCC-BY 2.0 (France) Attribution: tatoeba.org #259288 (CK) & #2097791 (sabretou)\",\n",
              " \"I'm healthy.\\tमी निरोगी आहे.\\tCC-BY 2.0 (France) Attribution: tatoeba.org #259288 (CK) & #2097792 (sabretou)\",\n",
              " \"I'm in jail.\\tमी तुरुंगात आहे.\\tCC-BY 2.0 (France) Attribution: tatoeba.org #2248036 (CK) & #5554308 (sabretou)\",\n",
              " \"I'm in jail.\\tमी जेलमध्ये आहे.\\tCC-BY 2.0 (France) Attribution: tatoeba.org #2248036 (CK) & #5554310 (sabretou)\",\n",
              " \"I'm not Tom.\\tमी टॉम नाहीये.\\tCC-BY 2.0 (France) Attribution: tatoeba.org #2235773 (CK) & #4824754 (sabretou)\",\n",
              " \"I'm popular.\\tमी लोकप्रिय आहे.\\tCC-BY 2.0 (France) Attribution: tatoeba.org #2203201 (CK) & #2745496 (sabretou)\",\n",
              " \"I'm reading.\\tमी वाचतोय.\\tCC-BY 2.0 (France) Attribution: tatoeba.org #1349059 (sacredceltic) & #3924793 (sabretou)\",\n",
              " ...]"
            ]
          },
          "metadata": {
            "tags": []
          },
          "execution_count": 68
        }
      ]
    },
    {
      "cell_type": "markdown",
      "metadata": {
        "id": "Dvj3lX1D_KmL"
      },
      "source": [
        "As you can see that there are many irrelevant texts in this file. In order to have a clean file we will have to remove those texts and properly store the inpue text in a DataFrame."
      ]
    },
    {
      "cell_type": "code",
      "metadata": {
        "colab": {
          "base_uri": "https://localhost:8080/"
        },
        "id": "XKI3YKYxGQbx",
        "outputId": "748d29c3-cb08-4ae3-c4dd-082bb99ec7ca"
      },
      "source": [
        "len(uncleaned_data_list)"
      ],
      "execution_count": null,
      "outputs": [
        {
          "output_type": "execute_result",
          "data": {
            "text/plain": [
              "41029"
            ]
          },
          "metadata": {
            "tags": []
          },
          "execution_count": 69
        }
      ]
    },
    {
      "cell_type": "code",
      "metadata": {
        "id": "azORyGptGSDo"
      },
      "source": [
        "uncleaned_data_list = uncleaned_data_list[:38695]"
      ],
      "execution_count": null,
      "outputs": []
    },
    {
      "cell_type": "code",
      "metadata": {
        "colab": {
          "base_uri": "https://localhost:8080/"
        },
        "id": "SS8IaCfSGTtU",
        "outputId": "a3ba3b78-3ffc-45f4-f133-fbb91b5169fb"
      },
      "source": [
        "len(uncleaned_data_list)"
      ],
      "execution_count": null,
      "outputs": [
        {
          "output_type": "execute_result",
          "data": {
            "text/plain": [
              "38695"
            ]
          },
          "metadata": {
            "tags": []
          },
          "execution_count": 71
        }
      ]
    },
    {
      "cell_type": "code",
      "metadata": {
        "id": "gpQTjwbwGVXQ"
      },
      "source": [
        "english_word = []\n",
        "marathi_word = []\n",
        "cleaned_data_list = []\n",
        "for word in uncleaned_data_list:\n",
        "    english_word.append(word.split('\\t')[:-1][0]) # Seperating the english texts\n",
        "    marathi_word.append(word.split('\\t')[:-1][1]) # Seperating the marathi texts"
      ],
      "execution_count": null,
      "outputs": []
    },
    {
      "cell_type": "code",
      "metadata": {
        "id": "e3u5tLR7GYu-",
        "colab": {
          "base_uri": "https://localhost:8080/"
        },
        "outputId": "642c6a3a-25c4-4c41-f2b5-d693765348d3"
      },
      "source": [
        "len(english_word), len(marathi_word)\n"
      ],
      "execution_count": null,
      "outputs": [
        {
          "output_type": "execute_result",
          "data": {
            "text/plain": [
              "(38695, 38695)"
            ]
          },
          "metadata": {
            "tags": []
          },
          "execution_count": 73
        }
      ]
    },
    {
      "cell_type": "code",
      "metadata": {
        "id": "hup-VkBqGa4z"
      },
      "source": [
        "language_data = pd.DataFrame(columns=['English','Marathi']) # making a new DataFrame to store our training data\n",
        "language_data['English'] = english_word # adding english text to the 'English' column to the DataFrame\n",
        "language_data['Marathi'] = marathi_word  # adding marathi text to the 'Marathi' column to the DataFrame"
      ],
      "execution_count": null,
      "outputs": []
    },
    {
      "cell_type": "code",
      "metadata": {
        "id": "BrTVdhzZGdSM"
      },
      "source": [
        "language_data.to_csv('language_data.csv', index=False)\n"
      ],
      "execution_count": null,
      "outputs": []
    },
    {
      "cell_type": "code",
      "metadata": {
        "id": "sutza6VYGfKc"
      },
      "source": [
        "language_data = pd.read_csv('language_data.csv')\n"
      ],
      "execution_count": null,
      "outputs": []
    },
    {
      "cell_type": "code",
      "metadata": {
        "colab": {
          "base_uri": "https://localhost:8080/",
          "height": 195
        },
        "id": "HSrVH0y3GguJ",
        "outputId": "0a2bc8ed-3adc-4a50-b349-8185f520ff0b"
      },
      "source": [
        "language_data.head()"
      ],
      "execution_count": null,
      "outputs": [
        {
          "output_type": "execute_result",
          "data": {
            "text/html": [
              "<div>\n",
              "<style scoped>\n",
              "    .dataframe tbody tr th:only-of-type {\n",
              "        vertical-align: middle;\n",
              "    }\n",
              "\n",
              "    .dataframe tbody tr th {\n",
              "        vertical-align: top;\n",
              "    }\n",
              "\n",
              "    .dataframe thead th {\n",
              "        text-align: right;\n",
              "    }\n",
              "</style>\n",
              "<table border=\"1\" class=\"dataframe\">\n",
              "  <thead>\n",
              "    <tr style=\"text-align: right;\">\n",
              "      <th></th>\n",
              "      <th>English</th>\n",
              "      <th>Marathi</th>\n",
              "    </tr>\n",
              "  </thead>\n",
              "  <tbody>\n",
              "    <tr>\n",
              "      <th>0</th>\n",
              "      <td>Go.</td>\n",
              "      <td>जा.</td>\n",
              "    </tr>\n",
              "    <tr>\n",
              "      <th>1</th>\n",
              "      <td>Run!</td>\n",
              "      <td>पळ!</td>\n",
              "    </tr>\n",
              "    <tr>\n",
              "      <th>2</th>\n",
              "      <td>Run!</td>\n",
              "      <td>धाव!</td>\n",
              "    </tr>\n",
              "    <tr>\n",
              "      <th>3</th>\n",
              "      <td>Run!</td>\n",
              "      <td>पळा!</td>\n",
              "    </tr>\n",
              "    <tr>\n",
              "      <th>4</th>\n",
              "      <td>Run!</td>\n",
              "      <td>धावा!</td>\n",
              "    </tr>\n",
              "  </tbody>\n",
              "</table>\n",
              "</div>"
            ],
            "text/plain": [
              "  English Marathi\n",
              "0     Go.     जा.\n",
              "1    Run!     पळ!\n",
              "2    Run!    धाव!\n",
              "3    Run!    पळा!\n",
              "4    Run!   धावा!"
            ]
          },
          "metadata": {
            "tags": []
          },
          "execution_count": 77
        }
      ]
    },
    {
      "cell_type": "code",
      "metadata": {
        "id": "NxCNeNexGiQZ"
      },
      "source": [
        "english_text = language_data['English'].values\n",
        "marathi_text = language_data['Marathi'].values"
      ],
      "execution_count": null,
      "outputs": []
    },
    {
      "cell_type": "code",
      "metadata": {
        "colab": {
          "base_uri": "https://localhost:8080/"
        },
        "id": "d3olaKJNGnTy",
        "outputId": "156de233-993e-4719-a124-c59e757c35f0"
      },
      "source": [
        "language_data.isnull().sum()"
      ],
      "execution_count": null,
      "outputs": [
        {
          "output_type": "execute_result",
          "data": {
            "text/plain": [
              "English    0\n",
              "Marathi    0\n",
              "dtype: int64"
            ]
          },
          "metadata": {
            "tags": []
          },
          "execution_count": 79
        }
      ]
    },
    {
      "cell_type": "markdown",
      "metadata": {
        "id": "OPyAsW7vAGHB"
      },
      "source": [
        "From the above code cell output, we can conclude that there are no missing values in the DataFrame"
      ]
    },
    {
      "cell_type": "markdown",
      "metadata": {
        "id": "UmYXBBQ4OGgn"
      },
      "source": [
        "## Data Cleaning"
      ]
    },
    {
      "cell_type": "code",
      "metadata": {
        "id": "s4LN_hYGGo2n"
      },
      "source": [
        "# converting to lower case\n",
        "english_text_ = [x.lower() for x in english_text]\n",
        "marathi_text_ = [x.lower() for x in marathi_text]"
      ],
      "execution_count": null,
      "outputs": []
    },
    {
      "cell_type": "code",
      "metadata": {
        "id": "pr5CfqTsGsiF"
      },
      "source": [
        "# removing inverted commas\n",
        "english_text_ = [re.sub(\"'\",'',x) for x in english_text_]\n",
        "marathi_text_ = [re.sub(\"'\",'',x) for x in marathi_text_]"
      ],
      "execution_count": null,
      "outputs": []
    },
    {
      "cell_type": "code",
      "metadata": {
        "id": "A6tuvUFiGxP5"
      },
      "source": [
        "# removing punctuations\n",
        "def remove_punc(text_list):\n",
        "    table = str.maketrans('', '', string.punctuation)\n",
        "    removed_punc_text = []\n",
        "    for sent in text_list:\n",
        "        sentance = [w.translate(table) for w in sent.split(' ')]\n",
        "        removed_punc_text.append(' '.join(sentance))\n",
        "    return removed_punc_text\n",
        "english_text_ = remove_punc(english_text_)\n",
        "marathi_text_ = remove_punc(marathi_text_)"
      ],
      "execution_count": null,
      "outputs": []
    },
    {
      "cell_type": "code",
      "metadata": {
        "id": "tOlLIwBdGzo0"
      },
      "source": [
        "# removing the digits\n",
        "remove_digits = str.maketrans('', '', digits)\n",
        "removed_digits_text = []\n",
        "for sent in english_text_:\n",
        "    sentence = [w.translate(remove_digits) for w in sent.split(' ')]\n",
        "    removed_digits_text.append(' '.join(sentence))\n",
        "english_text_ = removed_digits_text\n",
        "\n",
        "# removing the digits from the marathi sentances\n",
        "marathi_text_ = [re.sub(\"[२३०८१५७९४६]\",\"\",x) for x in marathi_text_]\n",
        "marathi_text_ = [re.sub(\"[\\u200d]\",\"\",x) for x in marathi_text_]\n",
        "\n",
        "# removing the stating and ending whitespaces\n",
        "english_text_ = [x.strip() for x in english_text_]\n",
        "marathi_text_ = [x.strip() for x in marathi_text_]"
      ],
      "execution_count": null,
      "outputs": []
    },
    {
      "cell_type": "code",
      "metadata": {
        "id": "EwnF9056G1Wn"
      },
      "source": [
        "# removing the starting and ending whitespaces\n",
        "english_text_ = [x.strip() for x in english_text_]\n",
        "marathi_text_ = [x.strip() for x in marathi_text_]"
      ],
      "execution_count": null,
      "outputs": []
    },
    {
      "cell_type": "code",
      "metadata": {
        "id": "7LGnmEACG4fM"
      },
      "source": [
        "# Putting the start and end words in the marathi sentances\n",
        "marathi_text_ = [\"start \" + x + \" end\" for x in marathi_text_]"
      ],
      "execution_count": null,
      "outputs": []
    },
    {
      "cell_type": "code",
      "metadata": {
        "colab": {
          "base_uri": "https://localhost:8080/"
        },
        "id": "yIMWLghNG7qc",
        "outputId": "04bc57e4-4519-4afd-96f6-17a7eed3fed5"
      },
      "source": [
        "# manipulated_marathi_text_\n",
        "marathi_text_[0], english_text_[0]"
      ],
      "execution_count": null,
      "outputs": [
        {
          "output_type": "execute_result",
          "data": {
            "text/plain": [
              "('start जा end', 'go')"
            ]
          },
          "metadata": {
            "tags": []
          },
          "execution_count": 86
        }
      ]
    },
    {
      "cell_type": "code",
      "metadata": {
        "id": "e7tbAv_wG9Xj"
      },
      "source": [
        "X = english_text_\n",
        "Y = marathi_text_"
      ],
      "execution_count": null,
      "outputs": []
    },
    {
      "cell_type": "code",
      "metadata": {
        "colab": {
          "base_uri": "https://localhost:8080/"
        },
        "id": "K_cSlHB_G_Fi",
        "outputId": "b39af0f9-dd5c-4ad9-f685-ec69b153976c"
      },
      "source": [
        "# splitting the DataFrame into training and testing\n",
        "X_train, X_test, y_train, y_test = train_test_split(X,Y,test_size = 0.25)\n",
        "len(X_train),len(y_train), len(X_test), len(y_test)"
      ],
      "execution_count": null,
      "outputs": [
        {
          "output_type": "execute_result",
          "data": {
            "text/plain": [
              "(29021, 29021, 9674, 9674)"
            ]
          },
          "metadata": {
            "tags": []
          },
          "execution_count": 88
        }
      ]
    },
    {
      "cell_type": "code",
      "metadata": {
        "colab": {
          "base_uri": "https://localhost:8080/"
        },
        "id": "ZIxnnLAUHGi6",
        "outputId": "9b133928-a8f7-4a7b-e2df-da9abdf432ef"
      },
      "source": [
        "X_train[0], y_train[0]"
      ],
      "execution_count": null,
      "outputs": [
        {
          "output_type": "execute_result",
          "data": {
            "text/plain": [
              "('she has short hair', 'start त्यांचे छोटे केस आहेत end')"
            ]
          },
          "metadata": {
            "tags": []
          },
          "execution_count": 89
        }
      ]
    },
    {
      "cell_type": "code",
      "metadata": {
        "colab": {
          "base_uri": "https://localhost:8080/"
        },
        "id": "GMsCLADcAZx4",
        "outputId": "07b5839b-21d6-4f2f-de9a-44436f63008a"
      },
      "source": [
        "X_test[0], y_test[0]"
      ],
      "execution_count": null,
      "outputs": [
        {
          "output_type": "execute_result",
          "data": {
            "text/plain": [
              "('do you write love letters', 'start तू प्रेमपत्र लिहितोस का end')"
            ]
          },
          "metadata": {
            "tags": []
          },
          "execution_count": 90
        }
      ]
    },
    {
      "cell_type": "code",
      "metadata": {
        "id": "6KHSf9EVHJj-"
      },
      "source": [
        "def Max_length(data):\n",
        "    max_length_ = max([len(x.split(' ')) for x in data])\n",
        "    return max_length_\n",
        "\n",
        "#Training data\n",
        "max_length_english = Max_length(X_train)\n",
        "max_length_marathi = Max_length(y_train)\n",
        "\n",
        "#Test data\n",
        "max_length_english_test = Max_length(X_test)\n",
        "max_length_marathi_test = Max_length(y_test)"
      ],
      "execution_count": null,
      "outputs": []
    },
    {
      "cell_type": "code",
      "metadata": {
        "colab": {
          "base_uri": "https://localhost:8080/"
        },
        "id": "Zi2m41meHNBh",
        "outputId": "c0495deb-2ccc-4cec-8e46-0a335019c1c3"
      },
      "source": [
        "max_length_marathi, max_length_english"
      ],
      "execution_count": null,
      "outputs": [
        {
          "output_type": "execute_result",
          "data": {
            "text/plain": [
              "(14, 11)"
            ]
          },
          "metadata": {
            "tags": []
          },
          "execution_count": 92
        }
      ]
    },
    {
      "cell_type": "markdown",
      "metadata": {
        "id": "rSXdqLiHOgfh"
      },
      "source": [
        "## Tokenization"
      ]
    },
    {
      "cell_type": "code",
      "metadata": {
        "id": "-jWoD4HnHOyG"
      },
      "source": [
        "# Tokenization for English Words\n",
        "englishTokenizer = Tokenizer()\n",
        "englishTokenizer.fit_on_texts(X_train)\n",
        "Eword2index = englishTokenizer.word_index \n",
        "vocab_size_source = len(Eword2index) + 1\n",
        "\n",
        "X_train = englishTokenizer.texts_to_sequences(X_train)\n",
        "X_train = pad_sequences(X_train, maxlen=max_length_english, padding='post') # padding the english sequence (Training Data)\n",
        "\n",
        "X_test = englishTokenizer.texts_to_sequences(X_test)\n",
        "X_test = pad_sequences(X_test, maxlen = max_length_english, padding='post') # padding the english sequence (Test Data)\n"
      ],
      "execution_count": null,
      "outputs": []
    },
    {
      "cell_type": "code",
      "metadata": {
        "id": "e_XScLyNICD9"
      },
      "source": [
        "# Tokenization for Marathi Words\n",
        "marathiTokenizer = Tokenizer()\n",
        "marathiTokenizer.fit_on_texts(y_train)\n",
        "Mword2index = marathiTokenizer.word_index\n",
        "vocab_size_target = len(Mword2index) + 1\n",
        "\n",
        "y_train = marathiTokenizer.texts_to_sequences(y_train)\n",
        "y_train = pad_sequences(y_train, maxlen=max_length_marathi, padding='post') # padding the marathi sequence (Training Data)\n",
        "\n",
        "y_test = marathiTokenizer.texts_to_sequences(y_test)\n",
        "y_test = pad_sequences(y_test, maxlen = max_length_marathi, padding='post') # padding the marathi sequence (Test Data)\n"
      ],
      "execution_count": null,
      "outputs": []
    },
    {
      "cell_type": "code",
      "metadata": {
        "colab": {
          "base_uri": "https://localhost:8080/"
        },
        "id": "6Su1LTElIQut",
        "outputId": "ebb0b496-28d5-4f37-cc27-1a52a160809c"
      },
      "source": [
        "vocab_size_source, vocab_size_target"
      ],
      "execution_count": null,
      "outputs": [
        {
          "output_type": "execute_result",
          "data": {
            "text/plain": [
              "(4595, 10547)"
            ]
          },
          "metadata": {
            "tags": []
          },
          "execution_count": 95
        }
      ]
    },
    {
      "cell_type": "code",
      "metadata": {
        "id": "5RtXpddyIUpw"
      },
      "source": [
        "# pickling\n",
        "with open('NMT_data.pkl','wb') as f:\n",
        "    pkl.dump([X_train, y_train, X_test, y_test],f) # serializing data"
      ],
      "execution_count": null,
      "outputs": []
    },
    {
      "cell_type": "code",
      "metadata": {
        "id": "TtwW_BJgIpDr"
      },
      "source": [
        "with open('NMT_Etokenizer.pkl','wb') as f:\n",
        "    pkl.dump([vocab_size_source, Eword2index, englishTokenizer], f) # serializing data\n",
        "\n",
        "with open('NMT_Mtokenizer.pkl', 'wb') as f:\n",
        "    pkl.dump([vocab_size_target, Mword2index, marathiTokenizer], f) # serializing data"
      ],
      "execution_count": null,
      "outputs": []
    },
    {
      "cell_type": "code",
      "metadata": {
        "colab": {
          "base_uri": "https://localhost:8080/"
        },
        "id": "JvPpqk57KKtT",
        "outputId": "afab2dff-fa9d-48c7-a70b-a4e49abff11e"
      },
      "source": [
        "X_train[0], y_train[0]"
      ],
      "execution_count": null,
      "outputs": [
        {
          "output_type": "execute_result",
          "data": {
            "text/plain": [
              "(array([ 25,  42, 872, 413,   0,   0,   0,   0,   0,   0,   0], dtype=int32),\n",
              " array([   1,  626, 1177,  426,   11,    2,    0,    0,    0,    0,    0,\n",
              "           0,    0,    0], dtype=int32))"
            ]
          },
          "metadata": {
            "tags": []
          },
          "execution_count": 98
        }
      ]
    },
    {
      "cell_type": "code",
      "metadata": {
        "id": "jkZBXBgrKU2X"
      },
      "source": [
        "X_train = np.array(X_train)\n",
        "y_train = np.array(y_train)\n",
        "X_test = np.array(X_test)\n",
        "y_test = np.array(y_test)"
      ],
      "execution_count": null,
      "outputs": []
    },
    {
      "cell_type": "code",
      "metadata": {
        "colab": {
          "base_uri": "https://localhost:8080/"
        },
        "id": "eJ4-JqNcKnE-",
        "outputId": "b97f9090-43f4-49ca-fab5-5f240a308a87"
      },
      "source": [
        "X_train[0], y_train[0]"
      ],
      "execution_count": null,
      "outputs": [
        {
          "output_type": "execute_result",
          "data": {
            "text/plain": [
              "(array([ 25,  42, 872, 413,   0,   0,   0,   0,   0,   0,   0], dtype=int32),\n",
              " array([   1,  626, 1177,  426,   11,    2,    0,    0,    0,    0,    0,\n",
              "           0,    0,    0], dtype=int32))"
            ]
          },
          "metadata": {
            "tags": []
          },
          "execution_count": 100
        }
      ]
    },
    {
      "cell_type": "markdown",
      "metadata": {
        "id": "gExrlab1Ot4F"
      },
      "source": [
        "## Encoder-Decoder Architecture"
      ]
    },
    {
      "cell_type": "code",
      "metadata": {
        "colab": {
          "base_uri": "https://localhost:8080/"
        },
        "id": "LABJfJNZMmxt",
        "outputId": "19922f9d-5328-400a-8594-097392e0fa37"
      },
      "source": [
        "from keras import backend as K \n",
        "K.clear_session() \n",
        "latent_dim = 500 \n",
        "\n",
        "# Encoder \n",
        "encoder_inputs = Input(shape=(max_length_english,)) \n",
        "enc_emb = Embedding(vocab_size_source, latent_dim,trainable=True)(encoder_inputs) \n",
        "\n",
        "#LSTM 1 \n",
        "encoder_lstm1 = LSTM(latent_dim,return_sequences=True,return_state=True) \n",
        "encoder_output1, state_h1, state_c1 = encoder_lstm1(enc_emb) \n",
        "\n",
        "#LSTM 2 \n",
        "encoder_lstm2 = LSTM(latent_dim,return_sequences=True,return_state=True) \n",
        "encoder_output2, state_h2, state_c2 = encoder_lstm2(encoder_output1) \n",
        "\n",
        "#LSTM 3 \n",
        "encoder_lstm3=LSTM(latent_dim, return_state=True, return_sequences=True) \n",
        "encoder_outputs, state_h, state_c= encoder_lstm3(encoder_output2) \n",
        "\n",
        "# Set up the decoder. \n",
        "decoder_inputs = Input(shape=(None,)) \n",
        "dec_emb_layer = Embedding(vocab_size_target, latent_dim,trainable=True) \n",
        "dec_emb = dec_emb_layer(decoder_inputs) \n",
        "\n",
        "#LSTM using encoder_states as initial state\n",
        "decoder_lstm = LSTM(latent_dim, return_sequences=True, return_state=True) \n",
        "decoder_outputs,decoder_fwd_state, decoder_back_state = decoder_lstm(dec_emb,initial_state=[state_h, state_c]) \n",
        "\n",
        "#Attention Layer\n",
        "attn_layer = AttentionLayer(name='attention_layer') \n",
        "attn_out, attn_states = attn_layer([encoder_outputs, decoder_outputs]) \n",
        "\n",
        "# Concat attention output and decoder LSTM output \n",
        "decoder_concat_input = Concatenate(axis=-1, name='concat_layer')([decoder_outputs, attn_out])\n",
        "\n",
        "#Dense layer\n",
        "decoder_dense = TimeDistributed(Dense(vocab_size_target, activation='softmax')) \n",
        "decoder_outputs = decoder_dense(decoder_concat_input) \n",
        "\n",
        "# Define the model\n",
        "model = Model([encoder_inputs, decoder_inputs], decoder_outputs) \n",
        "model.summary()"
      ],
      "execution_count": null,
      "outputs": [
        {
          "output_type": "stream",
          "text": [
            "Model: \"model\"\n",
            "__________________________________________________________________________________________________\n",
            "Layer (type)                    Output Shape         Param #     Connected to                     \n",
            "==================================================================================================\n",
            "input_1 (InputLayer)            [(None, 11)]         0                                            \n",
            "__________________________________________________________________________________________________\n",
            "embedding (Embedding)           (None, 11, 500)      2297500     input_1[0][0]                    \n",
            "__________________________________________________________________________________________________\n",
            "lstm (LSTM)                     [(None, 11, 500), (N 2002000     embedding[0][0]                  \n",
            "__________________________________________________________________________________________________\n",
            "input_2 (InputLayer)            [(None, None)]       0                                            \n",
            "__________________________________________________________________________________________________\n",
            "lstm_1 (LSTM)                   [(None, 11, 500), (N 2002000     lstm[0][0]                       \n",
            "__________________________________________________________________________________________________\n",
            "embedding_1 (Embedding)         (None, None, 500)    5273500     input_2[0][0]                    \n",
            "__________________________________________________________________________________________________\n",
            "lstm_2 (LSTM)                   [(None, 11, 500), (N 2002000     lstm_1[0][0]                     \n",
            "__________________________________________________________________________________________________\n",
            "lstm_3 (LSTM)                   [(None, None, 500),  2002000     embedding_1[0][0]                \n",
            "                                                                 lstm_2[0][1]                     \n",
            "                                                                 lstm_2[0][2]                     \n",
            "__________________________________________________________________________________________________\n",
            "attention_layer (AttentionLayer ((None, None, 500),  500500      lstm_2[0][0]                     \n",
            "                                                                 lstm_3[0][0]                     \n",
            "__________________________________________________________________________________________________\n",
            "concat_layer (Concatenate)      (None, None, 1000)   0           lstm_3[0][0]                     \n",
            "                                                                 attention_layer[0][0]            \n",
            "__________________________________________________________________________________________________\n",
            "time_distributed (TimeDistribut (None, None, 10547)  10557547    concat_layer[0][0]               \n",
            "==================================================================================================\n",
            "Total params: 26,637,047\n",
            "Trainable params: 26,637,047\n",
            "Non-trainable params: 0\n",
            "__________________________________________________________________________________________________\n"
          ],
          "name": "stdout"
        }
      ]
    },
    {
      "cell_type": "markdown",
      "metadata": {
        "id": "Ywxk88n9O9fc"
      },
      "source": [
        "### Building Model"
      ]
    },
    {
      "cell_type": "code",
      "metadata": {
        "id": "BFANNvJuN2Dc"
      },
      "source": [
        "model.compile(optimizer='rmsprop', loss='sparse_categorical_crossentropy', metrics=['accuracy'])"
      ],
      "execution_count": null,
      "outputs": []
    },
    {
      "cell_type": "code",
      "metadata": {
        "id": "AJLBBzNgNevf"
      },
      "source": [
        "es = EarlyStopping(monitor='val_loss', mode='min', verbose=1) # for ovoiding Overtraining in our model  "
      ],
      "execution_count": null,
      "outputs": []
    },
    {
      "cell_type": "code",
      "metadata": {
        "colab": {
          "base_uri": "https://localhost:8080/"
        },
        "id": "X_65vQcaNBCj",
        "outputId": "ec5a2819-1e0e-4b68-bf52-f83b024c6778"
      },
      "source": [
        "history = model.fit([X_train, y_train[:,:-1]], y_train.reshape(y_train.shape[0], y_train.shape[1],1)[:,1:], \n",
        "                    epochs=50, \n",
        "                    callbacks=[es],\n",
        "                    batch_size=512,\n",
        "                    validation_data = ([X_test, y_test[:,:-1]], y_test.reshape(y_test.shape[0], y_test.shape[1], 1)[:,1:]))"
      ],
      "execution_count": null,
      "outputs": [
        {
          "output_type": "stream",
          "text": [
            "Epoch 1/50\n",
            "57/57 [==============================] - 31s 444ms/step - loss: 3.8232 - accuracy: 0.5553 - val_loss: 2.2566 - val_accuracy: 0.6790\n",
            "Epoch 2/50\n",
            "57/57 [==============================] - 24s 427ms/step - loss: 2.3151 - accuracy: 0.6709 - val_loss: 2.0420 - val_accuracy: 0.6939\n",
            "Epoch 3/50\n",
            "57/57 [==============================] - 23s 413ms/step - loss: 2.1024 - accuracy: 0.6854 - val_loss: 1.8942 - val_accuracy: 0.7071\n",
            "Epoch 4/50\n",
            "57/57 [==============================] - 24s 414ms/step - loss: 1.9366 - accuracy: 0.6977 - val_loss: 1.8061 - val_accuracy: 0.7168\n",
            "Epoch 5/50\n",
            "57/57 [==============================] - 24s 419ms/step - loss: 1.7738 - accuracy: 0.7121 - val_loss: 1.6680 - val_accuracy: 0.7308\n",
            "Epoch 6/50\n",
            "57/57 [==============================] - 24s 418ms/step - loss: 1.6149 - accuracy: 0.7262 - val_loss: 1.5738 - val_accuracy: 0.7394\n",
            "Epoch 7/50\n",
            "57/57 [==============================] - 24s 415ms/step - loss: 1.4670 - accuracy: 0.7415 - val_loss: 1.4540 - val_accuracy: 0.7538\n",
            "Epoch 8/50\n",
            "57/57 [==============================] - 24s 415ms/step - loss: 1.3176 - accuracy: 0.7567 - val_loss: 1.3709 - val_accuracy: 0.7643\n",
            "Epoch 9/50\n",
            "57/57 [==============================] - 24s 415ms/step - loss: 1.1929 - accuracy: 0.7716 - val_loss: 1.3065 - val_accuracy: 0.7709\n",
            "Epoch 10/50\n",
            "57/57 [==============================] - 24s 413ms/step - loss: 1.0738 - accuracy: 0.7869 - val_loss: 1.2563 - val_accuracy: 0.7773\n",
            "Epoch 11/50\n",
            "57/57 [==============================] - 23s 413ms/step - loss: 0.9668 - accuracy: 0.8008 - val_loss: 1.2020 - val_accuracy: 0.7849\n",
            "Epoch 12/50\n",
            "57/57 [==============================] - 23s 412ms/step - loss: 0.8651 - accuracy: 0.8165 - val_loss: 1.1493 - val_accuracy: 0.7915\n",
            "Epoch 13/50\n",
            "57/57 [==============================] - 23s 410ms/step - loss: 0.7741 - accuracy: 0.8319 - val_loss: 1.1211 - val_accuracy: 0.7975\n",
            "Epoch 14/50\n",
            "57/57 [==============================] - 23s 410ms/step - loss: 0.6907 - accuracy: 0.8453 - val_loss: 1.0729 - val_accuracy: 0.8044\n",
            "Epoch 15/50\n",
            "57/57 [==============================] - 23s 409ms/step - loss: 0.6164 - accuracy: 0.8598 - val_loss: 1.0447 - val_accuracy: 0.8107\n",
            "Epoch 16/50\n",
            "57/57 [==============================] - 23s 408ms/step - loss: 0.5476 - accuracy: 0.8727 - val_loss: 1.0198 - val_accuracy: 0.8142\n",
            "Epoch 17/50\n",
            "57/57 [==============================] - 23s 409ms/step - loss: 0.4917 - accuracy: 0.8853 - val_loss: 0.9927 - val_accuracy: 0.8191\n",
            "Epoch 18/50\n",
            "57/57 [==============================] - 23s 409ms/step - loss: 0.4353 - accuracy: 0.8968 - val_loss: 0.9743 - val_accuracy: 0.8232\n",
            "Epoch 19/50\n",
            "57/57 [==============================] - 23s 409ms/step - loss: 0.3781 - accuracy: 0.9099 - val_loss: 0.9632 - val_accuracy: 0.8266\n",
            "Epoch 20/50\n",
            "57/57 [==============================] - 23s 407ms/step - loss: 0.3377 - accuracy: 0.9195 - val_loss: 0.9498 - val_accuracy: 0.8291\n",
            "Epoch 21/50\n",
            "57/57 [==============================] - 23s 405ms/step - loss: 0.2985 - accuracy: 0.9273 - val_loss: 0.9386 - val_accuracy: 0.8327\n",
            "Epoch 22/50\n",
            "57/57 [==============================] - 23s 406ms/step - loss: 0.2628 - accuracy: 0.9352 - val_loss: 0.9273 - val_accuracy: 0.8360\n",
            "Epoch 23/50\n",
            "57/57 [==============================] - 23s 407ms/step - loss: 0.2352 - accuracy: 0.9410 - val_loss: 0.9284 - val_accuracy: 0.8356\n",
            "Epoch 00023: early stopping\n"
          ],
          "name": "stdout"
        }
      ]
    },
    {
      "cell_type": "code",
      "metadata": {
        "colab": {
          "base_uri": "https://localhost:8080/"
        },
        "id": "RVIwf9GPOTia",
        "outputId": "ea09f36c-c7fd-4352-dab1-06074c364854"
      },
      "source": [
        "# saving the model\n",
        "model_json = model.to_json()\n",
        "with open(\"NMT_model.json\", \"w\") as json_file:\n",
        "    json_file.write(model_json)\n",
        "# serialize weights to HDF5\n",
        "model.save_weights(\"NMT_model_weight.h5\")\n",
        "print(\"Saved model to disk\")"
      ],
      "execution_count": null,
      "outputs": [
        {
          "output_type": "stream",
          "text": [
            "Saved model to disk\n"
          ],
          "name": "stdout"
        }
      ]
    },
    {
      "cell_type": "code",
      "metadata": {
        "id": "ENT-k_uPRtxK"
      },
      "source": [
        "# loading the model architecture and asigning the weights\n",
        "json_file = open('NMT_model.json', 'r')\n",
        "loaded_model_json = json_file.read()\n",
        "json_file.close()\n",
        "model_loaded = model_from_json(loaded_model_json, custom_objects={'AttentionLayer': AttentionLayer})\n",
        "# load weights into new model\n",
        "model_loaded.load_weights(\"NMT_model_weight.h5\")"
      ],
      "execution_count": null,
      "outputs": []
    },
    {
      "cell_type": "code",
      "metadata": {
        "id": "5upjUHyaSEsU"
      },
      "source": [
        "with open('NMT_Etokenizer.pkl','rb') as f:\n",
        "    vocab_size_source, Eword2index, englishTokenizer = pkl.load(f)\n",
        "\n",
        "with open('NMT_Mtokenizer.pkl', 'rb') as f:\n",
        "    vocab_size_target, Mword2index, marathiTokenizer = pkl.load(f)\n",
        "\n",
        "with open('NMT_data.pkl','rb') as f:\n",
        "    X_train, y_train, X_test, y_test = pkl.load(f)"
      ],
      "execution_count": null,
      "outputs": []
    },
    {
      "cell_type": "code",
      "metadata": {
        "id": "0VIhrLXeSWbV"
      },
      "source": [
        "# vector to word\n",
        "Eindex2word = englishTokenizer.index_word\n",
        "Mindex2word = marathiTokenizer.index_word"
      ],
      "execution_count": null,
      "outputs": []
    },
    {
      "cell_type": "code",
      "metadata": {
        "colab": {
          "base_uri": "https://localhost:8080/"
        },
        "id": "LkquFI06gMQ0",
        "outputId": "686437a8-041b-4dfe-9674-6544e56d3f84"
      },
      "source": [
        "model_loaded.summary()"
      ],
      "execution_count": null,
      "outputs": [
        {
          "output_type": "stream",
          "text": [
            "Model: \"model\"\n",
            "__________________________________________________________________________________________________\n",
            "Layer (type)                    Output Shape         Param #     Connected to                     \n",
            "==================================================================================================\n",
            "input_1 (InputLayer)            [(None, 11)]         0                                            \n",
            "__________________________________________________________________________________________________\n",
            "embedding (Embedding)           (None, 11, 500)      2297500     input_1[0][0]                    \n",
            "__________________________________________________________________________________________________\n",
            "lstm (LSTM)                     [(None, 11, 500), (N 2002000     embedding[0][0]                  \n",
            "__________________________________________________________________________________________________\n",
            "input_2 (InputLayer)            [(None, None)]       0                                            \n",
            "__________________________________________________________________________________________________\n",
            "lstm_1 (LSTM)                   [(None, 11, 500), (N 2002000     lstm[0][0]                       \n",
            "__________________________________________________________________________________________________\n",
            "embedding_1 (Embedding)         (None, None, 500)    5273500     input_2[0][0]                    \n",
            "__________________________________________________________________________________________________\n",
            "lstm_2 (LSTM)                   [(None, 11, 500), (N 2002000     lstm_1[0][0]                     \n",
            "__________________________________________________________________________________________________\n",
            "lstm_3 (LSTM)                   [(None, None, 500),  2002000     embedding_1[0][0]                \n",
            "                                                                 lstm_2[0][1]                     \n",
            "                                                                 lstm_2[0][2]                     \n",
            "__________________________________________________________________________________________________\n",
            "attention_layer (AttentionLayer ((None, None, 500),  500500      lstm_2[0][0]                     \n",
            "                                                                 lstm_3[0][0]                     \n",
            "__________________________________________________________________________________________________\n",
            "concat_layer (Concatenate)      (None, None, 1000)   0           lstm_3[0][0]                     \n",
            "                                                                 attention_layer[0][0]            \n",
            "__________________________________________________________________________________________________\n",
            "time_distributed (TimeDistribut (None, None, 10547)  10557547    concat_layer[0][0]               \n",
            "==================================================================================================\n",
            "Total params: 26,637,047\n",
            "Trainable params: 26,637,047\n",
            "Non-trainable params: 0\n",
            "__________________________________________________________________________________________________\n"
          ],
          "name": "stdout"
        }
      ]
    },
    {
      "cell_type": "code",
      "metadata": {
        "colab": {
          "base_uri": "https://localhost:8080/"
        },
        "id": "93UwmPxwSg3s",
        "outputId": "b7725691-f8c2-49f2-b48a-60681cddb429"
      },
      "source": [
        "latent_dim=500\n",
        "# encoder inference\n",
        "encoder_inputs = model_loaded.input[0]  #loading encoder_inputs\n",
        "encoder_outputs, state_h, state_c = model_loaded.layers[6].output #loading encoder_outputs\n",
        "\n",
        "print(encoder_outputs.shape)\n",
        "\n",
        "encoder_model = Model(inputs=encoder_inputs,outputs=[encoder_outputs, state_h, state_c])\n",
        "\n",
        "# decoder inference\n",
        "# Below tensors will hold the states of the previous time step\n",
        "decoder_state_input_h = Input(shape=(latent_dim,))\n",
        "decoder_state_input_c = Input(shape=(latent_dim,))\n",
        "decoder_hidden_state_input = Input(shape=(11,latent_dim))\n",
        "\n",
        "# Get the embeddings of the decoder sequence\n",
        "decoder_inputs = model_loaded.layers[3].output\n",
        "\n",
        "print(decoder_inputs.shape)\n",
        "dec_emb_layer = model_loaded.layers[5]\n",
        "\n",
        "dec_emb2= dec_emb_layer(decoder_inputs)\n",
        "\n",
        "# To predict the next word in the sequence, set the initial states to the states from the previous time step\n",
        "decoder_lstm = model_loaded.layers[7]\n",
        "decoder_outputs2, state_h2, state_c2 = decoder_lstm(dec_emb2, initial_state=[decoder_state_input_h, decoder_state_input_c])\n",
        "\n",
        "#attention inference\n",
        "attn_layer = model_loaded.layers[8]\n",
        "attn_out_inf, attn_states_inf = attn_layer([decoder_hidden_state_input, decoder_outputs2])\n",
        "\n",
        "concate = model_loaded.layers[9]\n",
        "decoder_inf_concat = concate([decoder_outputs2, attn_out_inf])\n",
        "\n",
        "# A dense softmax layer to generate prob dist. over the target vocabulary\n",
        "decoder_dense = model_loaded.layers[10]\n",
        "decoder_outputs2 = decoder_dense(decoder_inf_concat)\n",
        "\n",
        "# Final decoder model\n",
        "decoder_model = Model(\n",
        "[decoder_inputs] + [decoder_hidden_state_input,decoder_state_input_h, decoder_state_input_c],\n",
        "[decoder_outputs2] + [state_h2, state_c2])"
      ],
      "execution_count": null,
      "outputs": [
        {
          "output_type": "stream",
          "text": [
            "(None, 11, 500)\n",
            "(None, None)\n"
          ],
          "name": "stdout"
        }
      ]
    },
    {
      "cell_type": "code",
      "metadata": {
        "id": "gjJnpHaLSraf"
      },
      "source": [
        "# function representing our predicted sequence (output)\n",
        "def decode_sequence(input_seq):\n",
        "    # Encode the input as state vectors.\n",
        "    e_out, e_h, e_c = encoder_model.predict(input_seq)\n",
        "\n",
        "    # Generate empty target sequence of length 1.\n",
        "    target_seq = np.zeros((1,1))\n",
        "\n",
        "    # Chose the 'start' word as the first word of the target sequence\n",
        "    target_seq[0, 0] = Mword2index['start']\n",
        "\n",
        "    stop_condition = False\n",
        "    decoded_sentence = ''\n",
        "    while not stop_condition:\n",
        "        output_tokens, h, c = decoder_model.predict([target_seq] + [e_out, e_h, e_c])\n",
        "\n",
        "        # Sample a token\n",
        "        sampled_token_index = np.argmax(output_tokens[0, -1, :])\n",
        "        if sampled_token_index == 0:\n",
        "            break\n",
        "        else:\n",
        "            sampled_token = Mindex2word[sampled_token_index]\n",
        "\n",
        "            if(sampled_token!='end'):\n",
        "                decoded_sentence += ' '+sampled_token\n",
        "\n",
        "              # Exit condition: either hit max length or find stop word.\n",
        "            if (sampled_token == 'end' or len(decoded_sentence.split()) >= (26-1)):\n",
        "                  stop_condition = True\n",
        "\n",
        "            # Update the target sequence (of length 1).\n",
        "            target_seq = np.zeros((1,1))\n",
        "            target_seq[0, 0] = sampled_token_index\n",
        "\n",
        "            # Update internal states\n",
        "            e_h, e_c = h, c\n",
        "\n",
        "    return decoded_sentence"
      ],
      "execution_count": null,
      "outputs": []
    },
    {
      "cell_type": "code",
      "metadata": {
        "id": "TOaWp74qTMl8"
      },
      "source": [
        "# function for Original Sequence\n",
        "def seq2summary(input_seq):\n",
        "    newString=''\n",
        "    for i in input_seq:\n",
        "        if((i!=0 and i!=Mword2index['start']) and i!=Mword2index['end']):\n",
        "            newString=newString+Mindex2word[i]+' '\n",
        "    return newString\n",
        "\n",
        "# function for English sequence (input)\n",
        "def seq2text(input_seq):\n",
        "    newString=''\n",
        "    for i in input_seq:\n",
        "        if(i!=0):\n",
        "            newString=newString+Eindex2word[i]+' '\n",
        "    return newString"
      ],
      "execution_count": null,
      "outputs": []
    },
    {
      "cell_type": "code",
      "metadata": {
        "colab": {
          "base_uri": "https://localhost:8080/"
        },
        "id": "IPE51LS4TB2D",
        "outputId": "2810e3f8-0d23-41a0-f38b-4813f040ce42"
      },
      "source": [
        "# printing our results \n",
        "for i in range(10):\n",
        "    print(\"Review:\",seq2text(X_test[i]))\n",
        "    print(\"Original summary:\",seq2summary(y_test[i]))\n",
        "    print(\"Predicted summary:\",decode_sequence(X_test[i].reshape(1,11)))\n",
        "    print(\"\\n\")"
      ],
      "execution_count": null,
      "outputs": [
        {
          "output_type": "stream",
          "text": [
            "Review: do you write love letters \n",
            "Original summary: तू प्रेमपत्र लिहितोस का \n",
            "Predicted summary:  तुम्ही प्रेमपत्र लिहिता का\n",
            "\n",
            "\n",
            "Review: its raining \n",
            "Original summary: पाऊस पडतोय \n",
            "Predicted summary:  पाऊस पडतोय\n",
            "\n",
            "\n",
            "Review: the police arrested the wrong man \n",
            "Original summary: पोलिसांनी चुकीच्या माणसाला अटक केली \n",
            "Predicted summary:  पोलिसांनी चोराला अटक केली\n",
            "\n",
            "\n",
            "Review: you can see the sea on your right \n",
            "Original summary: उजवीकडे तू समुद्र बघू शकतोस \n",
            "Predicted summary:  उजवीकडे तू समुद्र बघू शकतेस\n",
            "\n",
            "\n",
            "Review: hes a dj \n",
            "Original summary: तो डीजे आहे \n",
            "Predicted summary:  तो एक निन्जा आहे\n",
            "\n",
            "\n",
            "Review: tom is wearing glasses \n",
            "Original summary: टॉमने चष्मा घातला आहे \n",
            "Predicted summary:  टॉम खाली पडला आहे\n",
            "\n",
            "\n",
            "Review: where are we going today \n",
            "Original summary: आज आपण कुठे चाललो आहोत \n",
            "Predicted summary:  आज आपण कुठे चाललो आहोत\n",
            "\n",
            "\n",
            "Review: i want to become an actress \n",
            "Original summary: मला अभिनेत्री बनायचं आहे \n",
            "Predicted summary:  मला इंजिनियर बनायचं आहे\n",
            "\n",
            "\n",
            "Review: she cant find her hat \n",
            "Original summary: तिला तिची टोपी सापडत नाहीये \n",
            "Predicted summary:  त्यांना त्यांची टोपी सापडत नाहीये\n",
            "\n",
            "\n",
            "Review: how many letters are there in the alphabet \n",
            "Original summary: वर्णमालेत किती अक्षरं आहेत \n",
            "Predicted summary:  वर्णमालेत किती अक्षरं असतात\n",
            "\n",
            "\n"
          ],
          "name": "stdout"
        }
      ]
    },
    {
      "cell_type": "code",
      "metadata": {
        "id": "j299sBu-s4Kg"
      },
      "source": [
        ""
      ],
      "execution_count": null,
      "outputs": []
    }
  ]
}